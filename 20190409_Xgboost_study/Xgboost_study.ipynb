{
 "cells": [
  {
   "cell_type": "code",
   "execution_count": 1,
   "metadata": {},
   "outputs": [
    {
     "data": {
      "text/plain": [
       "'\\n@author: KM\\n@license: (C) Copyright 2013-2017, Node Supply Chain Manager Corporation Limited.\\n@contact: yangkm601@gmail.com\\n@software: garner\\n@file: Xgboost_study.ipynb\\n@time: 2019/4/9 9:44\\n@desc:  Xgboost算法\\n@url:  \\n'"
      ]
     },
     "execution_count": 1,
     "metadata": {},
     "output_type": "execute_result"
    }
   ],
   "source": [
    "#!/usr/bin/env python\n",
    "# encoding: utf-8\n",
    "'''\n",
    "@author: KM\n",
    "@license: (C) Copyright 2013-2017, Node Supply Chain Manager Corporation Limited.\n",
    "@contact: yangkm601@gmail.com\n",
    "@software: garner\n",
    "@file: Xgboost_study.ipynb\n",
    "@time: 2019/4/9 9:44\n",
    "@desc:  Xgboost算法\n",
    "@url:  \n",
    "'''"
   ]
  },
  {
   "cell_type": "markdown",
   "metadata": {},
   "source": [
    "## 一、Xgboost的离线安装\n",
    "\n",
    "### 方法1  [点击此处](https://www.lfd.uci.edu/~gohlke/pythonlibs/#xgboost),下载对应自己Python版本的网址。\n",
    "\n",
    "\n",
    "![Xgboost 下载](img/xgboost_download1.png)\n",
    "\n",
    "### 方法2 输入安装的方式\n",
    "\n",
    " ``` js\n",
    "   \n",
    " ``` \n",
    "> pip install xgboost-0.81-cp37-cp37m-win_amd64.whl\n",
    "\n",
    "\n",
    "![Xgboost 下载](img/xgboost_download2.png)\n"
   ]
  },
  {
   "cell_type": "markdown",
   "metadata": {},
   "source": [
    "## 二、Xgboost模型详解\n",
    "\n",
    "### 1. Xgboost 能加载的各种数据格式解析\n",
    "　\n",
    " Xgboost可以加载多种数据格式的训练数据：\n",
    "> libsvm 格式的文本数据；\n",
    "> Numpy 的二维数组；\n",
    "> XGBoost 的二进制的缓存文件。加载的数据存储在对象 DMatrix 中。\n",
    " \n",
    " 下面一一列举：\n",
    " \n",
    "**记载libsvm格式的数据**  \n",
    "> dtrain1 = xgb.DMatrix('train.svm.txt')\n",
    " \n",
    "**记载二进制的缓存文件**\n",
    "> dtrain2  = xgb.DMatrix('train.svm.buffer')\n",
    "\n",
    "**加载numpy的数组**\n",
    "> data = np.random.rand(5,10)           # 5行10列数据集\n",
    "> label = np.random.randint(2,size=5)      # 二分类目标值\n",
    "> dtrain = xgb.DMatrix(data,label=label)    # 组成训练集\n",
    "\n",
    "**将scipy.sparse格式的数据转化为Dmatrix格式**\n",
    "> csr = scipy.sparse.csr_matrix((dat,(row,col)))\n",
    "> dtrain = xgb.DMatrix( csr )\n",
    "\n",
    "**将Dmatrix格式的数据保存成Xgboost的二进制格式，在下次加载时可以提高加载速度，使用方法如下：**\n",
    "> dtrain = xgb.DMatrix('train.svm.txt')\n",
    "> dtrain.save_binary(\"train.buffer\")\n",
    "\n",
    "**可以使用如下方式处理DMatrix中的缺失值**\n",
    "> dtrain = xgb.DMatrix( data, label=label, missing = -999.0)\n",
    "\n",
    "**当需要给样本设置权重时，可以用如下方式：**\n",
    "> w = np.random.rand(5,1)\n",
    "> dtrain = xgb.DMatrix( data, label=label, missing = -999.0, weight=w)\n"
   ]
  },
  {
   "cell_type": "markdown",
   "metadata": {},
   "source": [
    "### 2 Xgboost的模型参数\n",
    "\n",
    "Xgboost的模型参数\n",
    "\n",
    "```python\n",
    "# xgboost模型\n",
    "params = {\n",
    "    'booster':'gbtree',\n",
    "    'objective':'multi:softmax',   # 多分类问题\n",
    "    'num_class':10,  # 类别数，与multi softmax并用\n",
    "    'gamma':0.1,    # 用于控制是否后剪枝的参数，越大越保守，一般0.1 0.2的样子\n",
    "    'max_depth':12,  # 构建树的深度，越大越容易过拟合\n",
    "    'lambda':2,  # 控制模型复杂度的权重值的L2 正则化项参数，参数越大，模型越不容易过拟合\n",
    "    'subsample':0.7, # 随机采样训练样本\n",
    "    'colsample_bytree':3,# 这个参数默认为1，是每个叶子里面h的和至少是多少\n",
    "    # 对于正负样本不均衡时的0-1分类而言，假设h在0.01附近，min_child_weight为1\n",
    "    #意味着叶子节点中最少需要包含100个样本。这个参数非常影响结果，\n",
    "    # 控制叶子节点中二阶导的和的最小值，该参数值越小，越容易过拟合\n",
    "    'silent':0,  # 设置成1 则没有运行信息输入，最好是设置成0\n",
    "    'eta':0.007,  # 如同学习率\n",
    "    'seed':1000,\n",
    "    'nthread':7,  #CPU线程数\n",
    "    #'eval_metric':'auc'\n",
    "}\n",
    "\n",
    "```\n",
    "\n",
    "在运行Xgboost之前，必须设置三种类型参数：general parameters，booster parameters和task parameters：\n",
    "\n",
    "**通用参数（General Parameters）**：该参数控制在提升（boosting）过程中使用哪种booster，常用的booster有树模型（tree）和线性模型（linear model）\n",
    "\n",
    "**Booster参数（Booster Parameters）**：这取决于使用哪种booster\n",
    "\n",
    "**学习目标参数（Task Parameters）**：控制学习的场景，例如在回归问题中会使用不同的参数控制排序\n"
   ]
  },
  {
   "cell_type": "markdown",
   "metadata": {},
   "source": [
    "#### 2.1 通用参数\n",
    "\n",
    "1. booster [default=gbtree] \n",
    "    \n",
    "    - 有两种模型可以选择gbtree和gblinear。gbtree使用基于树的模型进行提升计算，gblinear使用线性模型进行提升计算。缺省值为gbtree\n",
    "\n",
    "1. silent [default=0] \n",
    "\n",
    "    - 取0时表示打印出运行时信息，取1时表示以默认方式运行，不打印运行时的信息。缺省值为0\n",
    "    - 建议取0，过程中的输出数据有助于理解模型以及调参。另外实际上我设置其为1也通常无法缄默运行。\n",
    "    \n",
    "1. nthread [default to maximum number of threads available if not set] \n",
    "\n",
    "    - XGBoost运行时的线程数。缺省值是当前系统可以获得的最大线程数\n",
    "    - 如果你希望以最大速度运行，建议不设置这个参数，模型将自动获得最大线程\n",
    "    \n",
    "1. num_pbuffer [set automatically by xgboost, no need to be set by user] \n",
    "\n",
    "    - size of prediction buffer, normally set to number of training instances. The buffers are used to save the prediction results of last boosting step.\n",
    "    \n",
    "1. num_feature [set automatically by xgboost, no need to be set by user] \n",
    "\n",
    "    - boosting过程中用到的特征维数，设置为特征个数。XGBoost会自动设置，不需要手工设置\n"
   ]
  },
  {
   "cell_type": "markdown",
   "metadata": {},
   "source": [
    "#### 2.2 tree booster参数\n",
    "\n",
    "1. eta [default=0.3] \n",
    "\n",
    "    - 为了防止过拟合，更新过程中用到的收缩步长。在每次提升计算之后，算法会直接获得新特征的权重。 eta通过缩减特征的权重使提升计算过程更加保守。缺省值为0.3\n",
    "    - 取值范围为：[0,1]\n",
    "    - 通常最后设置eta为0.01~0.2\n",
    "    \n",
    "2. gamma [default=0] \n",
    "\n",
    "    - minimum loss reduction required to make a further partition on a leaf node of the tree. the larger, the more conservative the algorithm will be.\n",
    "    - range: [0,∞]\n",
    "    - 模型在默认情况下，对于一个节点的划分只有在其loss function 得到结果大于0的情况下才进行，而gamma 给定了所需的最低loss function的值\n",
    "    - gamma值使得算法更conservation，且其值依赖于loss function ，在模型中应该进行调参。\n",
    "    \n",
    "2. max_depth [default=6] \n",
    "\n",
    "    - 树的最大深度。缺省值为6\n",
    "    - 取值范围为：[1,∞]\n",
    "    - 指树的最大深度\n",
    "    - 树的深度越大，则对数据的拟合程度越高（过拟合程度也越高）。即该参数也是控制过拟合\n",
    "    - 建议通过交叉验证（xgb.cv ) 进行调参\n",
    "    - 通常取值：3-10\n",
    "\n",
    "2. min_child_weight [default=1] \n",
    "\n",
    "    - 孩子节点中最小的样本权重和。如果一个叶子节点的样本权重和小于min_child_weight则拆分过程结束。在现行回归模型中，这个参数是指建立每个模型所需要的最小样本数。该成熟越大算法越conservative。即调大这个参数能够控制过拟合。\n",
    "    - 取值范围为: [0,∞]\n",
    "    \n",
    "2. max_delta_step [default=0] \n",
    "\n",
    "    - Maximum delta step we allow each tree’s weight estimation to be. If the value is set to 0, it means there is no constraint. If it is set to a positive value, it can help making the update step more conservative. Usually this parameter is not needed, but it might help in logistic regression when class is extremely imbalanced. Set it to value of 1-10 might help control the update\n",
    "    - 取值范围为：[0,∞]\n",
    "    - 如果取值为0，那么意味着无限制。如果取为正数，则其使得xgboost更新过程更加保守。\n",
    "    - 通常不需要设置这个值，但在使用logistics 回归时，若类别极度不平衡，则调整该参数可能有效果    \n",
    "    \n",
    "2. subsample [default=1] \n",
    "\n",
    "    - 用于训练模型的子样本占整个样本集合的比例。如果设置为0.5则意味着XGBoost将随机的从整个样本集合中抽取出50%的子样本建立树模型，这能够防止过拟合。\n",
    "    - 取值范围为：(0,1]\n",
    "    \n",
    "2. colsample_bytree [default=1] \n",
    "\n",
    "    - 在建立树时对特征随机采样的比例。缺省值为1\n",
    "    - 取值范围：(0,1]\n",
    "    \n",
    "2. colsample_bylevel[default=1]\n",
    "\n",
    "    - 决定每次节点划分时子样例的比例\n",
    "    - 通常不使用，因为subsample和colsample_bytree已经可以起到相同的作用了\n",
    "    \n",
    "2. scale_pos_weight[default=0]\n",
    "\n",
    "    - A value greater than 0 can be used in case of high class imbalance as it helps in faster convergence.\n",
    "    - 大于0的取值可以处理类别不平衡的情况。帮助模型更快收敛"
   ]
  },
  {
   "cell_type": "markdown",
   "metadata": {},
   "source": [
    "#### 2.3 Linear Booster参数\n",
    "\n",
    "1. lambda [default=0] \n",
    "\n",
    "    - L2 正则的惩罚系数\n",
    "    - 用于处理XGBoost的正则化部分。通常不使用，但可以用来降低过拟合\n",
    "    \n",
    "3. alpha [default=0] \n",
    "\n",
    "    - L1 正则的惩罚系数\n",
    "    - 当数据维度极高时可以使用，使得算法运行更快。\n",
    "\n",
    "3. lambda_bias \n",
    "\n",
    "    - 在偏置上的L2正则。缺省值为0（在L1上没有偏置项的正则，因为L1时偏置不重要）"
   ]
  },
  {
   "cell_type": "markdown",
   "metadata": {},
   "source": [
    "#### 2.4 学习目标参数\n",
    "\n",
    "这个参数是来控制理想的优化目标和每一步结果的度量方法。\n",
    "\n",
    "1. objective [ default=reg:linear ] \n",
    "\n",
    "    - 定义学习任务及相应的学习目标，可选的目标函数如下：\n",
    "    - “reg:linear” –线性回归。\n",
    "    - “reg:logistic” –逻辑回归。\n",
    "    - “binary:logistic” –二分类的逻辑回归问题，输出为概率。\n",
    "    - “binary:logitraw” –二分类的逻辑回归问题，输出的结果为wTx。\n",
    "    - “count:poisson” –计数问题的poisson回归，输出结果为poisson分布。\n",
    "    - 在poisson回归中，max_delta_step的缺省值为0.7。(used to safeguard optimization)\n",
    "    - “multi:softmax” –让XGBoost采用softmax目标函数处理多分类问题，同时需要设置参数num_class（类别个数）\n",
    "    - “multi:softprob” –和softmax一样，但是输出的是ndata * nclass的向量，可以将该向量reshape成ndata行nclass列的矩阵。每行数据表示样本所属于每个类别的概率。\n",
    "    - “rank:pairwise” –set XGBoost to do ranking task by minimizing the pairwise loss\n",
    "\n",
    "2. base_score [ default=0.5 ] \n",
    "\n",
    "    - the initial prediction score of all instances, global bias\n",
    "\n",
    "3. eval_metric [ default according to objective ] \n",
    "\n",
    "    - 校验数据所需要的评价指标，不同的目标函数将会有缺省的评价指标（rmse for regression, and error for classification, mean average precision for ranking）\n",
    "    - 用户可以添加多种评价指标，对于Python用户要以list传递参数对给程序，而不是map参数list参数不会覆盖’eval_metric’\n",
    "    - The choices are listed below:\n",
    "    - “rmse”: root mean square error\n",
    "    - “logloss”: negative log-likelihood\n",
    "    - “error”: Binary classification error rate. It is calculated as #(wrong cases)/#(all cases). For the predictions, the evaluation will regard the instances with prediction value larger than 0.5 as positive instances, and the others as negative instances.\n",
    "    - “merror”: Multiclass classification error rate. It is calculated as #(wrong cases)/#(all cases).\n",
    "    - “mlogloss”: Multiclass logloss\n",
    "    - “auc”: Area under the curve for ranking evaluation.\n",
    "    - “ndcg”:Normalized Discounted Cumulative Gain\n",
    "    - “map”:Mean average precision\n",
    "    - “ndcg@n”,”map@n”: n can be assigned as an integer to cut off the top positions in the lists for evaluation.\n",
    "    - “ndcg-“,”map-“,”ndcg@n-“,”map@n-“: In XGBoost, NDCG and MAP will evaluate the score of a list without any positive samples as 1. By adding “-” in the evaluation metric XGBoost will evaluate these score as 0 to be consistent under some conditions. \n",
    "    - training repeatively\n",
    "    \n",
    "4. seed [ default=0 ] \n",
    "\n",
    "    - 随机数的种子。缺省值为0\n",
    "    - 可以用于产生可重复的结果（每次取一样的seed即可得到相同的随机划分）\n",
    "    ![loss](img/xgboost_loss.png)"
   ]
  },
  {
   "cell_type": "markdown",
   "metadata": {},
   "source": [
    "### 3 Xgboost基本方法和默认参数\n",
    "\n",
    "> xgboost.train(params,dtrain,num_boost_round=10,evals(),obj=None,\n",
    "> feval=None,maximize=False,early_stopping_rounds=None,evals_result=None,\n",
    "> verbose_eval=True,learning_rates=None,xgb_model=None)\n",
    "\n",
    "\n",
    "\n",
    "- parms：这是一个字典，里面包含着训练中的参数关键字和对应的值，形式是parms = {'booster':'gbtree','eta':0.1}\n",
    "- dtrain：训练的数据\n",
    "- num_boost_round：这是指提升迭代的个数\n",
    "- evals：这是一个列表，用于对训练过程中进行评估列表中的元素。形式是evals = [(dtrain,'train'),(dval,'val')] 或者是 evals =[(dtrain,'train')] ，对于第一种情况，它使得我们可以在训练过程中观察验证集的效果。\n",
    "- obj ：自定义目的函数\n",
    "- feval：自定义评估函数\n",
    "- maximize：是否对评估函数进行最大化\n",
    "- early_stopping_rounds：早起停止次数，假设为100，验证集的误差迭代到一定程度在100次内不能再继续降低，就停止迭代。这要求evals里至少有一个元素，如果有多个，按照最后一个去执行。返回的是最后的迭代次数（不是最好的）。如果early_stopping_rounds存在，则模型会生成三个属性，bst.best_score ,bst.best_iteration和bst.best_ntree_limit\n",
    "- evals_result：字典，存储在watchlist中的元素的评估结果\n",
    "- verbose_eval（可以输入布尔型或者数值型）：也要求evals里至少有一个元素，如果为True，则对evals中元素的评估结果会输出在结果中；如果输入数字，假设为5，则每隔5个迭代输出一次。\n",
    "- learning_rates：每一次提升的学习率的列表\n",
    "- xgb_model：在训练之前用于加载的xgb_model"
   ]
  },
  {
   "cell_type": "markdown",
   "metadata": {},
   "source": [
    "### 4.模型训练\n",
    "\n",
    "有了参数列表和数据就可以训练模型了\n",
    "\n",
    "> num_round = 10\n",
    ">\n",
    "> bst = xgb.train( plst, dtrain, num_round, evallist )"
   ]
  },
  {
   "cell_type": "markdown",
   "metadata": {},
   "source": [
    "### 5. 模型预测\n",
    "\n",
    ">#X_test类型可以是二维List，也可以是numpy的数组 \n",
    ">\n",
    ">dtest = DMatrix(X_test)\n",
    ">\n",
    ">ans = model.predict(dtest) \n"
   ]
  },
  {
   "cell_type": "markdown",
   "metadata": {},
   "source": [
    "### 6.保存模型\n",
    "\n",
    "　　在训练完成之后可以将模型保存下来，也可以查看模型内部的结构\n",
    "  \n",
    "  > bst.save_model('test.model')\n",
    "  \n",
    "   导出模型和特征映射（Map）\n",
    "\n",
    "　　你可以导出模型到txt文件并浏览模型的含义：\n",
    "  \n",
    "  > #导出模型到文件\n",
    "  >\n",
    "  >bst.dump_model('dump.raw.txt')\n",
    "  >\n",
    "  > #导出模型和特征映射\n",
    "  >\n",
    "  >bst.dump_model('dump.raw.txt','featmap.txt')"
   ]
  },
  {
   "cell_type": "markdown",
   "metadata": {},
   "source": [
    "### 7.加载模型\n",
    "\n",
    "通过如下方式可以加载模型\n",
    "\n",
    "> bst = xgb.Booster({'nthread':4})  # init model\n",
    ">\n",
    "> bst.load_model(\"model.bin\")     # load data"
   ]
  },
  {
   "cell_type": "markdown",
   "metadata": {},
   "source": [
    "## 三、Xgboost实战\n",
    "\n",
    "Xgboost有两大类接口：Xgboost原生接口 和sklearn接口，并且Xgboost能够实现分类回归两种任务。下面对这四种情况做以解析。\n",
    "\n",
    "### 1. 基于Xgboost原生接口的分类\n"
   ]
  },
  {
   "cell_type": "code",
   "execution_count": 4,
   "metadata": {},
   "outputs": [
    {
     "name": "stdout",
     "output_type": "stream",
     "text": [
      "accuarcy:93.33%\n"
     ]
    },
    {
     "data": {
      "image/png": "[encoded data removed]",
      "text/plain": [
       "<Figure size 432x288 with 1 Axes>"
      ]
     },
     "metadata": {
      "needs_background": "light"
     },
     "output_type": "display_data"
    }
   ],
   "source": [
    "from sklearn.datasets import load_iris\n",
    "import xgboost as xgb\n",
    "from xgboost import plot_importance\n",
    "import matplotlib.pyplot  as plt\n",
    "from sklearn.model_selection import train_test_split\n",
    "from sklearn.metrics import accuracy_score  # 准确率\n",
    " \n",
    "# 记载样本数据集\n",
    "iris = load_iris()\n",
    "X,y = iris.data,iris.target\n",
    "# 数据集分割\n",
    "X_train,X_test,y_train,y_test = train_test_split(X,y,test_size=0.2,random_state=123457)\n",
    " \n",
    "# 算法参数\n",
    "params = {\n",
    "    'booster':'gbtree',\n",
    "    'objective':'multi:softmax',\n",
    "    'num_class':3,\n",
    "    'gamma':0.1,\n",
    "    'max_depth':6,\n",
    "    'lambda':2,\n",
    "    'subsample':0.7,\n",
    "    'colsample_bytree':0.7,\n",
    "    'min_child_weight':3,\n",
    "    'slient':1,\n",
    "    'eta':0.1,\n",
    "    'seed':1000,\n",
    "    'nthread':4,\n",
    "}\n",
    " \n",
    "plst = params.items()\n",
    " \n",
    "# 生成数据集格式\n",
    "dtrain = xgb.DMatrix(X_train,y_train)\n",
    "num_rounds = 500\n",
    "# xgboost模型训练\n",
    "model = xgb.train(plst,dtrain,num_rounds)\n",
    " \n",
    "# 对测试集进行预测\n",
    "dtest = xgb.DMatrix(X_test)\n",
    "y_pred = model.predict(dtest)\n",
    " \n",
    "# 计算准确率\n",
    "accuracy = accuracy_score(y_test,y_pred)\n",
    "print('accuarcy:%.2f%%'%(accuracy*100))\n",
    " \n",
    "# 显示重要特征\n",
    "plot_importance(model)\n",
    "plt.show()"
   ]
  },
  {
   "cell_type": "markdown",
   "metadata": {},
   "source": [
    "### 2. 基于Xgboost原生接口的回归\n"
   ]
  },
  {
   "cell_type": "code",
   "execution_count": 5,
   "metadata": {},
   "outputs": [
    {
     "data": {
      "image/png": "[encoded data removed]",
      "text/plain": [
       "<Figure size 432x288 with 1 Axes>"
      ]
     },
     "metadata": {
      "needs_background": "light"
     },
     "output_type": "display_data"
    }
   ],
   "source": [
    "import xgboost as xgb\n",
    "from xgboost import plot_importance\n",
    "from matplotlib import pyplot as plt\n",
    "from sklearn.model_selection import train_test_split\n",
    "from sklearn.datasets import load_boston\n",
    "from sklearn.metrics import mean_squared_error\n",
    " \n",
    "# 加载数据集,此数据集时做回归的\n",
    "boston = load_boston()\n",
    "X,y = boston.data,boston.target\n",
    " \n",
    "# Xgboost训练过程\n",
    "X_train,X_test,y_train,y_test = train_test_split(X,y,test_size=0.2,random_state=0)\n",
    " \n",
    "# 算法参数\n",
    "params = {\n",
    "    'booster':'gbtree',\n",
    "    'objective':'reg:gamma',\n",
    "    'gamma':0.1,\n",
    "    'max_depth':5,\n",
    "    'lambda':3,\n",
    "    'subsample':0.7,\n",
    "    'colsample_bytree':0.7,\n",
    "    'min_child_weight':3,\n",
    "    'slient':1,\n",
    "    'eta':0.1,\n",
    "    'seed':1000,\n",
    "    'nthread':4,\n",
    "}\n",
    " \n",
    "dtrain = xgb.DMatrix(X_train,y_train)\n",
    "num_rounds = 300\n",
    "plst = params.items()\n",
    "model = xgb.train(plst,dtrain,num_rounds)\n",
    " \n",
    "# 对测试集进行预测\n",
    "dtest = xgb.DMatrix(X_test)\n",
    "ans = model.predict(dtest)\n",
    " \n",
    "# 显示重要特征\n",
    "plot_importance(model)\n",
    "plt.show()"
   ]
  },
  {
   "cell_type": "markdown",
   "metadata": {},
   "source": [
    "### 3. Xgboost使用sklearn接口的分类（推荐）"
   ]
  },
  {
   "cell_type": "code",
   "execution_count": 6,
   "metadata": {},
   "outputs": [],
   "source": [
    "# XGBClassifier\n",
    "from xgboost.sklearn import XGBClassifier\n",
    " \n",
    "clf = XGBClassifier(\n",
    "    silent=0,  # 设置成1则没有运行信息输出，最好是设置为0，是否在运行升级时打印消息\n",
    "    # nthread = 4  # CPU 线程数 默认最大\n",
    "    learning_rate=0.3 , # 如同学习率\n",
    "    min_child_weight = 1,\n",
    "    # 这个参数默认为1，是每个叶子里面h的和至少是多少，对正负样本不均衡时的0-1分类而言\n",
    "    # 假设h在0.01附近，min_child_weight为1 意味着叶子节点中最少需要包含100个样本\n",
    "    # 这个参数非常影响结果，控制叶子节点中二阶导的和的最小值，该参数值越小，越容易过拟合\n",
    "    max_depth=6, # 构建树的深度，越大越容易过拟合\n",
    "    gamma = 0,# 树的叶子节点上做进一步分区所需的最小损失减少，越大越保守，一般0.1 0.2这样子\n",
    "    subsample=1, # 随机采样训练样本，训练实例的子采样比\n",
    "    max_delta_step=0,  # 最大增量步长，我们允许每个树的权重估计\n",
    "    colsample_bytree=1, # 生成树时进行的列采样\n",
    "    reg_lambda=1, #控制模型复杂度的权重值的L2正则化项参数，参数越大，模型越不容易过拟合\n",
    "    # reg_alpha=0, # L1正则项参数\n",
    "    # scale_pos_weight =1 # 如果取值大于0的话，在类别样本不平衡的情况下有助于快速收敛，平衡正负权重\n",
    "    # objective = 'multi:softmax', # 多分类问题，指定学习任务和响应的学习目标\n",
    "    # num_class = 10,  # 类别数，多分类与multisoftmax并用\n",
    "    n_estimators=100,  # 树的个数\n",
    "    seed = 1000,  # 随机种子\n",
    "    # eval_metric ='auc'\n",
    ")"
   ]
  },
  {
   "cell_type": "code",
   "execution_count": 7,
   "metadata": {},
   "outputs": [
    {
     "name": "stdout",
     "output_type": "stream",
     "text": [
      "accuracy:93%\n"
     ]
    },
    {
     "name": "stderr",
     "output_type": "stream",
     "text": [
      "d:\\progrom\\python\\python\\python3\\lib\\site-packages\\sklearn\\preprocessing\\label.py:151: DeprecationWarning: The truth value of an empty array is ambiguous. Returning False, but in future this will result in an error. Use `array.size > 0` to check that an array is not empty.\n",
      "  if diff:\n"
     ]
    },
    {
     "data": {
      "image/png": "[encoded data removed]",
      "text/plain": [
       "<Figure size 432x288 with 1 Axes>"
      ]
     },
     "metadata": {
      "needs_background": "light"
     },
     "output_type": "display_data"
    }
   ],
   "source": [
    "# 基于Sckit-learn接口的分类\n",
    "from sklearn.datasets import load_iris\n",
    "import xgboost as xgb\n",
    "from xgboost import plot_importance\n",
    "from matplotlib import pyplot as plt\n",
    "from sklearn.model_selection import train_test_split\n",
    "from sklearn.metrics import accuracy_score\n",
    " \n",
    "# 加载样本数据集\n",
    "iris = load_iris()\n",
    "X,y = iris.data,iris.target\n",
    "X_train,X_test,y_train,y_test = train_test_split(X,y,test_size=0.2,random_state=12343)\n",
    " \n",
    "# 训练模型\n",
    "model = xgb.XGBClassifier(max_depth=5,learning_rate=0.1,n_estimators=160,silent=True,objective='multi:softmax')\n",
    "model.fit(X_train,y_train)\n",
    " \n",
    "# 对测试集进行预测\n",
    "y_pred = model.predict(X_test)\n",
    " \n",
    "#计算准确率\n",
    "accuracy = accuracy_score(y_test,y_pred)\n",
    "print('accuracy:%2.f%%'%(accuracy*100))\n",
    " \n",
    "# 显示重要特征\n",
    "plot_importance(model)\n",
    "plt.show()"
   ]
  },
  {
   "cell_type": "markdown",
   "metadata": {},
   "source": [
    "### 4.基于Scikit-learn接口的回归"
   ]
  },
  {
   "cell_type": "code",
   "execution_count": 8,
   "metadata": {},
   "outputs": [
    {
     "data": {
      "image/png": "[encoded data removed]",
      "text/plain": [
       "<Figure size 432x288 with 1 Axes>"
      ]
     },
     "metadata": {
      "needs_background": "light"
     },
     "output_type": "display_data"
    }
   ],
   "source": [
    "import xgboost as xgb\n",
    "from xgboost import plot_importance\n",
    "from matplotlib import pyplot as plt\n",
    "from sklearn.model_selection import train_test_split\n",
    "from sklearn.datasets import load_boston\n",
    " \n",
    "# 导入数据集\n",
    "boston = load_boston()\n",
    "X ,y = boston.data,boston.target\n",
    " \n",
    "# Xgboost训练过程\n",
    "X_train,X_test,y_train,y_test = train_test_split(X,y,test_size=0.2,random_state=0)\n",
    " \n",
    "model = xgb.XGBRegressor(max_depth=5,learning_rate=0.1,n_estimators=160,silent=True,objective='reg:gamma')\n",
    "model.fit(X_train,y_train)\n",
    " \n",
    "# 对测试集进行预测\n",
    "ans = model.predict(X_test)\n",
    " \n",
    "# 显示重要特征\n",
    "plot_importance(model)\n",
    "plt.show()"
   ]
  },
  {
   "cell_type": "markdown",
   "metadata": {},
   "source": [
    "### 5.整理代码1（原生XGB）\n"
   ]
  },
  {
   "cell_type": "code",
   "execution_count": 10,
   "metadata": {},
   "outputs": [
    {
     "name": "stdout",
     "output_type": "stream",
     "text": [
      "[0]\ttrain-rmse:1.12759\tval-rmse:1.11301\n",
      "Multiple eval metrics have been passed: 'val-rmse' will be used for early stopping.\n",
      "\n",
      "Will train until val-rmse hasn't improved in 100 rounds.\n",
      "[1]\ttrain-rmse:1.12464\tval-rmse:1.11037\n",
      "[2]\ttrain-rmse:1.12178\tval-rmse:1.10785\n",
      "[3]\ttrain-rmse:1.11892\tval-rmse:1.10527\n",
      "[4]\ttrain-rmse:1.11604\tval-rmse:1.10274\n",
      "[5]\ttrain-rmse:1.11336\tval-rmse:1.10033\n",
      "[6]\ttrain-rmse:1.11055\tval-rmse:1.09783\n",
      "[7]\ttrain-rmse:1.10777\tval-rmse:1.09537\n",
      "[8]\ttrain-rmse:1.10495\tval-rmse:1.0929\n",
      "[9]\ttrain-rmse:1.10219\tval-rmse:1.09047\n",
      "[10]\ttrain-rmse:1.09952\tval-rmse:1.08804\n",
      "[11]\ttrain-rmse:1.09683\tval-rmse:1.08564\n",
      "[12]\ttrain-rmse:1.09411\tval-rmse:1.08323\n",
      "[13]\ttrain-rmse:1.09148\tval-rmse:1.08083\n",
      "[14]\ttrain-rmse:1.08884\tval-rmse:1.07851\n",
      "[15]\ttrain-rmse:1.08631\tval-rmse:1.07626\n",
      "[16]\ttrain-rmse:1.0837\tval-rmse:1.07396\n",
      "[17]\ttrain-rmse:1.08118\tval-rmse:1.07173\n",
      "[18]\ttrain-rmse:1.07864\tval-rmse:1.06942\n",
      "[19]\ttrain-rmse:1.07607\tval-rmse:1.06712\n",
      "[20]\ttrain-rmse:1.07357\tval-rmse:1.06485\n",
      "[21]\ttrain-rmse:1.07112\tval-rmse:1.06269\n",
      "[22]\ttrain-rmse:1.06867\tval-rmse:1.06055\n",
      "[23]\ttrain-rmse:1.06618\tval-rmse:1.0584\n",
      "[24]\ttrain-rmse:1.06374\tval-rmse:1.05625\n",
      "[25]\ttrain-rmse:1.06126\tval-rmse:1.0541\n",
      "[26]\ttrain-rmse:1.05884\tval-rmse:1.05192\n",
      "[27]\ttrain-rmse:1.05648\tval-rmse:1.04984\n",
      "[28]\ttrain-rmse:1.05418\tval-rmse:1.04781\n",
      "[29]\ttrain-rmse:1.05191\tval-rmse:1.04577\n",
      "[30]\ttrain-rmse:1.04956\tval-rmse:1.04362\n",
      "[31]\ttrain-rmse:1.04728\tval-rmse:1.04167\n",
      "[32]\ttrain-rmse:1.04495\tval-rmse:1.03968\n",
      "[33]\ttrain-rmse:1.04273\tval-rmse:1.03776\n",
      "[34]\ttrain-rmse:1.04043\tval-rmse:1.03574\n",
      "[35]\ttrain-rmse:1.0382\tval-rmse:1.03381\n",
      "[36]\ttrain-rmse:1.03599\tval-rmse:1.03188\n",
      "[37]\ttrain-rmse:1.03379\tval-rmse:1.02992\n",
      "[38]\ttrain-rmse:1.03159\tval-rmse:1.028\n",
      "[39]\ttrain-rmse:1.02936\tval-rmse:1.02609\n",
      "[40]\ttrain-rmse:1.02721\tval-rmse:1.02417\n",
      "[41]\ttrain-rmse:1.02507\tval-rmse:1.0223\n",
      "[42]\ttrain-rmse:1.02294\tval-rmse:1.02043\n",
      "[43]\ttrain-rmse:1.02079\tval-rmse:1.01852\n",
      "[44]\ttrain-rmse:1.01863\tval-rmse:1.01665\n",
      "[45]\ttrain-rmse:1.01648\tval-rmse:1.01472\n",
      "[46]\ttrain-rmse:1.01439\tval-rmse:1.01288\n",
      "[47]\ttrain-rmse:1.01228\tval-rmse:1.01108\n",
      "[48]\ttrain-rmse:1.01025\tval-rmse:1.00936\n",
      "[49]\ttrain-rmse:1.00815\tval-rmse:1.00761\n",
      "[50]\ttrain-rmse:1.00607\tval-rmse:1.00575\n",
      "[51]\ttrain-rmse:1.004\tval-rmse:1.00405\n",
      "[52]\ttrain-rmse:1.00205\tval-rmse:1.00234\n",
      "[53]\ttrain-rmse:1\tval-rmse:1.00058\n",
      "[54]\ttrain-rmse:0.998046\tval-rmse:0.998875\n",
      "[55]\ttrain-rmse:0.99605\tval-rmse:0.997207\n",
      "[56]\ttrain-rmse:0.994106\tval-rmse:0.995496\n",
      "[57]\ttrain-rmse:0.992246\tval-rmse:0.993905\n",
      "[58]\ttrain-rmse:0.990321\tval-rmse:0.99232\n",
      "[59]\ttrain-rmse:0.988403\tval-rmse:0.990699\n",
      "[60]\ttrain-rmse:0.986503\tval-rmse:0.989092\n",
      "[61]\ttrain-rmse:0.984553\tval-rmse:0.987452\n",
      "[62]\ttrain-rmse:0.982688\tval-rmse:0.985821\n",
      "[63]\ttrain-rmse:0.980804\tval-rmse:0.98421\n",
      "[64]\ttrain-rmse:0.97902\tval-rmse:0.982689\n",
      "[65]\ttrain-rmse:0.977151\tval-rmse:0.981074\n",
      "[66]\ttrain-rmse:0.975251\tval-rmse:0.979437\n",
      "[67]\ttrain-rmse:0.973416\tval-rmse:0.977923\n",
      "[68]\ttrain-rmse:0.971585\tval-rmse:0.976389\n",
      "[69]\ttrain-rmse:0.969736\tval-rmse:0.974785\n",
      "[70]\ttrain-rmse:0.967933\tval-rmse:0.973282\n",
      "[71]\ttrain-rmse:0.966228\tval-rmse:0.971836\n",
      "[72]\ttrain-rmse:0.964448\tval-rmse:0.970321\n",
      "[73]\ttrain-rmse:0.962628\tval-rmse:0.968749\n",
      "[74]\ttrain-rmse:0.960834\tval-rmse:0.96724\n",
      "[75]\ttrain-rmse:0.959032\tval-rmse:0.965734\n",
      "[76]\ttrain-rmse:0.957276\tval-rmse:0.964272\n",
      "[77]\ttrain-rmse:0.955593\tval-rmse:0.962842\n",
      "[78]\ttrain-rmse:0.953885\tval-rmse:0.96137\n",
      "[79]\ttrain-rmse:0.952173\tval-rmse:0.959936\n",
      "[80]\ttrain-rmse:0.950558\tval-rmse:0.958552\n",
      "[81]\ttrain-rmse:0.948831\tval-rmse:0.957103\n",
      "[82]\ttrain-rmse:0.947174\tval-rmse:0.955655\n",
      "[83]\ttrain-rmse:0.945326\tval-rmse:0.954136\n",
      "[84]\ttrain-rmse:0.943639\tval-rmse:0.952776\n",
      "[85]\ttrain-rmse:0.94199\tval-rmse:0.951437\n",
      "[86]\ttrain-rmse:0.940364\tval-rmse:0.950095\n",
      "[87]\ttrain-rmse:0.938653\tval-rmse:0.948661\n",
      "[88]\ttrain-rmse:0.937086\tval-rmse:0.94734\n",
      "[89]\ttrain-rmse:0.935554\tval-rmse:0.946017\n",
      "[90]\ttrain-rmse:0.933914\tval-rmse:0.944709\n",
      "[91]\ttrain-rmse:0.932319\tval-rmse:0.943372\n",
      "[92]\ttrain-rmse:0.930744\tval-rmse:0.942053\n",
      "[93]\ttrain-rmse:0.929252\tval-rmse:0.940784\n",
      "[94]\ttrain-rmse:0.927659\tval-rmse:0.939444\n",
      "[95]\ttrain-rmse:0.926078\tval-rmse:0.93815\n",
      "[96]\ttrain-rmse:0.924499\tval-rmse:0.936862\n",
      "[97]\ttrain-rmse:0.922958\tval-rmse:0.935589\n",
      "[98]\ttrain-rmse:0.921457\tval-rmse:0.934366\n",
      "[99]\ttrain-rmse:0.919997\tval-rmse:0.933154\n",
      "best best_ntree_limit 100\n",
      "error=0.961167\n",
      "xgboost success! \n",
      " cost time: 2.1368043422698975 (s)......\n"
     ]
    }
   ],
   "source": [
    "from sklearn.model_selection import train_test_split\n",
    "from sklearn import metrics\n",
    "from  sklearn.datasets  import  make_hastie_10_2\n",
    "import xgboost as xgb\n",
    "#记录程序运行时间\n",
    "import time\n",
    "start_time = time.time()\n",
    "X, y = make_hastie_10_2(random_state=0)\n",
    "X_train, X_test, y_train, y_test = train_test_split(X, y, test_size=0.5, random_state=0)##test_size测试集合所占比例\n",
    "#xgb矩阵赋值\n",
    "xgb_train = xgb.DMatrix(X_train, label=y_train)\n",
    "xgb_test = xgb.DMatrix(X_test,label=y_test)\n",
    "##参数\n",
    "params={\n",
    "'booster':'gbtree',\n",
    "'silent':1 ,#设置成1则没有运行信息输出，最好是设置为0.\n",
    "#'nthread':7,# cpu 线程数 默认最大\n",
    "'eta': 0.007, # 如同学习率\n",
    "'min_child_weight':3,\n",
    "# 这个参数默认是 1，是每个叶子里面 h 的和至少是多少，对正负样本不均衡时的 0-1 分类而言\n",
    "#，假设 h 在 0.01 附近，min_child_weight 为 1 意味着叶子节点中最少需要包含 100 个样本。\n",
    "#这个参数非常影响结果，控制叶子节点中二阶导的和的最小值，该参数值越小，越容易 overfitting。\n",
    "'max_depth':6, # 构建树的深度，越大越容易过拟合\n",
    "'gamma':0.1,  # 树的叶子节点上作进一步分区所需的最小损失减少,越大越保守，一般0.1、0.2这样子。\n",
    "'subsample':0.7, # 随机采样训练样本\n",
    "'colsample_bytree':0.7, # 生成树时进行的列采样\n",
    "'lambda':2,  # 控制模型复杂度的权重值的L2正则化项参数，参数越大，模型越不容易过拟合。\n",
    "#'alpha':0, # L1 正则项参数\n",
    "#'scale_pos_weight':1, #如果取值大于0的话，在类别样本不平衡的情况下有助于快速收敛。\n",
    "#'objective': 'multi:softmax', #多分类的问题\n",
    "#'num_class':10, # 类别数，多分类与 multisoftmax 并用\n",
    "'seed':1000, #随机种子\n",
    "#'eval_metric': 'auc'\n",
    "}\n",
    "plst = list(params.items())\n",
    "num_rounds = 100 # 迭代次数\n",
    "watchlist = [(xgb_train, 'train'),(xgb_test, 'val')]\n",
    "  \n",
    "#训练模型并保存\n",
    "# early_stopping_rounds 当设置的迭代次数较大时，early_stopping_rounds 可在一定的迭代次数内准确率没有提升就停止训练\n",
    "model = xgb.train(plst, xgb_train, num_rounds, watchlist,early_stopping_rounds=100)\n",
    "#model.save_model('./model/xgb.model') # 用于存储训练出的模型\n",
    "print(\"best best_ntree_limit\",model.best_ntree_limit)\n",
    "y_pred = model.predict(xgb_test,ntree_limit=model.best_ntree_limit)\n",
    "print ('error=%f' % (  sum(1 for i in range(len(y_pred)) if int(y_pred[i]>0.5)!=y_test[i]) /float(len(y_pred)))) \n",
    "#输出运行时长\n",
    "cost_time = time.time()-start_time\n",
    "print(\"xgboost success!\",'\\n',\"cost time:\",cost_time,\"(s)......\")"
   ]
  },
  {
   "cell_type": "markdown",
   "metadata": {},
   "source": [
    "### 6. 整理代码2（XGB使用sklearn）"
   ]
  },
  {
   "cell_type": "code",
   "execution_count": 13,
   "metadata": {},
   "outputs": [
    {
     "name": "stdout",
     "output_type": "stream",
     "text": [
      "Accuracy : 0.9177\n"
     ]
    },
    {
     "name": "stderr",
     "output_type": "stream",
     "text": [
      "d:\\progrom\\python\\python\\python3\\lib\\site-packages\\sklearn\\preprocessing\\label.py:151: DeprecationWarning: The truth value of an empty array is ambiguous. Returning False, but in future this will result in an error. Use `array.size > 0` to check that an array is not empty.\n",
      "  if diff:\n"
     ]
    }
   ],
   "source": [
    "from sklearn.model_selection import train_test_split\n",
    "from sklearn import metrics\n",
    "from  sklearn.datasets  import  make_hastie_10_2\n",
    "from xgboost.sklearn import XGBClassifier\n",
    "X, y = make_hastie_10_2(random_state=0)\n",
    "X_train, X_test, y_train, y_test = train_test_split(X, y, test_size=0.5, random_state=0)##test_size测试集合所占比例\n",
    "clf = XGBClassifier(\n",
    "silent=0 ,#设置成1则没有运行信息输出，最好是设置为0.是否在运行升级时打印消息。\n",
    "#nthread=4,# cpu 线程数 默认最大\n",
    "learning_rate= 0.3, # 如同学习率\n",
    "min_child_weight=1,\n",
    "# 这个参数默认是 1，是每个叶子里面 h 的和至少是多少，对正负样本不均衡时的 0-1 分类而言\n",
    "#，假设 h 在 0.01 附近，min_child_weight 为 1 意味着叶子节点中最少需要包含 100 个样本。\n",
    "#这个参数非常影响结果，控制叶子节点中二阶导的和的最小值，该参数值越小，越容易 overfitting。\n",
    "max_depth=6, # 构建树的深度，越大越容易过拟合\n",
    "gamma=0,  # 树的叶子节点上作进一步分区所需的最小损失减少,越大越保守，一般0.1、0.2这样子。\n",
    "subsample=1, # 随机采样训练样本 训练实例的子采样比\n",
    "max_delta_step=0,#最大增量步长，我们允许每个树的权重估计。\n",
    "colsample_bytree=1, # 生成树时进行的列采样\n",
    "reg_lambda=1,  # 控制模型复杂度的权重值的L2正则化项参数，参数越大，模型越不容易过拟合。\n",
    "#reg_alpha=0, # L1 正则项参数\n",
    "#scale_pos_weight=1, #如果取值大于0的话，在类别样本不平衡的情况下有助于快速收敛。平衡正负权重\n",
    "#objective= 'multi:softmax', #多分类的问题 指定学习任务和相应的学习目标\n",
    "#num_class=10, # 类别数，多分类与 multisoftmax 并用\n",
    "n_estimators=100, #树的个数\n",
    "seed=1000 #随机种子\n",
    "#eval_metric= 'auc'\n",
    ")\n",
    "clf.fit(X_train,y_train,eval_metric='auc')\n",
    "#设置验证集合 verbose=False不打印过程\n",
    "clf.fit(X_train, y_train,eval_set=[(X_train, y_train), (X_test, y_test)],eval_metric='auc',verbose=False)\n",
    "#获取验证集合结果\n",
    "evals_result = clf.evals_result()\n",
    "y_true, y_pred = y_test, clf.predict(X_test)\n",
    "print(\"Accuracy : %.4g\" % metrics.accuracy_score(y_true, y_pred))\n",
    "#回归\n",
    "#m_regress = xgb.XGBRegressor(n_estimators=1000,seed=0)"
   ]
  },
  {
   "cell_type": "markdown",
   "metadata": {},
   "source": [
    "## 四、Xgboost参数调优的一般方法\n",
    "\n",
    "### 1. 调参步骤：\n",
    "\n",
    "　　1，选择较高的学习速率（learning rate）。一般情况下，学习速率的值为0.1.但是，对于不同的问题，理想的学习速率有时候会在0.05~0.3之间波动。选择对应于此学习速率的理想决策树数量。Xgboost有一个很有用的函数“cv”，这个函数可以在每一次迭代中使用交叉验证，并返回理想的决策树数量。\n",
    "\n",
    "　　2，对于给定的学习速率和决策树数量，进行决策树特定参数调优（max_depth , min_child_weight , gamma , subsample,colsample_bytree）在确定一棵树的过程中，我们可以选择不同的参数。\n",
    "\n",
    "　　3，Xgboost的正则化参数的调优。（lambda , alpha）。这些参数可以降低模型的复杂度，从而提高模型的表现。\n",
    "\n",
    "　　4，降低学习速率，确定理想参数。\n",
    "\n",
    "　　下面详细的进行这些操作。"
   ]
  },
  {
   "cell_type": "markdown",
   "metadata": {},
   "source": [
    "#### 第一步：确定学习速率和tree_based参数调优的估计器数目\n",
    "\n",
    "为了确定Boosting参数，我们要先给其他参数一个初始值。咱们先按照如下方法取值：\n",
    "\n",
    "1. max_depth = 5：这个参数的取值最好在3-10之间，我选的起始值为5，但是你可以选择其他的值。起始值在4-6之间都是不错的选择。\n",
    "2. min_child_weight = 1 ：这里选择了一个比较小的值，因为这是一个极不平衡的分类问题。因此，某些叶子节点下的值会比较小。\n",
    "3. gamma = 0 :起始值也可以选择其它比较小的值，在0.1到0.2之间就可以，这个参数后继也是要调整的。\n",
    "4. subsample,colsample_bytree = 0.8  这个是最常见的初始值了。典型值的范围在0.5-0.9之间。\n",
    "5. scale_pos_weight =1 这个值时因为类别十分不平衡。\n",
    "    \n",
    "　　注意，上面这些参数的值知识一个初始的估计值，后继需要调优。这里把学习速率就设成默认的0.1。然后用Xgboost中的cv函数来确定最佳的决策树数量。"
   ]
  },
  {
   "cell_type": "code",
   "execution_count": 14,
   "metadata": {},
   "outputs": [],
   "source": [
    "from xgboost import XGBClassifier\n",
    "xgb1 = XGBClassifier(\n",
    " learning_rate =0.1,\n",
    " n_estimators=1000,\n",
    " max_depth=5,\n",
    " min_child_weight=1,\n",
    " gamma=0,\n",
    " subsample=0.8,\n",
    " colsample_bytree=0.8,\n",
    " objective= 'binary:logistic',\n",
    " nthread=4,\n",
    " scale_pos_weight=1,\n",
    " seed=27)"
   ]
  },
  {
   "cell_type": "markdown",
   "metadata": {},
   "source": [
    "#### 第二步：max_depth和min_weight参数调优\n",
    "　　\n",
    "   我们先对这两个参数调优，是因为他们对最终结果有很大的影响。首先，我们先大范围地粗略参数，然后再小范围的微调。\n",
    "\n",
    "　　注意：在这一节我会进行高负荷的栅格搜索（grid search），这个过程大约需要15-30分钟甚至更久，具体取决于你系统的性能，你也可以根据自己系统的性能选择不同的值。\n",
    "\n",
    "　　网格搜索scoring = 'roc_auc' 只支持二分类，多分类需要修改scoring（默认支持多分类）"
   ]
  },
  {
   "cell_type": "code",
   "execution_count": 16,
   "metadata": {},
   "outputs": [
    {
     "ename": "IndentationError",
     "evalue": "unexpected indent (<ipython-input-16-755fc87ebf12>, line 6)",
     "output_type": "error",
     "traceback": [
      "\u001b[1;36m  File \u001b[1;32m\"<ipython-input-16-755fc87ebf12>\"\u001b[1;36m, line \u001b[1;32m6\u001b[0m\n\u001b[1;33m    'max_depth':[4,5,6],\u001b[0m\n\u001b[1;37m    ^\u001b[0m\n\u001b[1;31mIndentationError\u001b[0m\u001b[1;31m:\u001b[0m unexpected indent\n"
     ]
    }
   ],
   "source": [
    "param_test1 = {\n",
    "     'max_depth':range(3,10,2),\n",
    "     'min_child_weight':range(1,6,2)\n",
    "}\n",
    "#param_test2 = {\n",
    "     'max_depth':[4,5,6],\n",
    "     'min_child_weight':[4,5,6]\n",
    "}\n",
    "from sklearn import svm, grid_search, datasets\n",
    "from sklearn import grid_search\n",
    "gsearch1 = grid_search.GridSearchCV(\n",
    "estimator = XGBClassifier(\n",
    "learning_rate =0.1,\n",
    "n_estimators=140, max_depth=5,\n",
    "min_child_weight=1,\n",
    "gamma=0,\n",
    "subsample=0.8,\n",
    "colsample_bytree=0.8,\n",
    "objective= 'binary:logistic',\n",
    "nthread=4,\n",
    "scale_pos_weight=1,\n",
    "seed=27),\n",
    "param_grid = param_test1,\n",
    "scoring='roc_auc',\n",
    "n_jobs=4,\n",
    "iid=False,\n",
    "cv=5)\n",
    "gsearch1.fit(train[predictors],train[target])\n",
    "gsearch1.grid_scores_, gsearch1.best_params_,gsearch1.best_score_\n",
    "#网格搜索scoring='roc_auc'只支持二分类，多分类需要修改scoring(默认支持多分类)"
   ]
  },
  {
   "cell_type": "markdown",
   "metadata": {},
   "source": [
    "### 第三步：gamma参数调优\n",
    "\n",
    "　　在已经调整好其他参数的基础上，我们可以进行gamma参数的调优了。Gamma参数取值范围很大，这里我们设置为5，其实你也可以取更精确的gamma值。"
   ]
  },
  {
   "cell_type": "code",
   "execution_count": 17,
   "metadata": {},
   "outputs": [
    {
     "ename": "NameError",
     "evalue": "name 'GridSearchCV' is not defined",
     "output_type": "error",
     "traceback": [
      "\u001b[1;31m---------------------------------------------------------------------------\u001b[0m",
      "\u001b[1;31mNameError\u001b[0m                                 Traceback (most recent call last)",
      "\u001b[1;32m<ipython-input-17-765694b96ec0>\u001b[0m in \u001b[0;36m<module>\u001b[1;34m\u001b[0m\n\u001b[0;32m      3\u001b[0m }\n\u001b[0;32m      4\u001b[0m \u001b[1;33m\u001b[0m\u001b[0m\n\u001b[1;32m----> 5\u001b[1;33m gsearch3 = GridSearchCV(estimator = XGBClassifier( learning_rate =0.1,\n\u001b[0m\u001b[0;32m      6\u001b[0m  \u001b[0mn_estimators\u001b[0m\u001b[1;33m=\u001b[0m\u001b[1;36m140\u001b[0m\u001b[1;33m,\u001b[0m \u001b[0mmax_depth\u001b[0m\u001b[1;33m=\u001b[0m\u001b[1;36m4\u001b[0m\u001b[1;33m,\u001b[0m\u001b[0mmin_child_weight\u001b[0m\u001b[1;33m=\u001b[0m\u001b[1;36m6\u001b[0m\u001b[1;33m,\u001b[0m \u001b[0mgamma\u001b[0m\u001b[1;33m=\u001b[0m\u001b[1;36m0\u001b[0m\u001b[1;33m,\u001b[0m\u001b[1;33m\u001b[0m\u001b[0m\n\u001b[0;32m      7\u001b[0m \u001b[0msubsample\u001b[0m\u001b[1;33m=\u001b[0m\u001b[1;36m0.8\u001b[0m\u001b[1;33m,\u001b[0m \u001b[0mcolsample_bytree\u001b[0m\u001b[1;33m=\u001b[0m\u001b[1;36m0.8\u001b[0m\u001b[1;33m,\u001b[0m\u001b[0mobjective\u001b[0m\u001b[1;33m=\u001b[0m \u001b[1;34m'binary:logistic'\u001b[0m\u001b[1;33m,\u001b[0m\u001b[1;33m\u001b[0m\u001b[0m\n",
      "\u001b[1;31mNameError\u001b[0m: name 'GridSearchCV' is not defined"
     ]
    }
   ],
   "source": [
    "param_test3 = {\n",
    " 'gamma':[i/10.0 for i in range(0,5)]\n",
    "}\n",
    " \n",
    "gsearch3 = GridSearchCV(estimator = XGBClassifier( learning_rate =0.1,\n",
    " n_estimators=140, max_depth=4,min_child_weight=6, gamma=0,\n",
    "subsample=0.8, colsample_bytree=0.8,objective= 'binary:logistic',\n",
    "nthread=4, scale_pos_weight=1,seed=27),  param_grid = param_test3, scoring='roc_auc',n_jobs=4,iid=False, cv=5)\n",
    " \n",
    "gsearch3.fit(train[predictors],train[target])\n",
    " \n",
    "gsearch3.grid_scores_, gsearch3.best_params_, gsearch3.best_score_"
   ]
  },
  {
   "cell_type": "code",
   "execution_count": 18,
   "metadata": {},
   "outputs": [
    {
     "ename": "NameError",
     "evalue": "name 'GridSearchCV' is not defined",
     "output_type": "error",
     "traceback": [
      "\u001b[1;31m---------------------------------------------------------------------------\u001b[0m",
      "\u001b[1;31mNameError\u001b[0m                                 Traceback (most recent call last)",
      "\u001b[1;32m<ipython-input-18-60a6104a92c0>\u001b[0m in \u001b[0;36m<module>\u001b[1;34m\u001b[0m\n\u001b[0;32m      2\u001b[0m  \u001b[1;34m'gamma'\u001b[0m\u001b[1;33m:\u001b[0m\u001b[1;33m[\u001b[0m\u001b[0mi\u001b[0m\u001b[1;33m/\u001b[0m\u001b[1;36m10.0\u001b[0m \u001b[1;32mfor\u001b[0m \u001b[0mi\u001b[0m \u001b[1;32min\u001b[0m \u001b[0mrange\u001b[0m\u001b[1;33m(\u001b[0m\u001b[1;36m0\u001b[0m\u001b[1;33m,\u001b[0m\u001b[1;36m5\u001b[0m\u001b[1;33m)\u001b[0m\u001b[1;33m]\u001b[0m\u001b[1;33m\u001b[0m\u001b[0m\n\u001b[0;32m      3\u001b[0m }\n\u001b[1;32m----> 4\u001b[1;33m gsearch3 = GridSearchCV(\n\u001b[0m\u001b[0;32m      5\u001b[0m estimator = XGBClassifier(\n\u001b[0;32m      6\u001b[0m \u001b[0mlearning_rate\u001b[0m \u001b[1;33m=\u001b[0m\u001b[1;36m0.1\u001b[0m\u001b[1;33m,\u001b[0m\u001b[1;33m\u001b[0m\u001b[0m\n",
      "\u001b[1;31mNameError\u001b[0m: name 'GridSearchCV' is not defined"
     ]
    }
   ],
   "source": [
    "param_test3 = {\n",
    " 'gamma':[i/10.0 for i in range(0,5)]\n",
    "}\n",
    "gsearch3 = GridSearchCV(\n",
    "estimator = XGBClassifier(\n",
    "learning_rate =0.1,\n",
    "n_estimators=140,\n",
    "max_depth=4,\n",
    "min_child_weight=6,\n",
    "gamma=0,\n",
    "subsample=0.8,\n",
    "colsample_bytree=0.8,\n",
    "objective= 'binary:logistic',\n",
    "nthread=4,\n",
    "scale_pos_weight=1,\n",
    "seed=27),\n",
    "param_grid = param_test3,\n",
    "scoring='roc_auc',\n",
    "n_jobs=4,\n",
    "iid=False,\n",
    "cv=5)\n",
    "gsearch3.fit(train[predictors],train[target])\n",
    "gsearch3.grid_scores_, gsearch3.best_params_, gsearch3.best_score_"
   ]
  },
  {
   "cell_type": "markdown",
   "metadata": {},
   "source": [
    "#### 第四步：调整subsample 和 colsample_bytree参数\n",
    "\n",
    "　　尝试不同的subsample 和 colsample_bytree 参数。我们分两个阶段来进行这个步骤。这两个步骤都取0.6,0.7,0.8,0.9作为起始值。"
   ]
  },
  {
   "cell_type": "code",
   "execution_count": null,
   "metadata": {},
   "outputs": [],
   "source": [
    "#取0.6,0.7,0.8,0.9作为起始值\n",
    "param_test4 = {\n",
    " 'subsample':[i/10.0 for i in range(6,10)],\n",
    " 'colsample_bytree':[i/10.0 for i in range(6,10)]\n",
    "}\n",
    "  \n",
    "gsearch4 = GridSearchCV(\n",
    "estimator = XGBClassifier(\n",
    "learning_rate =0.1,\n",
    "n_estimators=177,\n",
    "max_depth=3,\n",
    "min_child_weight=4,\n",
    "gamma=0.1,\n",
    "subsample=0.8,\n",
    "colsample_bytree=0.8,\n",
    "objective= 'binary:logistic',\n",
    "nthread=4,\n",
    "scale_pos_weight=1,\n",
    "seed=27),\n",
    "param_grid = param_test4,\n",
    "scoring='roc_auc',\n",
    "n_jobs=4,\n",
    "iid=False,\n",
    "cv=5)\n",
    "gsearch4.fit(train[predictors],train[target])\n",
    "gsearch4.grid_scores_, gsearch4.best_params_, gsearch4.best_score_"
   ]
  },
  {
   "cell_type": "markdown",
   "metadata": {},
   "source": [
    "#### 第五步：正则化参数调优\n",
    "\n",
    "　　由于gamma函数提供了一种更加有效的降低过拟合的方法，大部分人很少会用到这个参数，但是我们可以尝试用一下这个参数。"
   ]
  },
  {
   "cell_type": "code",
   "execution_count": null,
   "metadata": {},
   "outputs": [],
   "source": [
    "param_test6 = {\n",
    " 'reg_alpha':[1e-5, 1e-2, 0.1, 1, 100]\n",
    "}\n",
    "gsearch6 = GridSearchCV(\n",
    "estimator = XGBClassifier(\n",
    "learning_rate =0.1,\n",
    "n_estimators=177,\n",
    "max_depth=4,\n",
    "min_child_weight=6,\n",
    "gamma=0.1,\n",
    "subsample=0.8,\n",
    "colsample_bytree=0.8,\n",
    "objective= 'binary:logistic',\n",
    "nthread=4,\n",
    "scale_pos_weight=1,\n",
    "seed=27),\n",
    "param_grid = param_test6,\n",
    "scoring='roc_auc',\n",
    "n_jobs=4,\n",
    "iid=False,\n",
    "cv=5)\n",
    "gsearch6.fit(train[predictors],train[target])\n",
    "gsearch6.grid_scores_, gsearch6.best_params_, gsearch6.best_score_"
   ]
  },
  {
   "cell_type": "markdown",
   "metadata": {},
   "source": [
    "#### 第六步：降低学习速率\n",
    "\n",
    "　　最后，我们使用较低的学习速率，以及使用更多的决策树，我们可以用Xgboost中CV函数来进行这一步工作。"
   ]
  },
  {
   "cell_type": "code",
   "execution_count": null,
   "metadata": {},
   "outputs": [],
   "source": [
    "xgb4 = XGBClassifier(\n",
    " learning_rate =0.01,\n",
    " n_estimators=5000,\n",
    " max_depth=4,\n",
    " min_child_weight=6,\n",
    " gamma=0,\n",
    " subsample=0.8,\n",
    " colsample_bytree=0.8,\n",
    " reg_alpha=0.005,\n",
    " objective= 'binary:logistic',\n",
    " nthread=4,\n",
    " scale_pos_weight=1,\n",
    " seed=27)\n",
    "modelfit(xgb4, train, predictors)"
   ]
  },
  {
   "cell_type": "markdown",
   "metadata": {},
   "source": [
    "总结一下，要想模型的表现有大幅的提升，调整每个参数带来的影响也必须清楚，仅仅靠着参数的调整和模型的小幅优化，想要让模型的表现有个大幅度提升是不可能的。要想模型的表现有质的飞跃，需要依靠其他的手段。诸如，特征工程(feature egineering) ，模型组合(ensemble of model),以及堆叠(stacking)等。"
   ]
  },
  {
   "cell_type": "markdown",
   "metadata": {},
   "source": [
    "#### 第七步：Python示例"
   ]
  },
  {
   "cell_type": "code",
   "execution_count": 21,
   "metadata": {},
   "outputs": [
    {
     "name": "stderr",
     "output_type": "stream",
     "text": [
      "d:\\progrom\\python\\python\\python3\\lib\\site-packages\\sklearn\\preprocessing\\label.py:151: DeprecationWarning: The truth value of an empty array is ambiguous. Returning False, but in future this will result in an error. Use `array.size > 0` to check that an array is not empty.\n",
      "  if diff:\n"
     ]
    },
    {
     "name": "stdout",
     "output_type": "stream",
     "text": [
      "Accuracy : 0.98\n",
      "Accuracy : 0.98\n"
     ]
    },
    {
     "data": {
      "image/png": "[encoded data removed]",
      "text/plain": [
       "<Figure size 432x288 with 1 Axes>"
      ]
     },
     "metadata": {
      "needs_background": "light"
     },
     "output_type": "display_data"
    }
   ],
   "source": [
    "import xgboost as xgb\n",
    "import pandas as pd\n",
    "#获取数据\n",
    "from sklearn import cross_validation\n",
    "from sklearn.datasets import load_iris\n",
    "iris = load_iris()\n",
    "#切分数据集\n",
    "X_train, X_test, y_train, y_test = cross_validation.train_test_split(iris.data, iris.target, test_size=0.33, random_state=42)\n",
    "#设置参数\n",
    "m_class = xgb.XGBClassifier(\n",
    " learning_rate =0.1,\n",
    " n_estimators=1000,\n",
    " max_depth=5,\n",
    " gamma=0,\n",
    " subsample=0.8,\n",
    " colsample_bytree=0.8,\n",
    " objective= 'binary:logistic',\n",
    " nthread=4,\n",
    " seed=27)\n",
    "#训练\n",
    "m_class.fit(X_train, y_train)\n",
    "test_21 = m_class.predict(X_test)\n",
    "print(\"Accuracy : %.2f\" % metrics.accuracy_score(y_test, test_21))\n",
    "#预测概率\n",
    "#test_2 = m_class.predict_proba(X_test)\n",
    "#查看AUC评价标准\n",
    "from sklearn import metrics\n",
    "print(\"Accuracy : %.2f\" % metrics.accuracy_score(y_test, test_21))\n",
    "##必须二分类才能计算\n",
    "##print \"AUC Score (Train): %f\" % metrics.roc_auc_score(y_test, test_2)\n",
    "#查看重要程度\n",
    "feat_imp = pd.Series(m_class.get_booster().get_fscore()).sort_values(ascending=False)\n",
    "feat_imp.plot(kind='bar', title='Feature Importances')\n",
    "import matplotlib.pyplot as plt\n",
    "plt.show()\n",
    "#回归\n",
    "#m_regress = xgb.XGBRegressor(n_estimators=1000,seed=0)\n",
    "#m_regress.fit(X_train, y_train)\n",
    "#test_1 = m_regress.predict(X_test)"
   ]
  },
  {
   "cell_type": "markdown",
   "metadata": {},
   "source": [
    "### ERROR \n",
    "\n",
    "> xgboost model getfscore:'str' object is not callable\n",
    "    \n",
    "```\n",
    "    feat_imp = pd.Series(xgbPara.booster().get_fscore()).sort_values(ascending=False) \n",
    "\n",
    "    TypeError: 'str' object is not callable\n",
    "```\n",
    "\n",
    ">**method**:\n",
    ">\n",
    "> Replace xgbPara.booster() with xgbPara.get_booster(), if that wont work, you have a version mismatch and you need to upgrade either sklearn, xgboost or both. Hope this helps.\n",
    "\n",
    "[问题解决方法链接](https://stackoverflow.com/questions/53332462/xgboost-model-getfscorestr-object-is-not-callable)"
   ]
  },
  {
   "cell_type": "markdown",
   "metadata": {},
   "source": [
    "### 五、XGBoost输出特征重要性以及筛选特征\n",
    "\n",
    "####  1.梯度提升算法是如何计算特征重要性的？\n",
    "\n",
    "使用梯度提升算法的好处是在提升树被创建后，可以相对直接地得到每个属性的重要性得分。一般来说，重要性分数，衡量了特征在模型中的提升决策树构建中的价值。一个属性越多的被用来在模型中构建决策树，它的重要性就相对越高。\n",
    "\n",
    "属性重要性是通过对数据集中的每个属性进行计算，并进行排序得到。在单个决策树中通过每个属性分裂点改进性能度量的量来计算属性重要性。由节点负责加权和记录次数，也就是说一个属性对分裂点改进性能度量越大（越靠近根节点），权值越大；被越多提升树所选择，属性越重要。性能度量可以是选择分裂节点的Gini纯度，也可以是其他度量函数。\n",
    "\n",
    "最终将一个属性在所有提升树中的结果进行加权求和后然后平均，得到重要性得分。"
   ]
  },
  {
   "cell_type": "markdown",
   "metadata": {},
   "source": [
    "#### 2. 绘制特征重要性\n",
    "\n",
    "一个已训练的Xgboost模型能够自动计算特征重要性，这些重要性得分可以通过成员变量feature_importances_得到。可以通过如下命令打印：\n",
    "\n",
    "> print(model.feature_importances_)\n",
    "\n",
    "我们可以直接在条形图上绘制这些分数，以便获得数据集中每个特征的相对重要性的直观显示，例如：\n",
    "\n",
    "> #plot\n",
    ">\n",
    "> pyplot.bar(range(len(model.feature_importances_)), model.feature_importances_)\n",
    ">\n",
    "> pyplot.show()\n",
    "\n",
    "我们可以通过在the Pima Indians onset of diabetes 数据集上训练XGBoost模型来演示，并从计算的特征重要性中绘制条形图。"
   ]
  },
  {
   "cell_type": "code",
   "execution_count": 22,
   "metadata": {},
   "outputs": [
    {
     "name": "stdout",
     "output_type": "stream",
     "text": [
      "[0.01239746 0.03404614 0.5992223  0.35433412]\n"
     ]
    },
    {
     "data": {
      "image/png": "[encoded data removed]",
      "text/plain": [
       "<Figure size 432x288 with 1 Axes>"
      ]
     },
     "metadata": {
      "needs_background": "light"
     },
     "output_type": "display_data"
    }
   ],
   "source": [
    "# plot feature importance manually\n",
    "from numpy import loadtxt\n",
    "from xgboost import XGBClassifier\n",
    "from matplotlib import pyplot\n",
    "from sklearn.datasets import load_iris\n",
    "# load data\n",
    "dataset = load_iris()\n",
    "# split data into X and y\n",
    "X = dataset.data\n",
    "y = dataset.target\n",
    "# fit model no training data\n",
    "model = XGBClassifier()\n",
    "model.fit(X, y)\n",
    "# feature importance\n",
    "print(model.feature_importances_)\n",
    "# plot\n",
    "pyplot.bar(range(len(model.feature_importances_)), model.feature_importances_)\n",
    "pyplot.show()"
   ]
  },
  {
   "cell_type": "markdown",
   "metadata": {},
   "source": [
    "这种绘制的缺点在于，只显示了特征重要性而没有排序，可以在绘制之前对特征重要性得分进行排序。\n",
    "\n",
    "通过内建的绘制函数进行特征重要性得分排序后的绘制，这个函数就是plot_importance()，示例如下："
   ]
  },
  {
   "cell_type": "code",
   "execution_count": 23,
   "metadata": {},
   "outputs": [
    {
     "name": "stdout",
     "output_type": "stream",
     "text": [
      "[0.01239746 0.03404614 0.5992223  0.35433412]\n"
     ]
    },
    {
     "data": {
      "image/png": "[encoded data removed]",
      "text/plain": [
       "<Figure size 432x288 with 1 Axes>"
      ]
     },
     "metadata": {
      "needs_background": "light"
     },
     "output_type": "display_data"
    }
   ],
   "source": [
    "# plot feature importance manually\n",
    "from numpy import loadtxt\n",
    "from xgboost import XGBClassifier\n",
    "from matplotlib import pyplot\n",
    "from sklearn.datasets import load_iris\n",
    "from xgboost import plot_importance\n",
    " \n",
    "# load data\n",
    "dataset = load_iris()\n",
    "# split data into X and y\n",
    "X = dataset.data\n",
    "y = dataset.target\n",
    "# fit model no training data\n",
    "model = XGBClassifier()\n",
    "model.fit(X, y)\n",
    "# feature importance\n",
    "print(model.feature_importances_)\n",
    "# plot feature importance\n",
    " \n",
    "plot_importance(model)\n",
    "pyplot.show()"
   ]
  },
  {
   "cell_type": "markdown",
   "metadata": {},
   "source": [
    "根据其在输入数组的索引，特征被自动命名为f0~f3，在问题描述中手动的将这些索引映射到名称，我们可以看到，f2具有最高的重要性，f1具有最低的重要性。"
   ]
  },
  {
   "cell_type": "markdown",
   "metadata": {},
   "source": [
    "#### 3. 根据Xgboost特征重要性得分进行特征选择\n",
    "\n",
    "特征重要性得分，可以用于在scikit-learn中进行特征选择。通过SelectFromModel类实现，该类采用模型并将数据集转换为具有选定特征的子集。这个类可以采取预先训练的模型，例如在整个数据集上训练的模型。然后，它可以阈值来决定选择哪些特征。当在SelectFromModel实例上调用transform()方法时，该阈值被用于在训练集和测试集上一致性选择相同特征。\n",
    "\n",
    "在下面的示例中，我们首先在训练集上训练xgboost模型，然后在测试上评估。使用从训练数据集计算的特征重要性，然后，将模型封装在一个SelectFromModel实例中。我们使用这个来选择训练集上的特征，用所选择的特征子集训练模型，然后在相同的特征方案下对测试集进行评估。\n",
    "\n",
    ">#select features using threshold\n",
    ">\n",
    ">selection = SelectFromModel(model, threshold=thresh, prefit=True)\n",
    ">\n",
    ">select_X_train = selection.transform(X_train)\n",
    ">\n",
    ">#train model\n",
    ">\n",
    ">selection_model = XGBClassifier()\n",
    ">\n",
    ">selection_model.fit(select_X_train, y_train)\n",
    ">\n",
    ">#eval model\n",
    ">\n",
    ">select_X_test = selection.transform(X_test)\n",
    ">\n",
    ">y_pred = selection_model.predict(select_X_test)\n",
    "\n",
    "我们可以通过测试多个阈值，来从特征重要性中选择特征。具体而言，每个输入变量的特征重要性，本质上允许我们通过重要性来测试每个特征子集。"
   ]
  },
  {
   "cell_type": "code",
   "execution_count": 24,
   "metadata": {},
   "outputs": [
    {
     "name": "stdout",
     "output_type": "stream",
     "text": [
      "[0.01590523 0.13336425 0.4745309  0.37619963]\n",
      "Accuracy:92.00%\n",
      "Thresh=0.016, n=4, Accuracy: 92.00%\n"
     ]
    },
    {
     "name": "stderr",
     "output_type": "stream",
     "text": [
      "d:\\progrom\\python\\python\\python3\\lib\\site-packages\\sklearn\\preprocessing\\label.py:151: DeprecationWarning: The truth value of an empty array is ambiguous. Returning False, but in future this will result in an error. Use `array.size > 0` to check that an array is not empty.\n",
      "  if diff:\n",
      "d:\\progrom\\python\\python\\python3\\lib\\site-packages\\sklearn\\preprocessing\\label.py:151: DeprecationWarning: The truth value of an empty array is ambiguous. Returning False, but in future this will result in an error. Use `array.size > 0` to check that an array is not empty.\n",
      "  if diff:\n",
      "d:\\progrom\\python\\python\\python3\\lib\\site-packages\\sklearn\\preprocessing\\label.py:151: DeprecationWarning: The truth value of an empty array is ambiguous. Returning False, but in future this will result in an error. Use `array.size > 0` to check that an array is not empty.\n",
      "  if diff:\n",
      "d:\\progrom\\python\\python\\python3\\lib\\site-packages\\sklearn\\preprocessing\\label.py:151: DeprecationWarning: The truth value of an empty array is ambiguous. Returning False, but in future this will result in an error. Use `array.size > 0` to check that an array is not empty.\n",
      "  if diff:\n"
     ]
    },
    {
     "name": "stdout",
     "output_type": "stream",
     "text": [
      "Thresh=0.133, n=3, Accuracy: 92.00%\n",
      "Thresh=0.376, n=2, Accuracy: 94.00%\n",
      "Thresh=0.475, n=1, Accuracy: 90.00%\n"
     ]
    },
    {
     "name": "stderr",
     "output_type": "stream",
     "text": [
      "d:\\progrom\\python\\python\\python3\\lib\\site-packages\\sklearn\\preprocessing\\label.py:151: DeprecationWarning: The truth value of an empty array is ambiguous. Returning False, but in future this will result in an error. Use `array.size > 0` to check that an array is not empty.\n",
      "  if diff:\n"
     ]
    }
   ],
   "source": [
    "# 完整代码如下：\n",
    "# plot feature importance manually\n",
    "import numpy as np\n",
    "from xgboost import XGBClassifier\n",
    "from matplotlib import pyplot\n",
    "from sklearn.datasets import load_iris\n",
    "from xgboost import plot_importance\n",
    "from sklearn.model_selection import train_test_split\n",
    "from sklearn.metrics import accuracy_score\n",
    "from sklearn.feature_selection import SelectFromModel\n",
    " \n",
    "# load data\n",
    "dataset = load_iris()\n",
    "# split data into X and y\n",
    "X = dataset.data\n",
    "y = dataset.target\n",
    " \n",
    "# split data into train and test sets\n",
    "X_train,X_test,y_train,y_test = train_test_split(X,y,test_size=0.33,random_state=7)\n",
    " \n",
    "# fit model no training data\n",
    "model = XGBClassifier()\n",
    "model.fit(X_train, y_train)\n",
    "# feature importance\n",
    "print(model.feature_importances_)\n",
    " \n",
    "# make predictions for test data and evaluate\n",
    "y_pred = model.predict(X_test)\n",
    "predictions = [round(value) for value in y_pred]\n",
    "accuracy = accuracy_score(y_test,predictions)\n",
    "print(\"Accuracy:%.2f%%\"%(accuracy*100.0))\n",
    " \n",
    "#fit model using each importance as a threshold\n",
    "thresholds = np.sort(model.feature_importances_)\n",
    "for thresh in thresholds:\n",
    "    # select features using threshold\n",
    "    selection = SelectFromModel(model,threshold=thresh,prefit=True )\n",
    "    select_X_train = selection.transform(X_train)\n",
    "    # train model\n",
    "    selection_model = XGBClassifier()\n",
    "    selection_model.fit(select_X_train, y_train)\n",
    "    # eval model\n",
    "    select_X_test = selection.transform(X_test)\n",
    "    y_pred = selection_model.predict(select_X_test)\n",
    "    predictions = [round(value) for value in y_pred]\n",
    "    accuracy = accuracy_score(y_test,predictions)\n",
    "    print(\"Thresh=%.3f, n=%d, Accuracy: %.2f%%\" % (thresh, select_X_train.shape[1], accuracy * 100.0))"
   ]
  },
  {
   "cell_type": "markdown",
   "metadata": {},
   "source": [
    "我们可以看到，模型的性能通常随着所选择的特征的数量减少，在这一问题上，可以对测试集准确率和模型复杂度做一个权衡，例如选择三个特征，接受准确率为92%，这可能是对这样一个小数据集的清洗，但是对于更大的数据集和使用交叉验证作为模型评估方案可能是更有用的策略。"
   ]
  },
  {
   "cell_type": "markdown",
   "metadata": {},
   "source": [
    "#### 4.网格搜索\n"
   ]
  },
  {
   "cell_type": "code",
   "execution_count": 26,
   "metadata": {},
   "outputs": [
    {
     "ename": "JoblibValueError",
     "evalue": "JoblibValueError\n___________________________________________________________________________\nMultiprocessing exception:\n...........................................................................\nd:\\progrom\\python\\python\\python3\\lib\\runpy.py in _run_module_as_main(mod_name='ipykernel_launcher', alter_argv=1)\n    188         sys.exit(msg)\n    189     main_globals = sys.modules[\"__main__\"].__dict__\n    190     if alter_argv:\n    191         sys.argv[0] = mod_spec.origin\n    192     return _run_code(code, main_globals, None,\n--> 193                      \"__main__\", mod_spec)\n        mod_spec = ModuleSpec(name='ipykernel_launcher', loader=<_f...hon3\\\\lib\\\\site-packages\\\\ipykernel_launcher.py')\n    194 \n    195 def run_module(mod_name, init_globals=None,\n    196                run_name=None, alter_sys=False):\n    197     \"\"\"Execute a module's code without importing it\n\n...........................................................................\nd:\\progrom\\python\\python\\python3\\lib\\runpy.py in _run_code(code=<code object <module> at 0x000001F9AC79DB70, fil...lib\\site-packages\\ipykernel_launcher.py\", line 5>, run_globals={'__annotations__': {}, '__builtins__': <module 'builtins' (built-in)>, '__cached__': r'd:\\progrom\\python\\python\\python3\\lib\\site-packages\\__pycache__\\ipykernel_launcher.cpython-36.pyc', '__doc__': 'Entry point for launching an IPython kernel.\\n\\nTh...orts until\\nafter removing the cwd from sys.path.\\n', '__file__': r'd:\\progrom\\python\\python\\python3\\lib\\site-packages\\ipykernel_launcher.py', '__loader__': <_frozen_importlib_external.SourceFileLoader object>, '__name__': '__main__', '__package__': '', '__spec__': ModuleSpec(name='ipykernel_launcher', loader=<_f...hon3\\\\lib\\\\site-packages\\\\ipykernel_launcher.py'), 'app': <module 'ipykernel.kernelapp' from 'd:\\\\progrom\\...n3\\\\lib\\\\site-packages\\\\ipykernel\\\\kernelapp.py'>, ...}, init_globals=None, mod_name='__main__', mod_spec=ModuleSpec(name='ipykernel_launcher', loader=<_f...hon3\\\\lib\\\\site-packages\\\\ipykernel_launcher.py'), pkg_name='', script_name=None)\n     80                        __cached__ = cached,\n     81                        __doc__ = None,\n     82                        __loader__ = loader,\n     83                        __package__ = pkg_name,\n     84                        __spec__ = mod_spec)\n---> 85     exec(code, run_globals)\n        code = <code object <module> at 0x000001F9AC79DB70, fil...lib\\site-packages\\ipykernel_launcher.py\", line 5>\n        run_globals = {'__annotations__': {}, '__builtins__': <module 'builtins' (built-in)>, '__cached__': r'd:\\progrom\\python\\python\\python3\\lib\\site-packages\\__pycache__\\ipykernel_launcher.cpython-36.pyc', '__doc__': 'Entry point for launching an IPython kernel.\\n\\nTh...orts until\\nafter removing the cwd from sys.path.\\n', '__file__': r'd:\\progrom\\python\\python\\python3\\lib\\site-packages\\ipykernel_launcher.py', '__loader__': <_frozen_importlib_external.SourceFileLoader object>, '__name__': '__main__', '__package__': '', '__spec__': ModuleSpec(name='ipykernel_launcher', loader=<_f...hon3\\\\lib\\\\site-packages\\\\ipykernel_launcher.py'), 'app': <module 'ipykernel.kernelapp' from 'd:\\\\progrom\\...n3\\\\lib\\\\site-packages\\\\ipykernel\\\\kernelapp.py'>, ...}\n     86     return run_globals\n     87 \n     88 def _run_module_code(code, init_globals=None,\n     89                     mod_name=None, mod_spec=None,\n\n...........................................................................\nd:\\progrom\\python\\python\\python3\\lib\\site-packages\\ipykernel_launcher.py in <module>()\n     11     # This is added back by InteractiveShellApp.init_path()\n     12     if sys.path[0] == '':\n     13         del sys.path[0]\n     14 \n     15     from ipykernel import kernelapp as app\n---> 16     app.launch_new_instance()\n\n...........................................................................\nd:\\progrom\\python\\python\\python3\\lib\\site-packages\\traitlets-4.3.2-py3.6.egg\\traitlets\\config\\application.py in launch_instance(cls=<class 'ipykernel.kernelapp.IPKernelApp'>, argv=None, **kwargs={})\n    653 \n    654         If a global instance already exists, this reinitializes and starts it\n    655         \"\"\"\n    656         app = cls.instance(**kwargs)\n    657         app.initialize(argv)\n--> 658         app.start()\n        app.start = <bound method IPKernelApp.start of <ipykernel.kernelapp.IPKernelApp object>>\n    659 \n    660 #-----------------------------------------------------------------------------\n    661 # utility functions, for convenience\n    662 #-----------------------------------------------------------------------------\n\n...........................................................................\nd:\\progrom\\python\\python\\python3\\lib\\site-packages\\ipykernel\\kernelapp.py in start(self=<ipykernel.kernelapp.IPKernelApp object>)\n    500         if self.poller is not None:\n    501             self.poller.start()\n    502         self.kernel.start()\n    503         self.io_loop = ioloop.IOLoop.current()\n    504         try:\n--> 505             self.io_loop.start()\n        self.io_loop.start = <bound method BaseAsyncIOLoop.start of <tornado.platform.asyncio.AsyncIOMainLoop object>>\n    506         except KeyboardInterrupt:\n    507             pass\n    508 \n    509 launch_new_instance = IPKernelApp.launch_instance\n\n...........................................................................\nd:\\progrom\\python\\python\\python3\\lib\\site-packages\\tornado\\platform\\asyncio.py in start(self=<tornado.platform.asyncio.AsyncIOMainLoop object>)\n    107         except RuntimeError:\n    108             old_loop = None\n    109         try:\n    110             self._setup_logging()\n    111             asyncio.set_event_loop(self.asyncio_loop)\n--> 112             self.asyncio_loop.run_forever()\n        self.asyncio_loop.run_forever = <bound method BaseEventLoop.run_forever of <_Win...EventLoop running=True closed=False debug=False>>\n    113         finally:\n    114             asyncio.set_event_loop(old_loop)\n    115 \n    116     def stop(self):\n\n...........................................................................\nd:\\progrom\\python\\python\\python3\\lib\\asyncio\\base_events.py in run_forever(self=<_WindowsSelectorEventLoop running=True closed=False debug=False>)\n    416             sys.set_asyncgen_hooks(firstiter=self._asyncgen_firstiter_hook,\n    417                                    finalizer=self._asyncgen_finalizer_hook)\n    418         try:\n    419             events._set_running_loop(self)\n    420             while True:\n--> 421                 self._run_once()\n        self._run_once = <bound method BaseEventLoop._run_once of <_Windo...EventLoop running=True closed=False debug=False>>\n    422                 if self._stopping:\n    423                     break\n    424         finally:\n    425             self._stopping = False\n\n...........................................................................\nd:\\progrom\\python\\python\\python3\\lib\\asyncio\\base_events.py in _run_once(self=<_WindowsSelectorEventLoop running=True closed=False debug=False>)\n   1421                         logger.warning('Executing %s took %.3f seconds',\n   1422                                        _format_handle(handle), dt)\n   1423                 finally:\n   1424                     self._current_handle = None\n   1425             else:\n-> 1426                 handle._run()\n        handle._run = <bound method Handle._run of <Handle IOLoop._run_callback(functools.par...8E8>, ...]))>))>>\n   1427         handle = None  # Needed to break cycles when an exception occurs.\n   1428 \n   1429     def _set_coroutine_wrapper(self, enabled):\n   1430         try:\n\n...........................................................................\nd:\\progrom\\python\\python\\python3\\lib\\asyncio\\events.py in _run(self=<Handle IOLoop._run_callback(functools.par...8E8>, ...]))>))>)\n    122             self._callback = None\n    123             self._args = None\n    124 \n    125     def _run(self):\n    126         try:\n--> 127             self._callback(*self._args)\n        self._callback = <bound method IOLoop._run_callback of <tornado.platform.asyncio.AsyncIOMainLoop object>>\n        self._args = (functools.partial(<function wrap.<locals>.null_w...C36830>, <zmq.sugar.fr...001F9AEC368E8>, ...]))>),)\n    128         except Exception as exc:\n    129             cb = _format_callback_source(self._callback, self._args)\n    130             msg = 'Exception in callback {}'.format(cb)\n    131             context = {\n\n...........................................................................\nd:\\progrom\\python\\python\\python3\\lib\\site-packages\\tornado\\ioloop.py in _run_callback(self=<tornado.platform.asyncio.AsyncIOMainLoop object>, callback=functools.partial(<function wrap.<locals>.null_w...C36830>, <zmq.sugar.fr...001F9AEC368E8>, ...]))>))\n    755         \"\"\"Runs a callback with error handling.\n    756 \n    757         For use in subclasses.\n    758         \"\"\"\n    759         try:\n--> 760             ret = callback()\n        ret = undefined\n        callback = functools.partial(<function wrap.<locals>.null_w...C36830>, <zmq.sugar.fr...001F9AEC368E8>, ...]))>)\n    761             if ret is not None:\n    762                 from tornado import gen\n    763                 # Functions that return Futures typically swallow all\n    764                 # exceptions and store them in the Future.  If a Future\n\n...........................................................................\nd:\\progrom\\python\\python\\python3\\lib\\site-packages\\tornado\\stack_context.py in null_wrapper(*args=(<Future finished result=(10, 70, <bound method.....EC36830>, <zmq.sugar.fr...001F9AEC368E8>, ...]))>,), **kwargs={})\n    271         # Fast path when there are no active contexts.\n    272         def null_wrapper(*args, **kwargs):\n    273             try:\n    274                 current_state = _state.contexts\n    275                 _state.contexts = cap_contexts[0]\n--> 276                 return fn(*args, **kwargs)\n        args = (<Future finished result=(10, 70, <bound method.....EC36830>, <zmq.sugar.fr...001F9AEC368E8>, ...]))>,)\n        kwargs = {}\n    277             finally:\n    278                 _state.contexts = current_state\n    279         null_wrapper._wrapped = True\n    280         return null_wrapper\n\n...........................................................................\nd:\\progrom\\python\\python\\python3\\lib\\site-packages\\tornado\\gen.py in inner(f=None)\n   1194             return False\n   1195         elif not self.future.done():\n   1196             def inner(f):\n   1197                 # Break a reference cycle to speed GC.\n   1198                 f = None # noqa\n-> 1199                 self.run()\n   1200             self.io_loop.add_future(\n   1201                 self.future, inner)\n   1202             return False\n   1203         return True\n\n...........................................................................\nd:\\progrom\\python\\python\\python3\\lib\\site-packages\\tornado\\gen.py in run(self=<tornado.gen.Runner object>)\n   1108                         finally:\n   1109                             # Break up a reference to itself\n   1110                             # for faster GC on CPython.\n   1111                             exc_info = None\n   1112                     else:\n-> 1113                         yielded = self.gen.send(value)\n        yielded = undefined\n        self.gen.send = <built-in method send of generator object>\n        value = (10, 70, <bound method Kernel.dispatch_shell of <ipykernel.ipkernel.IPythonKernel object>>, (<zmq.eventloop.zmqstream.ZMQStream object>, [<zmq.sugar.frame.Frame object>, <zmq.sugar.frame.Frame object>, <zmq.sugar.frame.Frame object>, <zmq.sugar.frame.Frame object>, <zmq.sugar.frame.Frame object>, <zmq.sugar.frame.Frame object>, <zmq.sugar.frame.Frame object>]))\n   1114 \n   1115                     if stack_context._state.contexts is not orig_stack_contexts:\n   1116                         self.gen.throw(\n   1117                             stack_context.StackContextInconsistentError(\n\n...........................................................................\nd:\\progrom\\python\\python\\python3\\lib\\site-packages\\ipykernel\\kernelbase.py in process_one(self=<ipykernel.ipkernel.IPythonKernel object>, wait=True)\n    352         else:\n    353             try:\n    354                 priority, t, dispatch, args = self.msg_queue.get_nowait()\n    355             except QueueEmpty:\n    356                 return None\n--> 357         yield gen.maybe_future(dispatch(*args))\n        dispatch = <bound method Kernel.dispatch_shell of <ipykernel.ipkernel.IPythonKernel object>>\n        args = (<zmq.eventloop.zmqstream.ZMQStream object>, [<zmq.sugar.frame.Frame object>, <zmq.sugar.frame.Frame object>, <zmq.sugar.frame.Frame object>, <zmq.sugar.frame.Frame object>, <zmq.sugar.frame.Frame object>, <zmq.sugar.frame.Frame object>, <zmq.sugar.frame.Frame object>])\n    358 \n    359     @gen.coroutine\n    360     def dispatch_queue(self):\n    361         \"\"\"Coroutine to preserve order of message handling\n\n...........................................................................\nd:\\progrom\\python\\python\\python3\\lib\\site-packages\\tornado\\gen.py in wrapper(*args=(<ipykernel.ipkernel.IPythonKernel object>, <zmq.eventloop.zmqstream.ZMQStream object>, [<zmq.sugar.frame.Frame object>, <zmq.sugar.frame.Frame object>, <zmq.sugar.frame.Frame object>, <zmq.sugar.frame.Frame object>, <zmq.sugar.frame.Frame object>, <zmq.sugar.frame.Frame object>, <zmq.sugar.frame.Frame object>]), **kwargs={})\n    310                 # never actually yields, which in turn allows us to\n    311                 # use \"optional\" coroutines in critical path code without\n    312                 # performance penalty for the synchronous case.\n    313                 try:\n    314                     orig_stack_contexts = stack_context._state.contexts\n--> 315                     yielded = next(result)\n        yielded = undefined\n        result = <generator object dispatch_shell>\n    316                     if stack_context._state.contexts is not orig_stack_contexts:\n    317                         yielded = _create_future()\n    318                         yielded.set_exception(\n    319                             stack_context.StackContextInconsistentError(\n\n...........................................................................\nd:\\progrom\\python\\python\\python3\\lib\\site-packages\\ipykernel\\kernelbase.py in dispatch_shell(self=<ipykernel.ipkernel.IPythonKernel object>, stream=<zmq.eventloop.zmqstream.ZMQStream object>, msg={'buffers': [], 'content': {'allow_stdin': True, 'code': '# 代码1：\\n\\nfrom sklearn.model_selection import Grid...n): %f\" % metrics.roc_auc_score(y_true, y_proba))', 'silent': False, 'stop_on_error': True, 'store_history': True, 'user_expressions': {}}, 'header': {'date': datetime.datetime(2019, 4, 9, 12, 35, 37, 992234, tzinfo=tzutc()), 'msg_id': 'bc39e8a44f5d44548c9c37c30bfbf481', 'msg_type': 'execute_request', 'session': '8516af2d667a452b8ff51cd50fc53e88', 'username': 'username', 'version': '5.2'}, 'metadata': {}, 'msg_id': 'bc39e8a44f5d44548c9c37c30bfbf481', 'msg_type': 'execute_request', 'parent_header': {}})\n    262             try:\n    263                 self.pre_handler_hook()\n    264             except Exception:\n    265                 self.log.debug(\"Unable to signal in pre_handler_hook:\", exc_info=True)\n    266             try:\n--> 267                 yield gen.maybe_future(handler(stream, idents, msg))\n        handler = <bound method Kernel.execute_request of <ipykernel.ipkernel.IPythonKernel object>>\n        stream = <zmq.eventloop.zmqstream.ZMQStream object>\n        idents = [b'8516af2d667a452b8ff51cd50fc53e88']\n        msg = {'buffers': [], 'content': {'allow_stdin': True, 'code': '# 代码1：\\n\\nfrom sklearn.model_selection import Grid...n): %f\" % metrics.roc_auc_score(y_true, y_proba))', 'silent': False, 'stop_on_error': True, 'store_history': True, 'user_expressions': {}}, 'header': {'date': datetime.datetime(2019, 4, 9, 12, 35, 37, 992234, tzinfo=tzutc()), 'msg_id': 'bc39e8a44f5d44548c9c37c30bfbf481', 'msg_type': 'execute_request', 'session': '8516af2d667a452b8ff51cd50fc53e88', 'username': 'username', 'version': '5.2'}, 'metadata': {}, 'msg_id': 'bc39e8a44f5d44548c9c37c30bfbf481', 'msg_type': 'execute_request', 'parent_header': {}}\n    268             except Exception:\n    269                 self.log.error(\"Exception in message handler:\", exc_info=True)\n    270             finally:\n    271                 try:\n\n...........................................................................\nd:\\progrom\\python\\python\\python3\\lib\\site-packages\\tornado\\gen.py in wrapper(*args=(<ipykernel.ipkernel.IPythonKernel object>, <zmq.eventloop.zmqstream.ZMQStream object>, [b'8516af2d667a452b8ff51cd50fc53e88'], {'buffers': [], 'content': {'allow_stdin': True, 'code': '# 代码1：\\n\\nfrom sklearn.model_selection import Grid...n): %f\" % metrics.roc_auc_score(y_true, y_proba))', 'silent': False, 'stop_on_error': True, 'store_history': True, 'user_expressions': {}}, 'header': {'date': datetime.datetime(2019, 4, 9, 12, 35, 37, 992234, tzinfo=tzutc()), 'msg_id': 'bc39e8a44f5d44548c9c37c30bfbf481', 'msg_type': 'execute_request', 'session': '8516af2d667a452b8ff51cd50fc53e88', 'username': 'username', 'version': '5.2'}, 'metadata': {}, 'msg_id': 'bc39e8a44f5d44548c9c37c30bfbf481', 'msg_type': 'execute_request', 'parent_header': {}}), **kwargs={})\n    310                 # never actually yields, which in turn allows us to\n    311                 # use \"optional\" coroutines in critical path code without\n    312                 # performance penalty for the synchronous case.\n    313                 try:\n    314                     orig_stack_contexts = stack_context._state.contexts\n--> 315                     yielded = next(result)\n        yielded = undefined\n        result = <generator object execute_request>\n    316                     if stack_context._state.contexts is not orig_stack_contexts:\n    317                         yielded = _create_future()\n    318                         yielded.set_exception(\n    319                             stack_context.StackContextInconsistentError(\n\n...........................................................................\nd:\\progrom\\python\\python\\python3\\lib\\site-packages\\ipykernel\\kernelbase.py in execute_request(self=<ipykernel.ipkernel.IPythonKernel object>, stream=<zmq.eventloop.zmqstream.ZMQStream object>, ident=[b'8516af2d667a452b8ff51cd50fc53e88'], parent={'buffers': [], 'content': {'allow_stdin': True, 'code': '# 代码1：\\n\\nfrom sklearn.model_selection import Grid...n): %f\" % metrics.roc_auc_score(y_true, y_proba))', 'silent': False, 'stop_on_error': True, 'store_history': True, 'user_expressions': {}}, 'header': {'date': datetime.datetime(2019, 4, 9, 12, 35, 37, 992234, tzinfo=tzutc()), 'msg_id': 'bc39e8a44f5d44548c9c37c30bfbf481', 'msg_type': 'execute_request', 'session': '8516af2d667a452b8ff51cd50fc53e88', 'username': 'username', 'version': '5.2'}, 'metadata': {}, 'msg_id': 'bc39e8a44f5d44548c9c37c30bfbf481', 'msg_type': 'execute_request', 'parent_header': {}})\n    529             self._publish_execute_input(code, parent, self.execution_count)\n    530 \n    531         reply_content = yield gen.maybe_future(\n    532             self.do_execute(\n    533                 code, silent, store_history,\n--> 534                 user_expressions, allow_stdin,\n        user_expressions = {}\n        allow_stdin = True\n    535             )\n    536         )\n    537 \n    538         # Flush output before sending the reply.\n\n...........................................................................\nd:\\progrom\\python\\python\\python3\\lib\\site-packages\\tornado\\gen.py in wrapper(*args=(<ipykernel.ipkernel.IPythonKernel object>, '# 代码1：\\n\\nfrom sklearn.model_selection import Grid...n): %f\" % metrics.roc_auc_score(y_true, y_proba))', False, True, {}, True), **kwargs={})\n    310                 # never actually yields, which in turn allows us to\n    311                 # use \"optional\" coroutines in critical path code without\n    312                 # performance penalty for the synchronous case.\n    313                 try:\n    314                     orig_stack_contexts = stack_context._state.contexts\n--> 315                     yielded = next(result)\n        yielded = undefined\n        result = <generator object do_execute>\n    316                     if stack_context._state.contexts is not orig_stack_contexts:\n    317                         yielded = _create_future()\n    318                         yielded.set_exception(\n    319                             stack_context.StackContextInconsistentError(\n\n...........................................................................\nd:\\progrom\\python\\python\\python3\\lib\\site-packages\\ipykernel\\ipkernel.py in do_execute(self=<ipykernel.ipkernel.IPythonKernel object>, code='# 代码1：\\n\\nfrom sklearn.model_selection import Grid...n): %f\" % metrics.roc_auc_score(y_true, y_proba))', silent=False, store_history=True, user_expressions={}, allow_stdin=True)\n    289                     res = yield coro_future\n    290             else:\n    291                 # runner isn't already running,\n    292                 # make synchronous call,\n    293                 # letting shell dispatch to loop runners\n--> 294                 res = shell.run_cell(code, store_history=store_history, silent=silent)\n        res = undefined\n        code = '# 代码1：\\n\\nfrom sklearn.model_selection import Grid...n): %f\" % metrics.roc_auc_score(y_true, y_proba))'\n        store_history = True\n        silent = False\n    295         finally:\n    296             self._restore_input()\n    297 \n    298         if res.error_before_exec is not None:\n\n...........................................................................\nd:\\progrom\\python\\python\\python3\\lib\\site-packages\\ipykernel\\zmqshell.py in run_cell(self=<ipykernel.zmqshell.ZMQInteractiveShell object>, *args=('# 代码1：\\n\\nfrom sklearn.model_selection import Grid...n): %f\" % metrics.roc_auc_score(y_true, y_proba))',), **kwargs={'silent': False, 'store_history': True})\n    531             )\n    532         self.payload_manager.write_payload(payload)\n    533 \n    534     def run_cell(self, *args, **kwargs):\n    535         self._last_traceback = None\n--> 536         return super(ZMQInteractiveShell, self).run_cell(*args, **kwargs)\n        self.run_cell = <bound method ZMQInteractiveShell.run_cell of <ipykernel.zmqshell.ZMQInteractiveShell object>>\n        args = ('# 代码1：\\n\\nfrom sklearn.model_selection import Grid...n): %f\" % metrics.roc_auc_score(y_true, y_proba))',)\n        kwargs = {'silent': False, 'store_history': True}\n    537 \n    538     def _showtraceback(self, etype, evalue, stb):\n    539         # try to preserve ordering of tracebacks and print statements\n    540         sys.stdout.flush()\n\n...........................................................................\nd:\\progrom\\python\\python\\python3\\lib\\site-packages\\IPython\\core\\interactiveshell.py in run_cell(self=<ipykernel.zmqshell.ZMQInteractiveShell object>, raw_cell='# 代码1：\\n\\nfrom sklearn.model_selection import Grid...n): %f\" % metrics.roc_auc_score(y_true, y_proba))', store_history=True, silent=False, shell_futures=True)\n   2812         result : :class:`ExecutionResult`\n   2813         \"\"\"\n   2814         result = None\n   2815         try:\n   2816             result = self._run_cell(\n-> 2817                 raw_cell, store_history, silent, shell_futures)\n        raw_cell = '# 代码1：\\n\\nfrom sklearn.model_selection import Grid...n): %f\" % metrics.roc_auc_score(y_true, y_proba))'\n        store_history = True\n        silent = False\n        shell_futures = True\n   2818         finally:\n   2819             self.events.trigger('post_execute')\n   2820             if not silent:\n   2821                 self.events.trigger('post_run_cell', result)\n\n...........................................................................\nd:\\progrom\\python\\python\\python3\\lib\\site-packages\\IPython\\core\\interactiveshell.py in _run_cell(self=<ipykernel.zmqshell.ZMQInteractiveShell object>, raw_cell='# 代码1：\\n\\nfrom sklearn.model_selection import Grid...n): %f\" % metrics.roc_auc_score(y_true, y_proba))', store_history=True, silent=False, shell_futures=True)\n   2838             runner = self.loop_runner\n   2839         else:\n   2840             runner = _pseudo_sync_runner\n   2841 \n   2842         try:\n-> 2843             return runner(coro)\n        runner = <function _pseudo_sync_runner>\n        coro = <generator object InteractiveShell.run_cell_async>\n   2844         except BaseException as e:\n   2845             info = ExecutionInfo(raw_cell, store_history, silent, shell_futures)\n   2846             result = ExecutionResult(info)\n   2847             result.error_in_exec = e\n\n...........................................................................\nd:\\progrom\\python\\python\\python3\\lib\\site-packages\\IPython\\core\\async_helpers.py in _pseudo_sync_runner(coro=<generator object InteractiveShell.run_cell_async>)\n     62 \n     63     Credit to Nathaniel Smith\n     64 \n     65     \"\"\"\n     66     try:\n---> 67         coro.send(None)\n        coro.send = <built-in method send of generator object>\n     68     except StopIteration as exc:\n     69         return exc.value\n     70     else:\n     71         # TODO: do not raise but return an execution result with the right info.\n\n...........................................................................\nd:\\progrom\\python\\python\\python3\\lib\\site-packages\\IPython\\core\\interactiveshell.py in run_cell_async(self=<ipykernel.zmqshell.ZMQInteractiveShell object>, raw_cell='# 代码1：\\n\\nfrom sklearn.model_selection import Grid...n): %f\" % metrics.roc_auc_score(y_true, y_proba))', store_history=True, silent=False, shell_futures=True)\n   3013                 interactivity = \"none\" if silent else self.ast_node_interactivity\n   3014                 if _run_async:\n   3015                     interactivity = 'async'\n   3016 \n   3017                 has_raised = yield from self.run_ast_nodes(code_ast.body, cell_name,\n-> 3018                        interactivity=interactivity, compiler=compiler, result=result)\n        interactivity = 'last_expr'\n        compiler = <IPython.core.compilerop.CachingCompiler object>\n   3019 \n   3020                 self.last_execution_succeeded = not has_raised\n   3021                 self.last_execution_result = result\n   3022 \n\n...........................................................................\nd:\\progrom\\python\\python\\python3\\lib\\site-packages\\IPython\\core\\interactiveshell.py in run_ast_nodes(self=<ipykernel.zmqshell.ZMQInteractiveShell object>, nodelist=[<_ast.ImportFrom object>, <_ast.Assign object>, <_ast.Assign object>, <_ast.Assign object>, <_ast.Expr object>, <_ast.Expr object>, <_ast.Assign object>, <_ast.Expr object>, <_ast.Assign object>, <_ast.Expr object>], cell_name='<ipython-input-26-0523cd37f4fb>', interactivity='last', compiler=<IPython.core.compilerop.CachingCompiler object>, result=<ExecutionResult object at 1f9cb197668, executio...rue silent=False shell_futures=True> result=None>)\n   3178                     return True\n   3179             else:\n   3180                 for i, node in enumerate(to_run_exec):\n   3181                     mod = ast.Module([node])\n   3182                     code = compiler(mod, cell_name, \"exec\")\n-> 3183                     if (yield from self.run_code(code, result)):\n        self.run_code = <bound method InteractiveShell.run_code of <ipykernel.zmqshell.ZMQInteractiveShell object>>\n        code = <code object <module> at 0x000001F9C96E1810, file \"<ipython-input-26-0523cd37f4fb>\", line 12>\n        result = <ExecutionResult object at 1f9cb197668, executio...rue silent=False shell_futures=True> result=None>\n   3184                         return True\n   3185 \n   3186                 for i, node in enumerate(to_run_interactive):\n   3187                     mod = ast.Interactive([node])\n\n...........................................................................\nd:\\progrom\\python\\python\\python3\\lib\\site-packages\\IPython\\core\\interactiveshell.py in run_code(self=<ipykernel.zmqshell.ZMQInteractiveShell object>, code_obj=<code object <module> at 0x000001F9C96E1810, file \"<ipython-input-26-0523cd37f4fb>\", line 12>, result=<ExecutionResult object at 1f9cb197668, executio...rue silent=False shell_futures=True> result=None>, async_=False)\n   3260                 if async_:\n   3261                     last_expr = (yield from self._async_exec(code_obj, self.user_ns))\n   3262                     code = compile('last_expr', 'fake', \"single\")\n   3263                     exec(code, {'last_expr': last_expr})\n   3264                 else:\n-> 3265                     exec(code_obj, self.user_global_ns, self.user_ns)\n        code_obj = <code object <module> at 0x000001F9C96E1810, file \"<ipython-input-26-0523cd37f4fb>\", line 12>\n        self.user_global_ns = {'GridSearchCV': <class 'sklearn.model_selection._search.GridSearchCV'>, 'In': ['', \"#!/usr/bin/env python\\n# encoding: utf-8\\n'''\\n@aut...time: 2019/4/9 9:44\\n@desc:  Xgboost算法\\n@url:  \\n'''\", 'from sklearn.datasets import load_iris\\nimport xg...00))\\n \\n# 显示重要特征\\nplot_importance(model)\\nplt.show()', 'from sklearn.datasets import load_iris\\nimport xg...00))\\n \\n# 显示重要特征\\nplot_importance(model)\\nplt.show()', 'from sklearn.datasets import load_iris\\nimport xg...00))\\n \\n# 显示重要特征\\nplot_importance(model)\\nplt.show()', 'import xgboost as xgb\\nfrom xgboost import plot_i...est)\\n \\n# 显示重要特征\\nplot_importance(model)\\nplt.show()', \"# XGBClassifier\\nfrom xgboost.sklearn import XGBC...  seed = 1000,  # 随机种子\\n    # eval_metric ='auc'\\n)\", '# 基于Sckit-learn接口的分类\\nfrom sklearn.datasets impor...00))\\n \\n# 显示重要特征\\nplot_importance(model)\\nplt.show()', 'import xgboost as xgb\\nfrom xgboost import plot_i...est)\\n \\n# 显示重要特征\\nplot_importance(model)\\nplt.show()', 'from sklearn.model_selection import train_test_s...uccess!\",\\'\\\\n\\',\"cost time:\",cost_time,\"(s)......\")', 'from sklearn.model_selection import train_test_s...uccess!\",\\'\\\\n\\',\"cost time:\",cost_time,\"(s)......\")', 'from sklearn.model_selection import train_test_s...ress = xgb.XGBRegressor(n_estimators=1000,seed=0)', 'from sklearn.model_selection import train_test_s...ress = xgb.XGBRegressor(n_estimators=1000,seed=0)', 'from sklearn.model_selection import train_test_s...ress = xgb.XGBRegressor(n_estimators=1000,seed=0)', \"from xgboost import XGBClassifier\\nxgb1 = XGBClas...stic',\\n nthread=4,\\n scale_pos_weight=1,\\n seed=27)\", \"param_test1 = {\\n 'max_depth':range(3,10,2),\\n 'mi...搜索scoring='roc_auc'只支持二分类，多分类需要修改scoring(默认支持多分类)\", \"param_test1 = {\\n     'max_depth':range(3,10,2),\\n...搜索scoring='roc_auc'只支持二分类，多分类需要修改scoring(默认支持多分类)\", \"param_test3 = {\\n 'gamma':[i/10.0 for i in range(...res_, gsearch3.best_params_, gsearch3.best_score_\", \"param_test3 = {\\n 'gamma':[i/10.0 for i in range(...res_, gsearch3.best_params_, gsearch3.best_score_\", 'import xgboost as xgb\\nimport pandas as pd\\n#获取数据\\n...ain, y_train)\\n#test_1 = m_regress.predict(X_test)', ...], 'Out': {1: '\\n@author: KM\\n@license: (C) Copyright 2013-2017, ...b\\n@time: 2019/4/9 9:44\\n@desc:  Xgboost算法\\n@url:  \\n'}, 'SelectFromModel': <class 'sklearn.feature_selection.from_model.SelectFromModel'>, 'X': array([[5.1, 3.5, 1.4, 0.2],\n       [4.9, 3. , 1....2, 3.4, 5.4, 2.3],\n       [5.9, 3. , 5.1, 1.8]]), 'XGBClassifier': <class 'xgboost.sklearn.XGBClassifier'>, 'X_test': array([[5.9, 3. , 5.1, 1.8],\n       [5.4, 3. , 4....4, 2.7, 5.3, 1.9],\n       [4.7, 3.2, 1.6, 0.2]]), 'X_train': array([[4.6, 3.1, 1.5, 0.2],\n       [5.1, 3.4, 1....8, 2.7, 4.1, 1. ],\n       [5. , 3. , 1.6, 0.2]]), '_': '\\n@author: KM\\n@license: (C) Copyright 2013-2017, ...b\\n@time: 2019/4/9 9:44\\n@desc:  Xgboost算法\\n@url:  \\n', '_1': '\\n@author: KM\\n@license: (C) Copyright 2013-2017, ...b\\n@time: 2019/4/9 9:44\\n@desc:  Xgboost算法\\n@url:  \\n', ...}\n        self.user_ns = {'GridSearchCV': <class 'sklearn.model_selection._search.GridSearchCV'>, 'In': ['', \"#!/usr/bin/env python\\n# encoding: utf-8\\n'''\\n@aut...time: 2019/4/9 9:44\\n@desc:  Xgboost算法\\n@url:  \\n'''\", 'from sklearn.datasets import load_iris\\nimport xg...00))\\n \\n# 显示重要特征\\nplot_importance(model)\\nplt.show()', 'from sklearn.datasets import load_iris\\nimport xg...00))\\n \\n# 显示重要特征\\nplot_importance(model)\\nplt.show()', 'from sklearn.datasets import load_iris\\nimport xg...00))\\n \\n# 显示重要特征\\nplot_importance(model)\\nplt.show()', 'import xgboost as xgb\\nfrom xgboost import plot_i...est)\\n \\n# 显示重要特征\\nplot_importance(model)\\nplt.show()', \"# XGBClassifier\\nfrom xgboost.sklearn import XGBC...  seed = 1000,  # 随机种子\\n    # eval_metric ='auc'\\n)\", '# 基于Sckit-learn接口的分类\\nfrom sklearn.datasets impor...00))\\n \\n# 显示重要特征\\nplot_importance(model)\\nplt.show()', 'import xgboost as xgb\\nfrom xgboost import plot_i...est)\\n \\n# 显示重要特征\\nplot_importance(model)\\nplt.show()', 'from sklearn.model_selection import train_test_s...uccess!\",\\'\\\\n\\',\"cost time:\",cost_time,\"(s)......\")', 'from sklearn.model_selection import train_test_s...uccess!\",\\'\\\\n\\',\"cost time:\",cost_time,\"(s)......\")', 'from sklearn.model_selection import train_test_s...ress = xgb.XGBRegressor(n_estimators=1000,seed=0)', 'from sklearn.model_selection import train_test_s...ress = xgb.XGBRegressor(n_estimators=1000,seed=0)', 'from sklearn.model_selection import train_test_s...ress = xgb.XGBRegressor(n_estimators=1000,seed=0)', \"from xgboost import XGBClassifier\\nxgb1 = XGBClas...stic',\\n nthread=4,\\n scale_pos_weight=1,\\n seed=27)\", \"param_test1 = {\\n 'max_depth':range(3,10,2),\\n 'mi...搜索scoring='roc_auc'只支持二分类，多分类需要修改scoring(默认支持多分类)\", \"param_test1 = {\\n     'max_depth':range(3,10,2),\\n...搜索scoring='roc_auc'只支持二分类，多分类需要修改scoring(默认支持多分类)\", \"param_test3 = {\\n 'gamma':[i/10.0 for i in range(...res_, gsearch3.best_params_, gsearch3.best_score_\", \"param_test3 = {\\n 'gamma':[i/10.0 for i in range(...res_, gsearch3.best_params_, gsearch3.best_score_\", 'import xgboost as xgb\\nimport pandas as pd\\n#获取数据\\n...ain, y_train)\\n#test_1 = m_regress.predict(X_test)', ...], 'Out': {1: '\\n@author: KM\\n@license: (C) Copyright 2013-2017, ...b\\n@time: 2019/4/9 9:44\\n@desc:  Xgboost算法\\n@url:  \\n'}, 'SelectFromModel': <class 'sklearn.feature_selection.from_model.SelectFromModel'>, 'X': array([[5.1, 3.5, 1.4, 0.2],\n       [4.9, 3. , 1....2, 3.4, 5.4, 2.3],\n       [5.9, 3. , 5.1, 1.8]]), 'XGBClassifier': <class 'xgboost.sklearn.XGBClassifier'>, 'X_test': array([[5.9, 3. , 5.1, 1.8],\n       [5.4, 3. , 4....4, 2.7, 5.3, 1.9],\n       [4.7, 3.2, 1.6, 0.2]]), 'X_train': array([[4.6, 3.1, 1.5, 0.2],\n       [5.1, 3.4, 1....8, 2.7, 4.1, 1. ],\n       [5. , 3. , 1.6, 0.2]]), '_': '\\n@author: KM\\n@license: (C) Copyright 2013-2017, ...b\\n@time: 2019/4/9 9:44\\n@desc:  Xgboost算法\\n@url:  \\n', '_1': '\\n@author: KM\\n@license: (C) Copyright 2013-2017, ...b\\n@time: 2019/4/9 9:44\\n@desc:  Xgboost算法\\n@url:  \\n', ...}\n   3266             finally:\n   3267                 # Reset our crash handler in place\n   3268                 sys.excepthook = old_excepthook\n   3269         except SystemExit as e:\n\n...........................................................................\nE:\\gitWp\\DataWhale_Study_Wp\\20190409_Xgboost_study\\<ipython-input-26-0523cd37f4fb> in <module>()\n      7                   'subsample':[0.75,0.8,0.85,0.9]\n      8                   }]\n      9 tuned_parameters= [{'n_estimators':[100,200,500,1000]\n     10                   }]\n     11 clf = GridSearchCV(XGBClassifier(silent=0,nthread=4,learning_rate= 0.5,min_child_weight=1, max_depth=3,gamma=0,subsample=1,colsample_bytree=1,reg_lambda=1,seed=1000), param_grid=tuned_parameters,scoring='roc_auc',n_jobs=4,iid=False,cv=5) \n---> 12 clf.fit(X_train, y_train)\n     13 ##clf.grid_scores_, clf.best_params_, clf.best_score_\n     14 print(clf.best_params_)\n     15 y_true, y_pred = y_test, clf.predict(X_test)\n     16 print(\"Accuracy : %.4g\" % metrics.accuracy_score(y_true, y_pred))\n\n...........................................................................\nd:\\progrom\\python\\python\\python3\\lib\\site-packages\\sklearn\\model_selection\\_search.py in fit(self=GridSearchCV(cv=5, error_score='raise',\n       e...core='warn',\n       scoring='roc_auc', verbose=0), X=array([[4.6, 3.1, 1.5, 0.2],\n       [5.1, 3.4, 1....8, 2.7, 4.1, 1. ],\n       [5. , 3. , 1.6, 0.2]]), y=array([0, 0, 2, 0, 2, 1, 1, 1, 0, 0, 0, 1, 2, 1,...2, 2,\n       1, 2, 0, 2, 1, 1, 0, 2, 1, 2, 1, 0]), groups=None, **fit_params={})\n    634                                   return_train_score=self.return_train_score,\n    635                                   return_n_test_samples=True,\n    636                                   return_times=True, return_parameters=False,\n    637                                   error_score=self.error_score)\n    638           for parameters, (train, test) in product(candidate_params,\n--> 639                                                    cv.split(X, y, groups)))\n        cv.split = <bound method StratifiedKFold.split of Stratifie...ld(n_splits=5, random_state=None, shuffle=False)>\n        X = array([[4.6, 3.1, 1.5, 0.2],\n       [5.1, 3.4, 1....8, 2.7, 4.1, 1. ],\n       [5. , 3. , 1.6, 0.2]])\n        y = array([0, 0, 2, 0, 2, 1, 1, 1, 0, 0, 0, 1, 2, 1,...2, 2,\n       1, 2, 0, 2, 1, 1, 0, 2, 1, 2, 1, 0])\n        groups = None\n    640 \n    641         # if one choose to see train score, \"out\" will contain train score info\n    642         if self.return_train_score:\n    643             (train_score_dicts, test_score_dicts, test_sample_counts, fit_time,\n\n...........................................................................\nd:\\progrom\\python\\python\\python3\\lib\\site-packages\\sklearn\\externals\\joblib\\parallel.py in __call__(self=Parallel(n_jobs=4), iterable=<generator object BaseSearchCV.fit.<locals>.<genexpr>>)\n    784             if pre_dispatch == \"all\" or n_jobs == 1:\n    785                 # The iterable was consumed all at once by the above for loop.\n    786                 # No need to wait for async callbacks to trigger to\n    787                 # consumption.\n    788                 self._iterating = False\n--> 789             self.retrieve()\n        self.retrieve = <bound method Parallel.retrieve of Parallel(n_jobs=4)>\n    790             # Make sure that we get a last message telling us we are done\n    791             elapsed_time = time.time() - self._start_time\n    792             self._print('Done %3i out of %3i | elapsed: %s finished',\n    793                         (len(self._output), len(self._output),\n\n---------------------------------------------------------------------------\nSub-process traceback:\n---------------------------------------------------------------------------\nValueError                                         Tue Apr  9 20:35:40 2019\nPID: 2848         Python 3.6.3: d:\\progrom\\python\\python\\python3\\python.exe\n...........................................................................\nd:\\progrom\\python\\python\\python3\\lib\\site-packages\\sklearn\\externals\\joblib\\parallel.py in __call__(self=<sklearn.externals.joblib.parallel.BatchedCalls object>)\n    126     def __init__(self, iterator_slice):\n    127         self.items = list(iterator_slice)\n    128         self._size = len(self.items)\n    129 \n    130     def __call__(self):\n--> 131         return [func(*args, **kwargs) for func, args, kwargs in self.items]\n        self.items = [(<function _fit_and_score>, (XGBClassifier(base_score=0.5, booster='gbtree', ...eight=1, seed=1000, silent=0,\n       subsample=1), array([[4.6, 3.1, 1.5, 0.2],\n       [5.1, 3.4, 1....8, 2.7, 4.1, 1. ],\n       [5. , 3. , 1.6, 0.2]]), array([0, 0, 2, 0, 2, 1, 1, 1, 0, 0, 0, 1, 2, 1,...2, 2,\n       1, 2, 0, 2, 1, 1, 0, 2, 1, 2, 1, 0]), {'score': make_scorer(roc_auc_score, needs_threshold=True)}, array([18, 21, 23, 25, 26, 27, 28, 29, 30, 31, 3...,\n       90, 91, 92, 93, 94, 95, 96, 97, 98, 99]), array([ 0,  1,  2,  3,  4,  5,  6,  7,  8,  9, 1..., 12, 13, 14, 15, 16,\n       17, 19, 20, 22, 24]), 0, {'n_estimators': 100}), {'error_score': 'raise', 'fit_params': {}, 'return_n_test_samples': True, 'return_parameters': False, 'return_times': True, 'return_train_score': 'warn'})]\n    132 \n    133     def __len__(self):\n    134         return self._size\n    135 \n\n...........................................................................\nd:\\progrom\\python\\python\\python3\\lib\\site-packages\\sklearn\\externals\\joblib\\parallel.py in <listcomp>(.0=<list_iterator object>)\n    126     def __init__(self, iterator_slice):\n    127         self.items = list(iterator_slice)\n    128         self._size = len(self.items)\n    129 \n    130     def __call__(self):\n--> 131         return [func(*args, **kwargs) for func, args, kwargs in self.items]\n        func = <function _fit_and_score>\n        args = (XGBClassifier(base_score=0.5, booster='gbtree', ...eight=1, seed=1000, silent=0,\n       subsample=1), array([[4.6, 3.1, 1.5, 0.2],\n       [5.1, 3.4, 1....8, 2.7, 4.1, 1. ],\n       [5. , 3. , 1.6, 0.2]]), array([0, 0, 2, 0, 2, 1, 1, 1, 0, 0, 0, 1, 2, 1,...2, 2,\n       1, 2, 0, 2, 1, 1, 0, 2, 1, 2, 1, 0]), {'score': make_scorer(roc_auc_score, needs_threshold=True)}, array([18, 21, 23, 25, 26, 27, 28, 29, 30, 31, 3...,\n       90, 91, 92, 93, 94, 95, 96, 97, 98, 99]), array([ 0,  1,  2,  3,  4,  5,  6,  7,  8,  9, 1..., 12, 13, 14, 15, 16,\n       17, 19, 20, 22, 24]), 0, {'n_estimators': 100})\n        kwargs = {'error_score': 'raise', 'fit_params': {}, 'return_n_test_samples': True, 'return_parameters': False, 'return_times': True, 'return_train_score': 'warn'}\n    132 \n    133     def __len__(self):\n    134         return self._size\n    135 \n\n...........................................................................\nd:\\progrom\\python\\python\\python3\\lib\\site-packages\\sklearn\\model_selection\\_validation.py in _fit_and_score(estimator=XGBClassifier(base_score=0.5, booster='gbtree', ...eight=1, seed=1000, silent=0,\n       subsample=1), X=array([[4.6, 3.1, 1.5, 0.2],\n       [5.1, 3.4, 1....8, 2.7, 4.1, 1. ],\n       [5. , 3. , 1.6, 0.2]]), y=array([0, 0, 2, 0, 2, 1, 1, 1, 0, 0, 0, 1, 2, 1,...2, 2,\n       1, 2, 0, 2, 1, 1, 0, 2, 1, 2, 1, 0]), scorer={'score': make_scorer(roc_auc_score, needs_threshold=True)}, train=array([18, 21, 23, 25, 26, 27, 28, 29, 30, 31, 3...,\n       90, 91, 92, 93, 94, 95, 96, 97, 98, 99]), test=array([ 0,  1,  2,  3,  4,  5,  6,  7,  8,  9, 1..., 12, 13, 14, 15, 16,\n       17, 19, 20, 22, 24]), verbose=0, parameters={'n_estimators': 100}, fit_params={}, return_train_score='warn', return_parameters=False, return_n_test_samples=True, return_times=True, error_score='raise')\n    483                              \" make sure that it has been spelled correctly.)\")\n    484 \n    485     else:\n    486         fit_time = time.time() - start_time\n    487         # _score will return dict if is_multimetric is True\n--> 488         test_scores = _score(estimator, X_test, y_test, scorer, is_multimetric)\n        test_scores = {}\n        estimator = XGBClassifier(base_score=0.5, booster='gbtree', ...eight=1, seed=1000, silent=0,\n       subsample=1)\n        X_test = array([[4.6, 3.1, 1.5, 0.2],\n       [5.1, 3.4, 1....5, 3. , 5.8, 2.2],\n       [6.6, 2.9, 4.6, 1.3]])\n        y_test = array([0, 0, 2, 0, 2, 1, 1, 1, 0, 0, 0, 1, 2, 1, 1, 0, 2, 0, 2, 2, 2, 1])\n        scorer = {'score': make_scorer(roc_auc_score, needs_threshold=True)}\n        is_multimetric = True\n    489         score_time = time.time() - start_time - fit_time\n    490         if return_train_score:\n    491             train_scores = _score(estimator, X_train, y_train, scorer,\n    492                                   is_multimetric)\n\n...........................................................................\nd:\\progrom\\python\\python\\python3\\lib\\site-packages\\sklearn\\model_selection\\_validation.py in _score(estimator=XGBClassifier(base_score=0.5, booster='gbtree', ...eight=1, seed=1000, silent=0,\n       subsample=1), X_test=array([[4.6, 3.1, 1.5, 0.2],\n       [5.1, 3.4, 1....5, 3. , 5.8, 2.2],\n       [6.6, 2.9, 4.6, 1.3]]), y_test=array([0, 0, 2, 0, 2, 1, 1, 1, 0, 0, 0, 1, 2, 1, 1, 0, 2, 0, 2, 2, 2, 1]), scorer={'score': make_scorer(roc_auc_score, needs_threshold=True)}, is_multimetric=True)\n    518 \n    519     Will return a single float if is_multimetric is False and a dict of floats,\n    520     if is_multimetric is True\n    521     \"\"\"\n    522     if is_multimetric:\n--> 523         return _multimetric_score(estimator, X_test, y_test, scorer)\n        estimator = XGBClassifier(base_score=0.5, booster='gbtree', ...eight=1, seed=1000, silent=0,\n       subsample=1)\n        X_test = array([[4.6, 3.1, 1.5, 0.2],\n       [5.1, 3.4, 1....5, 3. , 5.8, 2.2],\n       [6.6, 2.9, 4.6, 1.3]])\n        y_test = array([0, 0, 2, 0, 2, 1, 1, 1, 0, 0, 0, 1, 2, 1, 1, 0, 2, 0, 2, 2, 2, 1])\n        scorer = {'score': make_scorer(roc_auc_score, needs_threshold=True)}\n    524     else:\n    525         if y_test is None:\n    526             score = scorer(estimator, X_test)\n    527         else:\n\n...........................................................................\nd:\\progrom\\python\\python\\python3\\lib\\site-packages\\sklearn\\model_selection\\_validation.py in _multimetric_score(estimator=XGBClassifier(base_score=0.5, booster='gbtree', ...eight=1, seed=1000, silent=0,\n       subsample=1), X_test=array([[4.6, 3.1, 1.5, 0.2],\n       [5.1, 3.4, 1....5, 3. , 5.8, 2.2],\n       [6.6, 2.9, 4.6, 1.3]]), y_test=array([0, 0, 2, 0, 2, 1, 1, 1, 0, 0, 0, 1, 2, 1, 1, 0, 2, 0, 2, 2, 2, 1]), scorers={'score': make_scorer(roc_auc_score, needs_threshold=True)})\n    548 \n    549     for name, scorer in scorers.items():\n    550         if y_test is None:\n    551             score = scorer(estimator, X_test)\n    552         else:\n--> 553             score = scorer(estimator, X_test, y_test)\n        score = undefined\n        scorer = make_scorer(roc_auc_score, needs_threshold=True)\n        estimator = XGBClassifier(base_score=0.5, booster='gbtree', ...eight=1, seed=1000, silent=0,\n       subsample=1)\n        X_test = array([[4.6, 3.1, 1.5, 0.2],\n       [5.1, 3.4, 1....5, 3. , 5.8, 2.2],\n       [6.6, 2.9, 4.6, 1.3]])\n        y_test = array([0, 0, 2, 0, 2, 1, 1, 1, 0, 0, 0, 1, 2, 1, 1, 0, 2, 0, 2, 2, 2, 1])\n    554 \n    555         if hasattr(score, 'item'):\n    556             try:\n    557                 # e.g. unwrap memmapped scalars\n\n...........................................................................\nd:\\progrom\\python\\python\\python3\\lib\\site-packages\\sklearn\\metrics\\scorer.py in __call__(self=make_scorer(roc_auc_score, needs_threshold=True), clf=XGBClassifier(base_score=0.5, booster='gbtree', ...eight=1, seed=1000, silent=0,\n       subsample=1), X=array([[4.6, 3.1, 1.5, 0.2],\n       [5.1, 3.4, 1....5, 3. , 5.8, 2.2],\n       [6.6, 2.9, 4.6, 1.3]]), y=array([0, 0, 2, 0, 2, 1, 1, 1, 0, 0, 0, 1, 2, 1, 1, 0, 2, 0, 2, 2, 2, 1]), sample_weight=None)\n    176         \"\"\"\n    177         super(_ThresholdScorer, self).__call__(clf, X, y,\n    178                                                sample_weight=sample_weight)\n    179         y_type = type_of_target(y)\n    180         if y_type not in (\"binary\", \"multilabel-indicator\"):\n--> 181             raise ValueError(\"{0} format is not supported\".format(y_type))\n        y_type = 'multiclass'\n    182 \n    183         if is_regressor(clf):\n    184             y_pred = clf.predict(X)\n    185         else:\n\nValueError: multiclass format is not supported\n___________________________________________________________________________",
     "output_type": "error",
     "traceback": [
      "\u001b[1;31m---------------------------------------------------------------------------\u001b[0m",
      "\u001b[1;31mRemoteTraceback\u001b[0m                           Traceback (most recent call last)",
      "\u001b[1;31mRemoteTraceback\u001b[0m: \n\"\"\"\nTraceback (most recent call last):\n  File \"d:\\progrom\\python\\python\\python3\\lib\\site-packages\\sklearn\\externals\\joblib\\_parallel_backends.py\", line 350, in __call__\n    return self.func(*args, **kwargs)\n  File \"d:\\progrom\\python\\python\\python3\\lib\\site-packages\\sklearn\\externals\\joblib\\parallel.py\", line 131, in __call__\n    return [func(*args, **kwargs) for func, args, kwargs in self.items]\n  File \"d:\\progrom\\python\\python\\python3\\lib\\site-packages\\sklearn\\externals\\joblib\\parallel.py\", line 131, in <listcomp>\n    return [func(*args, **kwargs) for func, args, kwargs in self.items]\n  File \"d:\\progrom\\python\\python\\python3\\lib\\site-packages\\sklearn\\model_selection\\_validation.py\", line 488, in _fit_and_score\n    test_scores = _score(estimator, X_test, y_test, scorer, is_multimetric)\n  File \"d:\\progrom\\python\\python\\python3\\lib\\site-packages\\sklearn\\model_selection\\_validation.py\", line 523, in _score\n    return _multimetric_score(estimator, X_test, y_test, scorer)\n  File \"d:\\progrom\\python\\python\\python3\\lib\\site-packages\\sklearn\\model_selection\\_validation.py\", line 553, in _multimetric_score\n    score = scorer(estimator, X_test, y_test)\n  File \"d:\\progrom\\python\\python\\python3\\lib\\site-packages\\sklearn\\metrics\\scorer.py\", line 181, in __call__\n    raise ValueError(\"{0} format is not supported\".format(y_type))\nValueError: multiclass format is not supported\n\nDuring handling of the above exception, another exception occurred:\n\nTraceback (most recent call last):\n  File \"d:\\progrom\\python\\python\\python3\\lib\\multiprocessing\\pool.py\", line 119, in worker\n    result = (True, func(*args, **kwds))\n  File \"d:\\progrom\\python\\python\\python3\\lib\\site-packages\\sklearn\\externals\\joblib\\_parallel_backends.py\", line 359, in __call__\n    raise TransportableException(text, e_type)\nsklearn.externals.joblib.my_exceptions.TransportableException: TransportableException\n___________________________________________________________________________\nValueError                                         Tue Apr  9 20:35:40 2019\nPID: 2848         Python 3.6.3: d:\\progrom\\python\\python\\python3\\python.exe\n...........................................................................\nd:\\progrom\\python\\python\\python3\\lib\\site-packages\\sklearn\\externals\\joblib\\parallel.py in __call__(self=<sklearn.externals.joblib.parallel.BatchedCalls object>)\n    126     def __init__(self, iterator_slice):\n    127         self.items = list(iterator_slice)\n    128         self._size = len(self.items)\n    129 \n    130     def __call__(self):\n--> 131         return [func(*args, **kwargs) for func, args, kwargs in self.items]\n        self.items = [(<function _fit_and_score>, (XGBClassifier(base_score=0.5, booster='gbtree', ...eight=1, seed=1000, silent=0,\n       subsample=1), array([[4.6, 3.1, 1.5, 0.2],\n       [5.1, 3.4, 1....8, 2.7, 4.1, 1. ],\n       [5. , 3. , 1.6, 0.2]]), array([0, 0, 2, 0, 2, 1, 1, 1, 0, 0, 0, 1, 2, 1,...2, 2,\n       1, 2, 0, 2, 1, 1, 0, 2, 1, 2, 1, 0]), {'score': make_scorer(roc_auc_score, needs_threshold=True)}, array([18, 21, 23, 25, 26, 27, 28, 29, 30, 31, 3...,\n       90, 91, 92, 93, 94, 95, 96, 97, 98, 99]), array([ 0,  1,  2,  3,  4,  5,  6,  7,  8,  9, 1..., 12, 13, 14, 15, 16,\n       17, 19, 20, 22, 24]), 0, {'n_estimators': 100}), {'error_score': 'raise', 'fit_params': {}, 'return_n_test_samples': True, 'return_parameters': False, 'return_times': True, 'return_train_score': 'warn'})]\n    132 \n    133     def __len__(self):\n    134         return self._size\n    135 \n\n...........................................................................\nd:\\progrom\\python\\python\\python3\\lib\\site-packages\\sklearn\\externals\\joblib\\parallel.py in <listcomp>(.0=<list_iterator object>)\n    126     def __init__(self, iterator_slice):\n    127         self.items = list(iterator_slice)\n    128         self._size = len(self.items)\n    129 \n    130     def __call__(self):\n--> 131         return [func(*args, **kwargs) for func, args, kwargs in self.items]\n        func = <function _fit_and_score>\n        args = (XGBClassifier(base_score=0.5, booster='gbtree', ...eight=1, seed=1000, silent=0,\n       subsample=1), array([[4.6, 3.1, 1.5, 0.2],\n       [5.1, 3.4, 1....8, 2.7, 4.1, 1. ],\n       [5. , 3. , 1.6, 0.2]]), array([0, 0, 2, 0, 2, 1, 1, 1, 0, 0, 0, 1, 2, 1,...2, 2,\n       1, 2, 0, 2, 1, 1, 0, 2, 1, 2, 1, 0]), {'score': make_scorer(roc_auc_score, needs_threshold=True)}, array([18, 21, 23, 25, 26, 27, 28, 29, 30, 31, 3...,\n       90, 91, 92, 93, 94, 95, 96, 97, 98, 99]), array([ 0,  1,  2,  3,  4,  5,  6,  7,  8,  9, 1..., 12, 13, 14, 15, 16,\n       17, 19, 20, 22, 24]), 0, {'n_estimators': 100})\n        kwargs = {'error_score': 'raise', 'fit_params': {}, 'return_n_test_samples': True, 'return_parameters': False, 'return_times': True, 'return_train_score': 'warn'}\n    132 \n    133     def __len__(self):\n    134         return self._size\n    135 \n\n...........................................................................\nd:\\progrom\\python\\python\\python3\\lib\\site-packages\\sklearn\\model_selection\\_validation.py in _fit_and_score(estimator=XGBClassifier(base_score=0.5, booster='gbtree', ...eight=1, seed=1000, silent=0,\n       subsample=1), X=array([[4.6, 3.1, 1.5, 0.2],\n       [5.1, 3.4, 1....8, 2.7, 4.1, 1. ],\n       [5. , 3. , 1.6, 0.2]]), y=array([0, 0, 2, 0, 2, 1, 1, 1, 0, 0, 0, 1, 2, 1,...2, 2,\n       1, 2, 0, 2, 1, 1, 0, 2, 1, 2, 1, 0]), scorer={'score': make_scorer(roc_auc_score, needs_threshold=True)}, train=array([18, 21, 23, 25, 26, 27, 28, 29, 30, 31, 3...,\n       90, 91, 92, 93, 94, 95, 96, 97, 98, 99]), test=array([ 0,  1,  2,  3,  4,  5,  6,  7,  8,  9, 1..., 12, 13, 14, 15, 16,\n       17, 19, 20, 22, 24]), verbose=0, parameters={'n_estimators': 100}, fit_params={}, return_train_score='warn', return_parameters=False, return_n_test_samples=True, return_times=True, error_score='raise')\n    483                              \" make sure that it has been spelled correctly.)\")\n    484 \n    485     else:\n    486         fit_time = time.time() - start_time\n    487         # _score will return dict if is_multimetric is True\n--> 488         test_scores = _score(estimator, X_test, y_test, scorer, is_multimetric)\n        test_scores = {}\n        estimator = XGBClassifier(base_score=0.5, booster='gbtree', ...eight=1, seed=1000, silent=0,\n       subsample=1)\n        X_test = array([[4.6, 3.1, 1.5, 0.2],\n       [5.1, 3.4, 1....5, 3. , 5.8, 2.2],\n       [6.6, 2.9, 4.6, 1.3]])\n        y_test = array([0, 0, 2, 0, 2, 1, 1, 1, 0, 0, 0, 1, 2, 1, 1, 0, 2, 0, 2, 2, 2, 1])\n        scorer = {'score': make_scorer(roc_auc_score, needs_threshold=True)}\n        is_multimetric = True\n    489         score_time = time.time() - start_time - fit_time\n    490         if return_train_score:\n    491             train_scores = _score(estimator, X_train, y_train, scorer,\n    492                                   is_multimetric)\n\n...........................................................................\nd:\\progrom\\python\\python\\python3\\lib\\site-packages\\sklearn\\model_selection\\_validation.py in _score(estimator=XGBClassifier(base_score=0.5, booster='gbtree', ...eight=1, seed=1000, silent=0,\n       subsample=1), X_test=array([[4.6, 3.1, 1.5, 0.2],\n       [5.1, 3.4, 1....5, 3. , 5.8, 2.2],\n       [6.6, 2.9, 4.6, 1.3]]), y_test=array([0, 0, 2, 0, 2, 1, 1, 1, 0, 0, 0, 1, 2, 1, 1, 0, 2, 0, 2, 2, 2, 1]), scorer={'score': make_scorer(roc_auc_score, needs_threshold=True)}, is_multimetric=True)\n    518 \n    519     Will return a single float if is_multimetric is False and a dict of floats,\n    520     if is_multimetric is True\n    521     \"\"\"\n    522     if is_multimetric:\n--> 523         return _multimetric_score(estimator, X_test, y_test, scorer)\n        estimator = XGBClassifier(base_score=0.5, booster='gbtree', ...eight=1, seed=1000, silent=0,\n       subsample=1)\n        X_test = array([[4.6, 3.1, 1.5, 0.2],\n       [5.1, 3.4, 1....5, 3. , 5.8, 2.2],\n       [6.6, 2.9, 4.6, 1.3]])\n        y_test = array([0, 0, 2, 0, 2, 1, 1, 1, 0, 0, 0, 1, 2, 1, 1, 0, 2, 0, 2, 2, 2, 1])\n        scorer = {'score': make_scorer(roc_auc_score, needs_threshold=True)}\n    524     else:\n    525         if y_test is None:\n    526             score = scorer(estimator, X_test)\n    527         else:\n\n...........................................................................\nd:\\progrom\\python\\python\\python3\\lib\\site-packages\\sklearn\\model_selection\\_validation.py in _multimetric_score(estimator=XGBClassifier(base_score=0.5, booster='gbtree', ...eight=1, seed=1000, silent=0,\n       subsample=1), X_test=array([[4.6, 3.1, 1.5, 0.2],\n       [5.1, 3.4, 1....5, 3. , 5.8, 2.2],\n       [6.6, 2.9, 4.6, 1.3]]), y_test=array([0, 0, 2, 0, 2, 1, 1, 1, 0, 0, 0, 1, 2, 1, 1, 0, 2, 0, 2, 2, 2, 1]), scorers={'score': make_scorer(roc_auc_score, needs_threshold=True)})\n    548 \n    549     for name, scorer in scorers.items():\n    550         if y_test is None:\n    551             score = scorer(estimator, X_test)\n    552         else:\n--> 553             score = scorer(estimator, X_test, y_test)\n        score = undefined\n        scorer = make_scorer(roc_auc_score, needs_threshold=True)\n        estimator = XGBClassifier(base_score=0.5, booster='gbtree', ...eight=1, seed=1000, silent=0,\n       subsample=1)\n        X_test = array([[4.6, 3.1, 1.5, 0.2],\n       [5.1, 3.4, 1....5, 3. , 5.8, 2.2],\n       [6.6, 2.9, 4.6, 1.3]])\n        y_test = array([0, 0, 2, 0, 2, 1, 1, 1, 0, 0, 0, 1, 2, 1, 1, 0, 2, 0, 2, 2, 2, 1])\n    554 \n    555         if hasattr(score, 'item'):\n    556             try:\n    557                 # e.g. unwrap memmapped scalars\n\n...........................................................................\nd:\\progrom\\python\\python\\python3\\lib\\site-packages\\sklearn\\metrics\\scorer.py in __call__(self=make_scorer(roc_auc_score, needs_threshold=True), clf=XGBClassifier(base_score=0.5, booster='gbtree', ...eight=1, seed=1000, silent=0,\n       subsample=1), X=array([[4.6, 3.1, 1.5, 0.2],\n       [5.1, 3.4, 1....5, 3. , 5.8, 2.2],\n       [6.6, 2.9, 4.6, 1.3]]), y=array([0, 0, 2, 0, 2, 1, 1, 1, 0, 0, 0, 1, 2, 1, 1, 0, 2, 0, 2, 2, 2, 1]), sample_weight=None)\n    176         \"\"\"\n    177         super(_ThresholdScorer, self).__call__(clf, X, y,\n    178                                                sample_weight=sample_weight)\n    179         y_type = type_of_target(y)\n    180         if y_type not in (\"binary\", \"multilabel-indicator\"):\n--> 181             raise ValueError(\"{0} format is not supported\".format(y_type))\n        y_type = 'multiclass'\n    182 \n    183         if is_regressor(clf):\n    184             y_pred = clf.predict(X)\n    185         else:\n\nValueError: multiclass format is not supported\n___________________________________________________________________________\n\"\"\"",
      "\nThe above exception was the direct cause of the following exception:\n",
      "\u001b[1;31mTransportableException\u001b[0m                    Traceback (most recent call last)",
      "\u001b[1;32md:\\progrom\\python\\python\\python3\\lib\\site-packages\\sklearn\\externals\\joblib\\parallel.py\u001b[0m in \u001b[0;36mretrieve\u001b[1;34m(self)\u001b[0m\n\u001b[0;32m    698\u001b[0m                 \u001b[1;32mif\u001b[0m \u001b[0mgetattr\u001b[0m\u001b[1;33m(\u001b[0m\u001b[0mself\u001b[0m\u001b[1;33m.\u001b[0m\u001b[0m_backend\u001b[0m\u001b[1;33m,\u001b[0m \u001b[1;34m'supports_timeout'\u001b[0m\u001b[1;33m,\u001b[0m \u001b[1;32mFalse\u001b[0m\u001b[1;33m)\u001b[0m\u001b[1;33m:\u001b[0m\u001b[1;33m\u001b[0m\u001b[0m\n\u001b[1;32m--> 699\u001b[1;33m                     \u001b[0mself\u001b[0m\u001b[1;33m.\u001b[0m\u001b[0m_output\u001b[0m\u001b[1;33m.\u001b[0m\u001b[0mextend\u001b[0m\u001b[1;33m(\u001b[0m\u001b[0mjob\u001b[0m\u001b[1;33m.\u001b[0m\u001b[0mget\u001b[0m\u001b[1;33m(\u001b[0m\u001b[0mtimeout\u001b[0m\u001b[1;33m=\u001b[0m\u001b[0mself\u001b[0m\u001b[1;33m.\u001b[0m\u001b[0mtimeout\u001b[0m\u001b[1;33m)\u001b[0m\u001b[1;33m)\u001b[0m\u001b[1;33m\u001b[0m\u001b[0m\n\u001b[0m\u001b[0;32m    700\u001b[0m                 \u001b[1;32melse\u001b[0m\u001b[1;33m:\u001b[0m\u001b[1;33m\u001b[0m\u001b[0m\n",
      "\u001b[1;32md:\\progrom\\python\\python\\python3\\lib\\multiprocessing\\pool.py\u001b[0m in \u001b[0;36mget\u001b[1;34m(self, timeout)\u001b[0m\n\u001b[0;32m    643\u001b[0m         \u001b[1;32melse\u001b[0m\u001b[1;33m:\u001b[0m\u001b[1;33m\u001b[0m\u001b[0m\n\u001b[1;32m--> 644\u001b[1;33m             \u001b[1;32mraise\u001b[0m \u001b[0mself\u001b[0m\u001b[1;33m.\u001b[0m\u001b[0m_value\u001b[0m\u001b[1;33m\u001b[0m\u001b[0m\n\u001b[0m\u001b[0;32m    645\u001b[0m \u001b[1;33m\u001b[0m\u001b[0m\n",
      "\u001b[1;31mTransportableException\u001b[0m: TransportableException\n___________________________________________________________________________\nValueError                                         Tue Apr  9 20:35:40 2019\nPID: 2848         Python 3.6.3: d:\\progrom\\python\\python\\python3\\python.exe\n...........................................................................\nd:\\progrom\\python\\python\\python3\\lib\\site-packages\\sklearn\\externals\\joblib\\parallel.py in __call__(self=<sklearn.externals.joblib.parallel.BatchedCalls object>)\n    126     def __init__(self, iterator_slice):\n    127         self.items = list(iterator_slice)\n    128         self._size = len(self.items)\n    129 \n    130     def __call__(self):\n--> 131         return [func(*args, **kwargs) for func, args, kwargs in self.items]\n        self.items = [(<function _fit_and_score>, (XGBClassifier(base_score=0.5, booster='gbtree', ...eight=1, seed=1000, silent=0,\n       subsample=1), array([[4.6, 3.1, 1.5, 0.2],\n       [5.1, 3.4, 1....8, 2.7, 4.1, 1. ],\n       [5. , 3. , 1.6, 0.2]]), array([0, 0, 2, 0, 2, 1, 1, 1, 0, 0, 0, 1, 2, 1,...2, 2,\n       1, 2, 0, 2, 1, 1, 0, 2, 1, 2, 1, 0]), {'score': make_scorer(roc_auc_score, needs_threshold=True)}, array([18, 21, 23, 25, 26, 27, 28, 29, 30, 31, 3...,\n       90, 91, 92, 93, 94, 95, 96, 97, 98, 99]), array([ 0,  1,  2,  3,  4,  5,  6,  7,  8,  9, 1..., 12, 13, 14, 15, 16,\n       17, 19, 20, 22, 24]), 0, {'n_estimators': 100}), {'error_score': 'raise', 'fit_params': {}, 'return_n_test_samples': True, 'return_parameters': False, 'return_times': True, 'return_train_score': 'warn'})]\n    132 \n    133     def __len__(self):\n    134         return self._size\n    135 \n\n...........................................................................\nd:\\progrom\\python\\python\\python3\\lib\\site-packages\\sklearn\\externals\\joblib\\parallel.py in <listcomp>(.0=<list_iterator object>)\n    126     def __init__(self, iterator_slice):\n    127         self.items = list(iterator_slice)\n    128         self._size = len(self.items)\n    129 \n    130     def __call__(self):\n--> 131         return [func(*args, **kwargs) for func, args, kwargs in self.items]\n        func = <function _fit_and_score>\n        args = (XGBClassifier(base_score=0.5, booster='gbtree', ...eight=1, seed=1000, silent=0,\n       subsample=1), array([[4.6, 3.1, 1.5, 0.2],\n       [5.1, 3.4, 1....8, 2.7, 4.1, 1. ],\n       [5. , 3. , 1.6, 0.2]]), array([0, 0, 2, 0, 2, 1, 1, 1, 0, 0, 0, 1, 2, 1,...2, 2,\n       1, 2, 0, 2, 1, 1, 0, 2, 1, 2, 1, 0]), {'score': make_scorer(roc_auc_score, needs_threshold=True)}, array([18, 21, 23, 25, 26, 27, 28, 29, 30, 31, 3...,\n       90, 91, 92, 93, 94, 95, 96, 97, 98, 99]), array([ 0,  1,  2,  3,  4,  5,  6,  7,  8,  9, 1..., 12, 13, 14, 15, 16,\n       17, 19, 20, 22, 24]), 0, {'n_estimators': 100})\n        kwargs = {'error_score': 'raise', 'fit_params': {}, 'return_n_test_samples': True, 'return_parameters': False, 'return_times': True, 'return_train_score': 'warn'}\n    132 \n    133     def __len__(self):\n    134         return self._size\n    135 \n\n...........................................................................\nd:\\progrom\\python\\python\\python3\\lib\\site-packages\\sklearn\\model_selection\\_validation.py in _fit_and_score(estimator=XGBClassifier(base_score=0.5, booster='gbtree', ...eight=1, seed=1000, silent=0,\n       subsample=1), X=array([[4.6, 3.1, 1.5, 0.2],\n       [5.1, 3.4, 1....8, 2.7, 4.1, 1. ],\n       [5. , 3. , 1.6, 0.2]]), y=array([0, 0, 2, 0, 2, 1, 1, 1, 0, 0, 0, 1, 2, 1,...2, 2,\n       1, 2, 0, 2, 1, 1, 0, 2, 1, 2, 1, 0]), scorer={'score': make_scorer(roc_auc_score, needs_threshold=True)}, train=array([18, 21, 23, 25, 26, 27, 28, 29, 30, 31, 3...,\n       90, 91, 92, 93, 94, 95, 96, 97, 98, 99]), test=array([ 0,  1,  2,  3,  4,  5,  6,  7,  8,  9, 1..., 12, 13, 14, 15, 16,\n       17, 19, 20, 22, 24]), verbose=0, parameters={'n_estimators': 100}, fit_params={}, return_train_score='warn', return_parameters=False, return_n_test_samples=True, return_times=True, error_score='raise')\n    483                              \" make sure that it has been spelled correctly.)\")\n    484 \n    485     else:\n    486         fit_time = time.time() - start_time\n    487         # _score will return dict if is_multimetric is True\n--> 488         test_scores = _score(estimator, X_test, y_test, scorer, is_multimetric)\n        test_scores = {}\n        estimator = XGBClassifier(base_score=0.5, booster='gbtree', ...eight=1, seed=1000, silent=0,\n       subsample=1)\n        X_test = array([[4.6, 3.1, 1.5, 0.2],\n       [5.1, 3.4, 1....5, 3. , 5.8, 2.2],\n       [6.6, 2.9, 4.6, 1.3]])\n        y_test = array([0, 0, 2, 0, 2, 1, 1, 1, 0, 0, 0, 1, 2, 1, 1, 0, 2, 0, 2, 2, 2, 1])\n        scorer = {'score': make_scorer(roc_auc_score, needs_threshold=True)}\n        is_multimetric = True\n    489         score_time = time.time() - start_time - fit_time\n    490         if return_train_score:\n    491             train_scores = _score(estimator, X_train, y_train, scorer,\n    492                                   is_multimetric)\n\n...........................................................................\nd:\\progrom\\python\\python\\python3\\lib\\site-packages\\sklearn\\model_selection\\_validation.py in _score(estimator=XGBClassifier(base_score=0.5, booster='gbtree', ...eight=1, seed=1000, silent=0,\n       subsample=1), X_test=array([[4.6, 3.1, 1.5, 0.2],\n       [5.1, 3.4, 1....5, 3. , 5.8, 2.2],\n       [6.6, 2.9, 4.6, 1.3]]), y_test=array([0, 0, 2, 0, 2, 1, 1, 1, 0, 0, 0, 1, 2, 1, 1, 0, 2, 0, 2, 2, 2, 1]), scorer={'score': make_scorer(roc_auc_score, needs_threshold=True)}, is_multimetric=True)\n    518 \n    519     Will return a single float if is_multimetric is False and a dict of floats,\n    520     if is_multimetric is True\n    521     \"\"\"\n    522     if is_multimetric:\n--> 523         return _multimetric_score(estimator, X_test, y_test, scorer)\n        estimator = XGBClassifier(base_score=0.5, booster='gbtree', ...eight=1, seed=1000, silent=0,\n       subsample=1)\n        X_test = array([[4.6, 3.1, 1.5, 0.2],\n       [5.1, 3.4, 1....5, 3. , 5.8, 2.2],\n       [6.6, 2.9, 4.6, 1.3]])\n        y_test = array([0, 0, 2, 0, 2, 1, 1, 1, 0, 0, 0, 1, 2, 1, 1, 0, 2, 0, 2, 2, 2, 1])\n        scorer = {'score': make_scorer(roc_auc_score, needs_threshold=True)}\n    524     else:\n    525         if y_test is None:\n    526             score = scorer(estimator, X_test)\n    527         else:\n\n...........................................................................\nd:\\progrom\\python\\python\\python3\\lib\\site-packages\\sklearn\\model_selection\\_validation.py in _multimetric_score(estimator=XGBClassifier(base_score=0.5, booster='gbtree', ...eight=1, seed=1000, silent=0,\n       subsample=1), X_test=array([[4.6, 3.1, 1.5, 0.2],\n       [5.1, 3.4, 1....5, 3. , 5.8, 2.2],\n       [6.6, 2.9, 4.6, 1.3]]), y_test=array([0, 0, 2, 0, 2, 1, 1, 1, 0, 0, 0, 1, 2, 1, 1, 0, 2, 0, 2, 2, 2, 1]), scorers={'score': make_scorer(roc_auc_score, needs_threshold=True)})\n    548 \n    549     for name, scorer in scorers.items():\n    550         if y_test is None:\n    551             score = scorer(estimator, X_test)\n    552         else:\n--> 553             score = scorer(estimator, X_test, y_test)\n        score = undefined\n        scorer = make_scorer(roc_auc_score, needs_threshold=True)\n        estimator = XGBClassifier(base_score=0.5, booster='gbtree', ...eight=1, seed=1000, silent=0,\n       subsample=1)\n        X_test = array([[4.6, 3.1, 1.5, 0.2],\n       [5.1, 3.4, 1....5, 3. , 5.8, 2.2],\n       [6.6, 2.9, 4.6, 1.3]])\n        y_test = array([0, 0, 2, 0, 2, 1, 1, 1, 0, 0, 0, 1, 2, 1, 1, 0, 2, 0, 2, 2, 2, 1])\n    554 \n    555         if hasattr(score, 'item'):\n    556             try:\n    557                 # e.g. unwrap memmapped scalars\n\n...........................................................................\nd:\\progrom\\python\\python\\python3\\lib\\site-packages\\sklearn\\metrics\\scorer.py in __call__(self=make_scorer(roc_auc_score, needs_threshold=True), clf=XGBClassifier(base_score=0.5, booster='gbtree', ...eight=1, seed=1000, silent=0,\n       subsample=1), X=array([[4.6, 3.1, 1.5, 0.2],\n       [5.1, 3.4, 1....5, 3. , 5.8, 2.2],\n       [6.6, 2.9, 4.6, 1.3]]), y=array([0, 0, 2, 0, 2, 1, 1, 1, 0, 0, 0, 1, 2, 1, 1, 0, 2, 0, 2, 2, 2, 1]), sample_weight=None)\n    176         \"\"\"\n    177         super(_ThresholdScorer, self).__call__(clf, X, y,\n    178                                                sample_weight=sample_weight)\n    179         y_type = type_of_target(y)\n    180         if y_type not in (\"binary\", \"multilabel-indicator\"):\n--> 181             raise ValueError(\"{0} format is not supported\".format(y_type))\n        y_type = 'multiclass'\n    182 \n    183         if is_regressor(clf):\n    184             y_pred = clf.predict(X)\n    185         else:\n\nValueError: multiclass format is not supported\n___________________________________________________________________________",
      "\nDuring handling of the above exception, another exception occurred:\n",
      "\u001b[1;31mJoblibValueError\u001b[0m                          Traceback (most recent call last)",
      "\u001b[1;32m<ipython-input-26-0523cd37f4fb>\u001b[0m in \u001b[0;36m<module>\u001b[1;34m\u001b[0m\n\u001b[0;32m     10\u001b[0m                   }]\n\u001b[0;32m     11\u001b[0m \u001b[0mclf\u001b[0m \u001b[1;33m=\u001b[0m \u001b[0mGridSearchCV\u001b[0m\u001b[1;33m(\u001b[0m\u001b[0mXGBClassifier\u001b[0m\u001b[1;33m(\u001b[0m\u001b[0msilent\u001b[0m\u001b[1;33m=\u001b[0m\u001b[1;36m0\u001b[0m\u001b[1;33m,\u001b[0m\u001b[0mnthread\u001b[0m\u001b[1;33m=\u001b[0m\u001b[1;36m4\u001b[0m\u001b[1;33m,\u001b[0m\u001b[0mlearning_rate\u001b[0m\u001b[1;33m=\u001b[0m \u001b[1;36m0.5\u001b[0m\u001b[1;33m,\u001b[0m\u001b[0mmin_child_weight\u001b[0m\u001b[1;33m=\u001b[0m\u001b[1;36m1\u001b[0m\u001b[1;33m,\u001b[0m \u001b[0mmax_depth\u001b[0m\u001b[1;33m=\u001b[0m\u001b[1;36m3\u001b[0m\u001b[1;33m,\u001b[0m\u001b[0mgamma\u001b[0m\u001b[1;33m=\u001b[0m\u001b[1;36m0\u001b[0m\u001b[1;33m,\u001b[0m\u001b[0msubsample\u001b[0m\u001b[1;33m=\u001b[0m\u001b[1;36m1\u001b[0m\u001b[1;33m,\u001b[0m\u001b[0mcolsample_bytree\u001b[0m\u001b[1;33m=\u001b[0m\u001b[1;36m1\u001b[0m\u001b[1;33m,\u001b[0m\u001b[0mreg_lambda\u001b[0m\u001b[1;33m=\u001b[0m\u001b[1;36m1\u001b[0m\u001b[1;33m,\u001b[0m\u001b[0mseed\u001b[0m\u001b[1;33m=\u001b[0m\u001b[1;36m1000\u001b[0m\u001b[1;33m)\u001b[0m\u001b[1;33m,\u001b[0m \u001b[0mparam_grid\u001b[0m\u001b[1;33m=\u001b[0m\u001b[0mtuned_parameters\u001b[0m\u001b[1;33m,\u001b[0m\u001b[0mscoring\u001b[0m\u001b[1;33m=\u001b[0m\u001b[1;34m'roc_auc'\u001b[0m\u001b[1;33m,\u001b[0m\u001b[0mn_jobs\u001b[0m\u001b[1;33m=\u001b[0m\u001b[1;36m4\u001b[0m\u001b[1;33m,\u001b[0m\u001b[0miid\u001b[0m\u001b[1;33m=\u001b[0m\u001b[1;32mFalse\u001b[0m\u001b[1;33m,\u001b[0m\u001b[0mcv\u001b[0m\u001b[1;33m=\u001b[0m\u001b[1;36m5\u001b[0m\u001b[1;33m)\u001b[0m\u001b[1;33m\u001b[0m\u001b[0m\n\u001b[1;32m---> 12\u001b[1;33m \u001b[0mclf\u001b[0m\u001b[1;33m.\u001b[0m\u001b[0mfit\u001b[0m\u001b[1;33m(\u001b[0m\u001b[0mX_train\u001b[0m\u001b[1;33m,\u001b[0m \u001b[0my_train\u001b[0m\u001b[1;33m)\u001b[0m\u001b[1;33m\u001b[0m\u001b[0m\n\u001b[0m\u001b[0;32m     13\u001b[0m \u001b[1;31m##clf.grid_scores_, clf.best_params_, clf.best_score_\u001b[0m\u001b[1;33m\u001b[0m\u001b[1;33m\u001b[0m\u001b[0m\n\u001b[0;32m     14\u001b[0m \u001b[0mprint\u001b[0m\u001b[1;33m(\u001b[0m\u001b[0mclf\u001b[0m\u001b[1;33m.\u001b[0m\u001b[0mbest_params_\u001b[0m\u001b[1;33m)\u001b[0m\u001b[1;33m\u001b[0m\u001b[0m\n",
      "\u001b[1;32md:\\progrom\\python\\python\\python3\\lib\\site-packages\\sklearn\\model_selection\\_search.py\u001b[0m in \u001b[0;36mfit\u001b[1;34m(self, X, y, groups, **fit_params)\u001b[0m\n\u001b[0;32m    637\u001b[0m                                   error_score=self.error_score)\n\u001b[0;32m    638\u001b[0m           for parameters, (train, test) in product(candidate_params,\n\u001b[1;32m--> 639\u001b[1;33m                                                    cv.split(X, y, groups)))\n\u001b[0m\u001b[0;32m    640\u001b[0m \u001b[1;33m\u001b[0m\u001b[0m\n\u001b[0;32m    641\u001b[0m         \u001b[1;31m# if one choose to see train score, \"out\" will contain train score info\u001b[0m\u001b[1;33m\u001b[0m\u001b[1;33m\u001b[0m\u001b[0m\n",
      "\u001b[1;32md:\\progrom\\python\\python\\python3\\lib\\site-packages\\sklearn\\externals\\joblib\\parallel.py\u001b[0m in \u001b[0;36m__call__\u001b[1;34m(self, iterable)\u001b[0m\n\u001b[0;32m    787\u001b[0m                 \u001b[1;31m# consumption.\u001b[0m\u001b[1;33m\u001b[0m\u001b[1;33m\u001b[0m\u001b[0m\n\u001b[0;32m    788\u001b[0m                 \u001b[0mself\u001b[0m\u001b[1;33m.\u001b[0m\u001b[0m_iterating\u001b[0m \u001b[1;33m=\u001b[0m \u001b[1;32mFalse\u001b[0m\u001b[1;33m\u001b[0m\u001b[0m\n\u001b[1;32m--> 789\u001b[1;33m             \u001b[0mself\u001b[0m\u001b[1;33m.\u001b[0m\u001b[0mretrieve\u001b[0m\u001b[1;33m(\u001b[0m\u001b[1;33m)\u001b[0m\u001b[1;33m\u001b[0m\u001b[0m\n\u001b[0m\u001b[0;32m    790\u001b[0m             \u001b[1;31m# Make sure that we get a last message telling us we are done\u001b[0m\u001b[1;33m\u001b[0m\u001b[1;33m\u001b[0m\u001b[0m\n\u001b[0;32m    791\u001b[0m             \u001b[0melapsed_time\u001b[0m \u001b[1;33m=\u001b[0m \u001b[0mtime\u001b[0m\u001b[1;33m.\u001b[0m\u001b[0mtime\u001b[0m\u001b[1;33m(\u001b[0m\u001b[1;33m)\u001b[0m \u001b[1;33m-\u001b[0m \u001b[0mself\u001b[0m\u001b[1;33m.\u001b[0m\u001b[0m_start_time\u001b[0m\u001b[1;33m\u001b[0m\u001b[0m\n",
      "\u001b[1;32md:\\progrom\\python\\python\\python3\\lib\\site-packages\\sklearn\\externals\\joblib\\parallel.py\u001b[0m in \u001b[0;36mretrieve\u001b[1;34m(self)\u001b[0m\n\u001b[0;32m    738\u001b[0m                     \u001b[0mexception\u001b[0m \u001b[1;33m=\u001b[0m \u001b[0mexception_type\u001b[0m\u001b[1;33m(\u001b[0m\u001b[0mreport\u001b[0m\u001b[1;33m)\u001b[0m\u001b[1;33m\u001b[0m\u001b[0m\n\u001b[0;32m    739\u001b[0m \u001b[1;33m\u001b[0m\u001b[0m\n\u001b[1;32m--> 740\u001b[1;33m                     \u001b[1;32mraise\u001b[0m \u001b[0mexception\u001b[0m\u001b[1;33m\u001b[0m\u001b[0m\n\u001b[0m\u001b[0;32m    741\u001b[0m \u001b[1;33m\u001b[0m\u001b[0m\n\u001b[0;32m    742\u001b[0m     \u001b[1;32mdef\u001b[0m \u001b[0m__call__\u001b[0m\u001b[1;33m(\u001b[0m\u001b[0mself\u001b[0m\u001b[1;33m,\u001b[0m \u001b[0miterable\u001b[0m\u001b[1;33m)\u001b[0m\u001b[1;33m:\u001b[0m\u001b[1;33m\u001b[0m\u001b[0m\n",
      "\u001b[1;31mJoblibValueError\u001b[0m: JoblibValueError\n___________________________________________________________________________\nMultiprocessing exception:\n...........................................................................\nd:\\progrom\\python\\python\\python3\\lib\\runpy.py in _run_module_as_main(mod_name='ipykernel_launcher', alter_argv=1)\n    188         sys.exit(msg)\n    189     main_globals = sys.modules[\"__main__\"].__dict__\n    190     if alter_argv:\n    191         sys.argv[0] = mod_spec.origin\n    192     return _run_code(code, main_globals, None,\n--> 193                      \"__main__\", mod_spec)\n        mod_spec = ModuleSpec(name='ipykernel_launcher', loader=<_f...hon3\\\\lib\\\\site-packages\\\\ipykernel_launcher.py')\n    194 \n    195 def run_module(mod_name, init_globals=None,\n    196                run_name=None, alter_sys=False):\n    197     \"\"\"Execute a module's code without importing it\n\n...........................................................................\nd:\\progrom\\python\\python\\python3\\lib\\runpy.py in _run_code(code=<code object <module> at 0x000001F9AC79DB70, fil...lib\\site-packages\\ipykernel_launcher.py\", line 5>, run_globals={'__annotations__': {}, '__builtins__': <module 'builtins' (built-in)>, '__cached__': r'd:\\progrom\\python\\python\\python3\\lib\\site-packages\\__pycache__\\ipykernel_launcher.cpython-36.pyc', '__doc__': 'Entry point for launching an IPython kernel.\\n\\nTh...orts until\\nafter removing the cwd from sys.path.\\n', '__file__': r'd:\\progrom\\python\\python\\python3\\lib\\site-packages\\ipykernel_launcher.py', '__loader__': <_frozen_importlib_external.SourceFileLoader object>, '__name__': '__main__', '__package__': '', '__spec__': ModuleSpec(name='ipykernel_launcher', loader=<_f...hon3\\\\lib\\\\site-packages\\\\ipykernel_launcher.py'), 'app': <module 'ipykernel.kernelapp' from 'd:\\\\progrom\\...n3\\\\lib\\\\site-packages\\\\ipykernel\\\\kernelapp.py'>, ...}, init_globals=None, mod_name='__main__', mod_spec=ModuleSpec(name='ipykernel_launcher', loader=<_f...hon3\\\\lib\\\\site-packages\\\\ipykernel_launcher.py'), pkg_name='', script_name=None)\n     80                        __cached__ = cached,\n     81                        __doc__ = None,\n     82                        __loader__ = loader,\n     83                        __package__ = pkg_name,\n     84                        __spec__ = mod_spec)\n---> 85     exec(code, run_globals)\n        code = <code object <module> at 0x000001F9AC79DB70, fil...lib\\site-packages\\ipykernel_launcher.py\", line 5>\n        run_globals = {'__annotations__': {}, '__builtins__': <module 'builtins' (built-in)>, '__cached__': r'd:\\progrom\\python\\python\\python3\\lib\\site-packages\\__pycache__\\ipykernel_launcher.cpython-36.pyc', '__doc__': 'Entry point for launching an IPython kernel.\\n\\nTh...orts until\\nafter removing the cwd from sys.path.\\n', '__file__': r'd:\\progrom\\python\\python\\python3\\lib\\site-packages\\ipykernel_launcher.py', '__loader__': <_frozen_importlib_external.SourceFileLoader object>, '__name__': '__main__', '__package__': '', '__spec__': ModuleSpec(name='ipykernel_launcher', loader=<_f...hon3\\\\lib\\\\site-packages\\\\ipykernel_launcher.py'), 'app': <module 'ipykernel.kernelapp' from 'd:\\\\progrom\\...n3\\\\lib\\\\site-packages\\\\ipykernel\\\\kernelapp.py'>, ...}\n     86     return run_globals\n     87 \n     88 def _run_module_code(code, init_globals=None,\n     89                     mod_name=None, mod_spec=None,\n\n...........................................................................\nd:\\progrom\\python\\python\\python3\\lib\\site-packages\\ipykernel_launcher.py in <module>()\n     11     # This is added back by InteractiveShellApp.init_path()\n     12     if sys.path[0] == '':\n     13         del sys.path[0]\n     14 \n     15     from ipykernel import kernelapp as app\n---> 16     app.launch_new_instance()\n\n...........................................................................\nd:\\progrom\\python\\python\\python3\\lib\\site-packages\\traitlets-4.3.2-py3.6.egg\\traitlets\\config\\application.py in launch_instance(cls=<class 'ipykernel.kernelapp.IPKernelApp'>, argv=None, **kwargs={})\n    653 \n    654         If a global instance already exists, this reinitializes and starts it\n    655         \"\"\"\n    656         app = cls.instance(**kwargs)\n    657         app.initialize(argv)\n--> 658         app.start()\n        app.start = <bound method IPKernelApp.start of <ipykernel.kernelapp.IPKernelApp object>>\n    659 \n    660 #-----------------------------------------------------------------------------\n    661 # utility functions, for convenience\n    662 #-----------------------------------------------------------------------------\n\n...........................................................................\nd:\\progrom\\python\\python\\python3\\lib\\site-packages\\ipykernel\\kernelapp.py in start(self=<ipykernel.kernelapp.IPKernelApp object>)\n    500         if self.poller is not None:\n    501             self.poller.start()\n    502         self.kernel.start()\n    503         self.io_loop = ioloop.IOLoop.current()\n    504         try:\n--> 505             self.io_loop.start()\n        self.io_loop.start = <bound method BaseAsyncIOLoop.start of <tornado.platform.asyncio.AsyncIOMainLoop object>>\n    506         except KeyboardInterrupt:\n    507             pass\n    508 \n    509 launch_new_instance = IPKernelApp.launch_instance\n\n...........................................................................\nd:\\progrom\\python\\python\\python3\\lib\\site-packages\\tornado\\platform\\asyncio.py in start(self=<tornado.platform.asyncio.AsyncIOMainLoop object>)\n    107         except RuntimeError:\n    108             old_loop = None\n    109         try:\n    110             self._setup_logging()\n    111             asyncio.set_event_loop(self.asyncio_loop)\n--> 112             self.asyncio_loop.run_forever()\n        self.asyncio_loop.run_forever = <bound method BaseEventLoop.run_forever of <_Win...EventLoop running=True closed=False debug=False>>\n    113         finally:\n    114             asyncio.set_event_loop(old_loop)\n    115 \n    116     def stop(self):\n\n...........................................................................\nd:\\progrom\\python\\python\\python3\\lib\\asyncio\\base_events.py in run_forever(self=<_WindowsSelectorEventLoop running=True closed=False debug=False>)\n    416             sys.set_asyncgen_hooks(firstiter=self._asyncgen_firstiter_hook,\n    417                                    finalizer=self._asyncgen_finalizer_hook)\n    418         try:\n    419             events._set_running_loop(self)\n    420             while True:\n--> 421                 self._run_once()\n        self._run_once = <bound method BaseEventLoop._run_once of <_Windo...EventLoop running=True closed=False debug=False>>\n    422                 if self._stopping:\n    423                     break\n    424         finally:\n    425             self._stopping = False\n\n...........................................................................\nd:\\progrom\\python\\python\\python3\\lib\\asyncio\\base_events.py in _run_once(self=<_WindowsSelectorEventLoop running=True closed=False debug=False>)\n   1421                         logger.warning('Executing %s took %.3f seconds',\n   1422                                        _format_handle(handle), dt)\n   1423                 finally:\n   1424                     self._current_handle = None\n   1425             else:\n-> 1426                 handle._run()\n        handle._run = <bound method Handle._run of <Handle IOLoop._run_callback(functools.par...8E8>, ...]))>))>>\n   1427         handle = None  # Needed to break cycles when an exception occurs.\n   1428 \n   1429     def _set_coroutine_wrapper(self, enabled):\n   1430         try:\n\n...........................................................................\nd:\\progrom\\python\\python\\python3\\lib\\asyncio\\events.py in _run(self=<Handle IOLoop._run_callback(functools.par...8E8>, ...]))>))>)\n    122             self._callback = None\n    123             self._args = None\n    124 \n    125     def _run(self):\n    126         try:\n--> 127             self._callback(*self._args)\n        self._callback = <bound method IOLoop._run_callback of <tornado.platform.asyncio.AsyncIOMainLoop object>>\n        self._args = (functools.partial(<function wrap.<locals>.null_w...C36830>, <zmq.sugar.fr...001F9AEC368E8>, ...]))>),)\n    128         except Exception as exc:\n    129             cb = _format_callback_source(self._callback, self._args)\n    130             msg = 'Exception in callback {}'.format(cb)\n    131             context = {\n\n...........................................................................\nd:\\progrom\\python\\python\\python3\\lib\\site-packages\\tornado\\ioloop.py in _run_callback(self=<tornado.platform.asyncio.AsyncIOMainLoop object>, callback=functools.partial(<function wrap.<locals>.null_w...C36830>, <zmq.sugar.fr...001F9AEC368E8>, ...]))>))\n    755         \"\"\"Runs a callback with error handling.\n    756 \n    757         For use in subclasses.\n    758         \"\"\"\n    759         try:\n--> 760             ret = callback()\n        ret = undefined\n        callback = functools.partial(<function wrap.<locals>.null_w...C36830>, <zmq.sugar.fr...001F9AEC368E8>, ...]))>)\n    761             if ret is not None:\n    762                 from tornado import gen\n    763                 # Functions that return Futures typically swallow all\n    764                 # exceptions and store them in the Future.  If a Future\n\n...........................................................................\nd:\\progrom\\python\\python\\python3\\lib\\site-packages\\tornado\\stack_context.py in null_wrapper(*args=(<Future finished result=(10, 70, <bound method.....EC36830>, <zmq.sugar.fr...001F9AEC368E8>, ...]))>,), **kwargs={})\n    271         # Fast path when there are no active contexts.\n    272         def null_wrapper(*args, **kwargs):\n    273             try:\n    274                 current_state = _state.contexts\n    275                 _state.contexts = cap_contexts[0]\n--> 276                 return fn(*args, **kwargs)\n        args = (<Future finished result=(10, 70, <bound method.....EC36830>, <zmq.sugar.fr...001F9AEC368E8>, ...]))>,)\n        kwargs = {}\n    277             finally:\n    278                 _state.contexts = current_state\n    279         null_wrapper._wrapped = True\n    280         return null_wrapper\n\n...........................................................................\nd:\\progrom\\python\\python\\python3\\lib\\site-packages\\tornado\\gen.py in inner(f=None)\n   1194             return False\n   1195         elif not self.future.done():\n   1196             def inner(f):\n   1197                 # Break a reference cycle to speed GC.\n   1198                 f = None # noqa\n-> 1199                 self.run()\n   1200             self.io_loop.add_future(\n   1201                 self.future, inner)\n   1202             return False\n   1203         return True\n\n...........................................................................\nd:\\progrom\\python\\python\\python3\\lib\\site-packages\\tornado\\gen.py in run(self=<tornado.gen.Runner object>)\n   1108                         finally:\n   1109                             # Break up a reference to itself\n   1110                             # for faster GC on CPython.\n   1111                             exc_info = None\n   1112                     else:\n-> 1113                         yielded = self.gen.send(value)\n        yielded = undefined\n        self.gen.send = <built-in method send of generator object>\n        value = (10, 70, <bound method Kernel.dispatch_shell of <ipykernel.ipkernel.IPythonKernel object>>, (<zmq.eventloop.zmqstream.ZMQStream object>, [<zmq.sugar.frame.Frame object>, <zmq.sugar.frame.Frame object>, <zmq.sugar.frame.Frame object>, <zmq.sugar.frame.Frame object>, <zmq.sugar.frame.Frame object>, <zmq.sugar.frame.Frame object>, <zmq.sugar.frame.Frame object>]))\n   1114 \n   1115                     if stack_context._state.contexts is not orig_stack_contexts:\n   1116                         self.gen.throw(\n   1117                             stack_context.StackContextInconsistentError(\n\n...........................................................................\nd:\\progrom\\python\\python\\python3\\lib\\site-packages\\ipykernel\\kernelbase.py in process_one(self=<ipykernel.ipkernel.IPythonKernel object>, wait=True)\n    352         else:\n    353             try:\n    354                 priority, t, dispatch, args = self.msg_queue.get_nowait()\n    355             except QueueEmpty:\n    356                 return None\n--> 357         yield gen.maybe_future(dispatch(*args))\n        dispatch = <bound method Kernel.dispatch_shell of <ipykernel.ipkernel.IPythonKernel object>>\n        args = (<zmq.eventloop.zmqstream.ZMQStream object>, [<zmq.sugar.frame.Frame object>, <zmq.sugar.frame.Frame object>, <zmq.sugar.frame.Frame object>, <zmq.sugar.frame.Frame object>, <zmq.sugar.frame.Frame object>, <zmq.sugar.frame.Frame object>, <zmq.sugar.frame.Frame object>])\n    358 \n    359     @gen.coroutine\n    360     def dispatch_queue(self):\n    361         \"\"\"Coroutine to preserve order of message handling\n\n...........................................................................\nd:\\progrom\\python\\python\\python3\\lib\\site-packages\\tornado\\gen.py in wrapper(*args=(<ipykernel.ipkernel.IPythonKernel object>, <zmq.eventloop.zmqstream.ZMQStream object>, [<zmq.sugar.frame.Frame object>, <zmq.sugar.frame.Frame object>, <zmq.sugar.frame.Frame object>, <zmq.sugar.frame.Frame object>, <zmq.sugar.frame.Frame object>, <zmq.sugar.frame.Frame object>, <zmq.sugar.frame.Frame object>]), **kwargs={})\n    310                 # never actually yields, which in turn allows us to\n    311                 # use \"optional\" coroutines in critical path code without\n    312                 # performance penalty for the synchronous case.\n    313                 try:\n    314                     orig_stack_contexts = stack_context._state.contexts\n--> 315                     yielded = next(result)\n        yielded = undefined\n        result = <generator object dispatch_shell>\n    316                     if stack_context._state.contexts is not orig_stack_contexts:\n    317                         yielded = _create_future()\n    318                         yielded.set_exception(\n    319                             stack_context.StackContextInconsistentError(\n\n...........................................................................\nd:\\progrom\\python\\python\\python3\\lib\\site-packages\\ipykernel\\kernelbase.py in dispatch_shell(self=<ipykernel.ipkernel.IPythonKernel object>, stream=<zmq.eventloop.zmqstream.ZMQStream object>, msg={'buffers': [], 'content': {'allow_stdin': True, 'code': '# 代码1：\\n\\nfrom sklearn.model_selection import Grid...n): %f\" % metrics.roc_auc_score(y_true, y_proba))', 'silent': False, 'stop_on_error': True, 'store_history': True, 'user_expressions': {}}, 'header': {'date': datetime.datetime(2019, 4, 9, 12, 35, 37, 992234, tzinfo=tzutc()), 'msg_id': 'bc39e8a44f5d44548c9c37c30bfbf481', 'msg_type': 'execute_request', 'session': '8516af2d667a452b8ff51cd50fc53e88', 'username': 'username', 'version': '5.2'}, 'metadata': {}, 'msg_id': 'bc39e8a44f5d44548c9c37c30bfbf481', 'msg_type': 'execute_request', 'parent_header': {}})\n    262             try:\n    263                 self.pre_handler_hook()\n    264             except Exception:\n    265                 self.log.debug(\"Unable to signal in pre_handler_hook:\", exc_info=True)\n    266             try:\n--> 267                 yield gen.maybe_future(handler(stream, idents, msg))\n        handler = <bound method Kernel.execute_request of <ipykernel.ipkernel.IPythonKernel object>>\n        stream = <zmq.eventloop.zmqstream.ZMQStream object>\n        idents = [b'8516af2d667a452b8ff51cd50fc53e88']\n        msg = {'buffers': [], 'content': {'allow_stdin': True, 'code': '# 代码1：\\n\\nfrom sklearn.model_selection import Grid...n): %f\" % metrics.roc_auc_score(y_true, y_proba))', 'silent': False, 'stop_on_error': True, 'store_history': True, 'user_expressions': {}}, 'header': {'date': datetime.datetime(2019, 4, 9, 12, 35, 37, 992234, tzinfo=tzutc()), 'msg_id': 'bc39e8a44f5d44548c9c37c30bfbf481', 'msg_type': 'execute_request', 'session': '8516af2d667a452b8ff51cd50fc53e88', 'username': 'username', 'version': '5.2'}, 'metadata': {}, 'msg_id': 'bc39e8a44f5d44548c9c37c30bfbf481', 'msg_type': 'execute_request', 'parent_header': {}}\n    268             except Exception:\n    269                 self.log.error(\"Exception in message handler:\", exc_info=True)\n    270             finally:\n    271                 try:\n\n...........................................................................\nd:\\progrom\\python\\python\\python3\\lib\\site-packages\\tornado\\gen.py in wrapper(*args=(<ipykernel.ipkernel.IPythonKernel object>, <zmq.eventloop.zmqstream.ZMQStream object>, [b'8516af2d667a452b8ff51cd50fc53e88'], {'buffers': [], 'content': {'allow_stdin': True, 'code': '# 代码1：\\n\\nfrom sklearn.model_selection import Grid...n): %f\" % metrics.roc_auc_score(y_true, y_proba))', 'silent': False, 'stop_on_error': True, 'store_history': True, 'user_expressions': {}}, 'header': {'date': datetime.datetime(2019, 4, 9, 12, 35, 37, 992234, tzinfo=tzutc()), 'msg_id': 'bc39e8a44f5d44548c9c37c30bfbf481', 'msg_type': 'execute_request', 'session': '8516af2d667a452b8ff51cd50fc53e88', 'username': 'username', 'version': '5.2'}, 'metadata': {}, 'msg_id': 'bc39e8a44f5d44548c9c37c30bfbf481', 'msg_type': 'execute_request', 'parent_header': {}}), **kwargs={})\n    310                 # never actually yields, which in turn allows us to\n    311                 # use \"optional\" coroutines in critical path code without\n    312                 # performance penalty for the synchronous case.\n    313                 try:\n    314                     orig_stack_contexts = stack_context._state.contexts\n--> 315                     yielded = next(result)\n        yielded = undefined\n        result = <generator object execute_request>\n    316                     if stack_context._state.contexts is not orig_stack_contexts:\n    317                         yielded = _create_future()\n    318                         yielded.set_exception(\n    319                             stack_context.StackContextInconsistentError(\n\n...........................................................................\nd:\\progrom\\python\\python\\python3\\lib\\site-packages\\ipykernel\\kernelbase.py in execute_request(self=<ipykernel.ipkernel.IPythonKernel object>, stream=<zmq.eventloop.zmqstream.ZMQStream object>, ident=[b'8516af2d667a452b8ff51cd50fc53e88'], parent={'buffers': [], 'content': {'allow_stdin': True, 'code': '# 代码1：\\n\\nfrom sklearn.model_selection import Grid...n): %f\" % metrics.roc_auc_score(y_true, y_proba))', 'silent': False, 'stop_on_error': True, 'store_history': True, 'user_expressions': {}}, 'header': {'date': datetime.datetime(2019, 4, 9, 12, 35, 37, 992234, tzinfo=tzutc()), 'msg_id': 'bc39e8a44f5d44548c9c37c30bfbf481', 'msg_type': 'execute_request', 'session': '8516af2d667a452b8ff51cd50fc53e88', 'username': 'username', 'version': '5.2'}, 'metadata': {}, 'msg_id': 'bc39e8a44f5d44548c9c37c30bfbf481', 'msg_type': 'execute_request', 'parent_header': {}})\n    529             self._publish_execute_input(code, parent, self.execution_count)\n    530 \n    531         reply_content = yield gen.maybe_future(\n    532             self.do_execute(\n    533                 code, silent, store_history,\n--> 534                 user_expressions, allow_stdin,\n        user_expressions = {}\n        allow_stdin = True\n    535             )\n    536         )\n    537 \n    538         # Flush output before sending the reply.\n\n...........................................................................\nd:\\progrom\\python\\python\\python3\\lib\\site-packages\\tornado\\gen.py in wrapper(*args=(<ipykernel.ipkernel.IPythonKernel object>, '# 代码1：\\n\\nfrom sklearn.model_selection import Grid...n): %f\" % metrics.roc_auc_score(y_true, y_proba))', False, True, {}, True), **kwargs={})\n    310                 # never actually yields, which in turn allows us to\n    311                 # use \"optional\" coroutines in critical path code without\n    312                 # performance penalty for the synchronous case.\n    313                 try:\n    314                     orig_stack_contexts = stack_context._state.contexts\n--> 315                     yielded = next(result)\n        yielded = undefined\n        result = <generator object do_execute>\n    316                     if stack_context._state.contexts is not orig_stack_contexts:\n    317                         yielded = _create_future()\n    318                         yielded.set_exception(\n    319                             stack_context.StackContextInconsistentError(\n\n...........................................................................\nd:\\progrom\\python\\python\\python3\\lib\\site-packages\\ipykernel\\ipkernel.py in do_execute(self=<ipykernel.ipkernel.IPythonKernel object>, code='# 代码1：\\n\\nfrom sklearn.model_selection import Grid...n): %f\" % metrics.roc_auc_score(y_true, y_proba))', silent=False, store_history=True, user_expressions={}, allow_stdin=True)\n    289                     res = yield coro_future\n    290             else:\n    291                 # runner isn't already running,\n    292                 # make synchronous call,\n    293                 # letting shell dispatch to loop runners\n--> 294                 res = shell.run_cell(code, store_history=store_history, silent=silent)\n        res = undefined\n        code = '# 代码1：\\n\\nfrom sklearn.model_selection import Grid...n): %f\" % metrics.roc_auc_score(y_true, y_proba))'\n        store_history = True\n        silent = False\n    295         finally:\n    296             self._restore_input()\n    297 \n    298         if res.error_before_exec is not None:\n\n...........................................................................\nd:\\progrom\\python\\python\\python3\\lib\\site-packages\\ipykernel\\zmqshell.py in run_cell(self=<ipykernel.zmqshell.ZMQInteractiveShell object>, *args=('# 代码1：\\n\\nfrom sklearn.model_selection import Grid...n): %f\" % metrics.roc_auc_score(y_true, y_proba))',), **kwargs={'silent': False, 'store_history': True})\n    531             )\n    532         self.payload_manager.write_payload(payload)\n    533 \n    534     def run_cell(self, *args, **kwargs):\n    535         self._last_traceback = None\n--> 536         return super(ZMQInteractiveShell, self).run_cell(*args, **kwargs)\n        self.run_cell = <bound method ZMQInteractiveShell.run_cell of <ipykernel.zmqshell.ZMQInteractiveShell object>>\n        args = ('# 代码1：\\n\\nfrom sklearn.model_selection import Grid...n): %f\" % metrics.roc_auc_score(y_true, y_proba))',)\n        kwargs = {'silent': False, 'store_history': True}\n    537 \n    538     def _showtraceback(self, etype, evalue, stb):\n    539         # try to preserve ordering of tracebacks and print statements\n    540         sys.stdout.flush()\n\n...........................................................................\nd:\\progrom\\python\\python\\python3\\lib\\site-packages\\IPython\\core\\interactiveshell.py in run_cell(self=<ipykernel.zmqshell.ZMQInteractiveShell object>, raw_cell='# 代码1：\\n\\nfrom sklearn.model_selection import Grid...n): %f\" % metrics.roc_auc_score(y_true, y_proba))', store_history=True, silent=False, shell_futures=True)\n   2812         result : :class:`ExecutionResult`\n   2813         \"\"\"\n   2814         result = None\n   2815         try:\n   2816             result = self._run_cell(\n-> 2817                 raw_cell, store_history, silent, shell_futures)\n        raw_cell = '# 代码1：\\n\\nfrom sklearn.model_selection import Grid...n): %f\" % metrics.roc_auc_score(y_true, y_proba))'\n        store_history = True\n        silent = False\n        shell_futures = True\n   2818         finally:\n   2819             self.events.trigger('post_execute')\n   2820             if not silent:\n   2821                 self.events.trigger('post_run_cell', result)\n\n...........................................................................\nd:\\progrom\\python\\python\\python3\\lib\\site-packages\\IPython\\core\\interactiveshell.py in _run_cell(self=<ipykernel.zmqshell.ZMQInteractiveShell object>, raw_cell='# 代码1：\\n\\nfrom sklearn.model_selection import Grid...n): %f\" % metrics.roc_auc_score(y_true, y_proba))', store_history=True, silent=False, shell_futures=True)\n   2838             runner = self.loop_runner\n   2839         else:\n   2840             runner = _pseudo_sync_runner\n   2841 \n   2842         try:\n-> 2843             return runner(coro)\n        runner = <function _pseudo_sync_runner>\n        coro = <generator object InteractiveShell.run_cell_async>\n   2844         except BaseException as e:\n   2845             info = ExecutionInfo(raw_cell, store_history, silent, shell_futures)\n   2846             result = ExecutionResult(info)\n   2847             result.error_in_exec = e\n\n...........................................................................\nd:\\progrom\\python\\python\\python3\\lib\\site-packages\\IPython\\core\\async_helpers.py in _pseudo_sync_runner(coro=<generator object InteractiveShell.run_cell_async>)\n     62 \n     63     Credit to Nathaniel Smith\n     64 \n     65     \"\"\"\n     66     try:\n---> 67         coro.send(None)\n        coro.send = <built-in method send of generator object>\n     68     except StopIteration as exc:\n     69         return exc.value\n     70     else:\n     71         # TODO: do not raise but return an execution result with the right info.\n\n...........................................................................\nd:\\progrom\\python\\python\\python3\\lib\\site-packages\\IPython\\core\\interactiveshell.py in run_cell_async(self=<ipykernel.zmqshell.ZMQInteractiveShell object>, raw_cell='# 代码1：\\n\\nfrom sklearn.model_selection import Grid...n): %f\" % metrics.roc_auc_score(y_true, y_proba))', store_history=True, silent=False, shell_futures=True)\n   3013                 interactivity = \"none\" if silent else self.ast_node_interactivity\n   3014                 if _run_async:\n   3015                     interactivity = 'async'\n   3016 \n   3017                 has_raised = yield from self.run_ast_nodes(code_ast.body, cell_name,\n-> 3018                        interactivity=interactivity, compiler=compiler, result=result)\n        interactivity = 'last_expr'\n        compiler = <IPython.core.compilerop.CachingCompiler object>\n   3019 \n   3020                 self.last_execution_succeeded = not has_raised\n   3021                 self.last_execution_result = result\n   3022 \n\n...........................................................................\nd:\\progrom\\python\\python\\python3\\lib\\site-packages\\IPython\\core\\interactiveshell.py in run_ast_nodes(self=<ipykernel.zmqshell.ZMQInteractiveShell object>, nodelist=[<_ast.ImportFrom object>, <_ast.Assign object>, <_ast.Assign object>, <_ast.Assign object>, <_ast.Expr object>, <_ast.Expr object>, <_ast.Assign object>, <_ast.Expr object>, <_ast.Assign object>, <_ast.Expr object>], cell_name='<ipython-input-26-0523cd37f4fb>', interactivity='last', compiler=<IPython.core.compilerop.CachingCompiler object>, result=<ExecutionResult object at 1f9cb197668, executio...rue silent=False shell_futures=True> result=None>)\n   3178                     return True\n   3179             else:\n   3180                 for i, node in enumerate(to_run_exec):\n   3181                     mod = ast.Module([node])\n   3182                     code = compiler(mod, cell_name, \"exec\")\n-> 3183                     if (yield from self.run_code(code, result)):\n        self.run_code = <bound method InteractiveShell.run_code of <ipykernel.zmqshell.ZMQInteractiveShell object>>\n        code = <code object <module> at 0x000001F9C96E1810, file \"<ipython-input-26-0523cd37f4fb>\", line 12>\n        result = <ExecutionResult object at 1f9cb197668, executio...rue silent=False shell_futures=True> result=None>\n   3184                         return True\n   3185 \n   3186                 for i, node in enumerate(to_run_interactive):\n   3187                     mod = ast.Interactive([node])\n\n...........................................................................\nd:\\progrom\\python\\python\\python3\\lib\\site-packages\\IPython\\core\\interactiveshell.py in run_code(self=<ipykernel.zmqshell.ZMQInteractiveShell object>, code_obj=<code object <module> at 0x000001F9C96E1810, file \"<ipython-input-26-0523cd37f4fb>\", line 12>, result=<ExecutionResult object at 1f9cb197668, executio...rue silent=False shell_futures=True> result=None>, async_=False)\n   3260                 if async_:\n   3261                     last_expr = (yield from self._async_exec(code_obj, self.user_ns))\n   3262                     code = compile('last_expr', 'fake', \"single\")\n   3263                     exec(code, {'last_expr': last_expr})\n   3264                 else:\n-> 3265                     exec(code_obj, self.user_global_ns, self.user_ns)\n        code_obj = <code object <module> at 0x000001F9C96E1810, file \"<ipython-input-26-0523cd37f4fb>\", line 12>\n        self.user_global_ns = {'GridSearchCV': <class 'sklearn.model_selection._search.GridSearchCV'>, 'In': ['', \"#!/usr/bin/env python\\n# encoding: utf-8\\n'''\\n@aut...time: 2019/4/9 9:44\\n@desc:  Xgboost算法\\n@url:  \\n'''\", 'from sklearn.datasets import load_iris\\nimport xg...00))\\n \\n# 显示重要特征\\nplot_importance(model)\\nplt.show()', 'from sklearn.datasets import load_iris\\nimport xg...00))\\n \\n# 显示重要特征\\nplot_importance(model)\\nplt.show()', 'from sklearn.datasets import load_iris\\nimport xg...00))\\n \\n# 显示重要特征\\nplot_importance(model)\\nplt.show()', 'import xgboost as xgb\\nfrom xgboost import plot_i...est)\\n \\n# 显示重要特征\\nplot_importance(model)\\nplt.show()', \"# XGBClassifier\\nfrom xgboost.sklearn import XGBC...  seed = 1000,  # 随机种子\\n    # eval_metric ='auc'\\n)\", '# 基于Sckit-learn接口的分类\\nfrom sklearn.datasets impor...00))\\n \\n# 显示重要特征\\nplot_importance(model)\\nplt.show()', 'import xgboost as xgb\\nfrom xgboost import plot_i...est)\\n \\n# 显示重要特征\\nplot_importance(model)\\nplt.show()', 'from sklearn.model_selection import train_test_s...uccess!\",\\'\\\\n\\',\"cost time:\",cost_time,\"(s)......\")', 'from sklearn.model_selection import train_test_s...uccess!\",\\'\\\\n\\',\"cost time:\",cost_time,\"(s)......\")', 'from sklearn.model_selection import train_test_s...ress = xgb.XGBRegressor(n_estimators=1000,seed=0)', 'from sklearn.model_selection import train_test_s...ress = xgb.XGBRegressor(n_estimators=1000,seed=0)', 'from sklearn.model_selection import train_test_s...ress = xgb.XGBRegressor(n_estimators=1000,seed=0)', \"from xgboost import XGBClassifier\\nxgb1 = XGBClas...stic',\\n nthread=4,\\n scale_pos_weight=1,\\n seed=27)\", \"param_test1 = {\\n 'max_depth':range(3,10,2),\\n 'mi...搜索scoring='roc_auc'只支持二分类，多分类需要修改scoring(默认支持多分类)\", \"param_test1 = {\\n     'max_depth':range(3,10,2),\\n...搜索scoring='roc_auc'只支持二分类，多分类需要修改scoring(默认支持多分类)\", \"param_test3 = {\\n 'gamma':[i/10.0 for i in range(...res_, gsearch3.best_params_, gsearch3.best_score_\", \"param_test3 = {\\n 'gamma':[i/10.0 for i in range(...res_, gsearch3.best_params_, gsearch3.best_score_\", 'import xgboost as xgb\\nimport pandas as pd\\n#获取数据\\n...ain, y_train)\\n#test_1 = m_regress.predict(X_test)', ...], 'Out': {1: '\\n@author: KM\\n@license: (C) Copyright 2013-2017, ...b\\n@time: 2019/4/9 9:44\\n@desc:  Xgboost算法\\n@url:  \\n'}, 'SelectFromModel': <class 'sklearn.feature_selection.from_model.SelectFromModel'>, 'X': array([[5.1, 3.5, 1.4, 0.2],\n       [4.9, 3. , 1....2, 3.4, 5.4, 2.3],\n       [5.9, 3. , 5.1, 1.8]]), 'XGBClassifier': <class 'xgboost.sklearn.XGBClassifier'>, 'X_test': array([[5.9, 3. , 5.1, 1.8],\n       [5.4, 3. , 4....4, 2.7, 5.3, 1.9],\n       [4.7, 3.2, 1.6, 0.2]]), 'X_train': array([[4.6, 3.1, 1.5, 0.2],\n       [5.1, 3.4, 1....8, 2.7, 4.1, 1. ],\n       [5. , 3. , 1.6, 0.2]]), '_': '\\n@author: KM\\n@license: (C) Copyright 2013-2017, ...b\\n@time: 2019/4/9 9:44\\n@desc:  Xgboost算法\\n@url:  \\n', '_1': '\\n@author: KM\\n@license: (C) Copyright 2013-2017, ...b\\n@time: 2019/4/9 9:44\\n@desc:  Xgboost算法\\n@url:  \\n', ...}\n        self.user_ns = {'GridSearchCV': <class 'sklearn.model_selection._search.GridSearchCV'>, 'In': ['', \"#!/usr/bin/env python\\n# encoding: utf-8\\n'''\\n@aut...time: 2019/4/9 9:44\\n@desc:  Xgboost算法\\n@url:  \\n'''\", 'from sklearn.datasets import load_iris\\nimport xg...00))\\n \\n# 显示重要特征\\nplot_importance(model)\\nplt.show()', 'from sklearn.datasets import load_iris\\nimport xg...00))\\n \\n# 显示重要特征\\nplot_importance(model)\\nplt.show()', 'from sklearn.datasets import load_iris\\nimport xg...00))\\n \\n# 显示重要特征\\nplot_importance(model)\\nplt.show()', 'import xgboost as xgb\\nfrom xgboost import plot_i...est)\\n \\n# 显示重要特征\\nplot_importance(model)\\nplt.show()', \"# XGBClassifier\\nfrom xgboost.sklearn import XGBC...  seed = 1000,  # 随机种子\\n    # eval_metric ='auc'\\n)\", '# 基于Sckit-learn接口的分类\\nfrom sklearn.datasets impor...00))\\n \\n# 显示重要特征\\nplot_importance(model)\\nplt.show()', 'import xgboost as xgb\\nfrom xgboost import plot_i...est)\\n \\n# 显示重要特征\\nplot_importance(model)\\nplt.show()', 'from sklearn.model_selection import train_test_s...uccess!\",\\'\\\\n\\',\"cost time:\",cost_time,\"(s)......\")', 'from sklearn.model_selection import train_test_s...uccess!\",\\'\\\\n\\',\"cost time:\",cost_time,\"(s)......\")', 'from sklearn.model_selection import train_test_s...ress = xgb.XGBRegressor(n_estimators=1000,seed=0)', 'from sklearn.model_selection import train_test_s...ress = xgb.XGBRegressor(n_estimators=1000,seed=0)', 'from sklearn.model_selection import train_test_s...ress = xgb.XGBRegressor(n_estimators=1000,seed=0)', \"from xgboost import XGBClassifier\\nxgb1 = XGBClas...stic',\\n nthread=4,\\n scale_pos_weight=1,\\n seed=27)\", \"param_test1 = {\\n 'max_depth':range(3,10,2),\\n 'mi...搜索scoring='roc_auc'只支持二分类，多分类需要修改scoring(默认支持多分类)\", \"param_test1 = {\\n     'max_depth':range(3,10,2),\\n...搜索scoring='roc_auc'只支持二分类，多分类需要修改scoring(默认支持多分类)\", \"param_test3 = {\\n 'gamma':[i/10.0 for i in range(...res_, gsearch3.best_params_, gsearch3.best_score_\", \"param_test3 = {\\n 'gamma':[i/10.0 for i in range(...res_, gsearch3.best_params_, gsearch3.best_score_\", 'import xgboost as xgb\\nimport pandas as pd\\n#获取数据\\n...ain, y_train)\\n#test_1 = m_regress.predict(X_test)', ...], 'Out': {1: '\\n@author: KM\\n@license: (C) Copyright 2013-2017, ...b\\n@time: 2019/4/9 9:44\\n@desc:  Xgboost算法\\n@url:  \\n'}, 'SelectFromModel': <class 'sklearn.feature_selection.from_model.SelectFromModel'>, 'X': array([[5.1, 3.5, 1.4, 0.2],\n       [4.9, 3. , 1....2, 3.4, 5.4, 2.3],\n       [5.9, 3. , 5.1, 1.8]]), 'XGBClassifier': <class 'xgboost.sklearn.XGBClassifier'>, 'X_test': array([[5.9, 3. , 5.1, 1.8],\n       [5.4, 3. , 4....4, 2.7, 5.3, 1.9],\n       [4.7, 3.2, 1.6, 0.2]]), 'X_train': array([[4.6, 3.1, 1.5, 0.2],\n       [5.1, 3.4, 1....8, 2.7, 4.1, 1. ],\n       [5. , 3. , 1.6, 0.2]]), '_': '\\n@author: KM\\n@license: (C) Copyright 2013-2017, ...b\\n@time: 2019/4/9 9:44\\n@desc:  Xgboost算法\\n@url:  \\n', '_1': '\\n@author: KM\\n@license: (C) Copyright 2013-2017, ...b\\n@time: 2019/4/9 9:44\\n@desc:  Xgboost算法\\n@url:  \\n', ...}\n   3266             finally:\n   3267                 # Reset our crash handler in place\n   3268                 sys.excepthook = old_excepthook\n   3269         except SystemExit as e:\n\n...........................................................................\nE:\\gitWp\\DataWhale_Study_Wp\\20190409_Xgboost_study\\<ipython-input-26-0523cd37f4fb> in <module>()\n      7                   'subsample':[0.75,0.8,0.85,0.9]\n      8                   }]\n      9 tuned_parameters= [{'n_estimators':[100,200,500,1000]\n     10                   }]\n     11 clf = GridSearchCV(XGBClassifier(silent=0,nthread=4,learning_rate= 0.5,min_child_weight=1, max_depth=3,gamma=0,subsample=1,colsample_bytree=1,reg_lambda=1,seed=1000), param_grid=tuned_parameters,scoring='roc_auc',n_jobs=4,iid=False,cv=5) \n---> 12 clf.fit(X_train, y_train)\n     13 ##clf.grid_scores_, clf.best_params_, clf.best_score_\n     14 print(clf.best_params_)\n     15 y_true, y_pred = y_test, clf.predict(X_test)\n     16 print(\"Accuracy : %.4g\" % metrics.accuracy_score(y_true, y_pred))\n\n...........................................................................\nd:\\progrom\\python\\python\\python3\\lib\\site-packages\\sklearn\\model_selection\\_search.py in fit(self=GridSearchCV(cv=5, error_score='raise',\n       e...core='warn',\n       scoring='roc_auc', verbose=0), X=array([[4.6, 3.1, 1.5, 0.2],\n       [5.1, 3.4, 1....8, 2.7, 4.1, 1. ],\n       [5. , 3. , 1.6, 0.2]]), y=array([0, 0, 2, 0, 2, 1, 1, 1, 0, 0, 0, 1, 2, 1,...2, 2,\n       1, 2, 0, 2, 1, 1, 0, 2, 1, 2, 1, 0]), groups=None, **fit_params={})\n    634                                   return_train_score=self.return_train_score,\n    635                                   return_n_test_samples=True,\n    636                                   return_times=True, return_parameters=False,\n    637                                   error_score=self.error_score)\n    638           for parameters, (train, test) in product(candidate_params,\n--> 639                                                    cv.split(X, y, groups)))\n        cv.split = <bound method StratifiedKFold.split of Stratifie...ld(n_splits=5, random_state=None, shuffle=False)>\n        X = array([[4.6, 3.1, 1.5, 0.2],\n       [5.1, 3.4, 1....8, 2.7, 4.1, 1. ],\n       [5. , 3. , 1.6, 0.2]])\n        y = array([0, 0, 2, 0, 2, 1, 1, 1, 0, 0, 0, 1, 2, 1,...2, 2,\n       1, 2, 0, 2, 1, 1, 0, 2, 1, 2, 1, 0])\n        groups = None\n    640 \n    641         # if one choose to see train score, \"out\" will contain train score info\n    642         if self.return_train_score:\n    643             (train_score_dicts, test_score_dicts, test_sample_counts, fit_time,\n\n...........................................................................\nd:\\progrom\\python\\python\\python3\\lib\\site-packages\\sklearn\\externals\\joblib\\parallel.py in __call__(self=Parallel(n_jobs=4), iterable=<generator object BaseSearchCV.fit.<locals>.<genexpr>>)\n    784             if pre_dispatch == \"all\" or n_jobs == 1:\n    785                 # The iterable was consumed all at once by the above for loop.\n    786                 # No need to wait for async callbacks to trigger to\n    787                 # consumption.\n    788                 self._iterating = False\n--> 789             self.retrieve()\n        self.retrieve = <bound method Parallel.retrieve of Parallel(n_jobs=4)>\n    790             # Make sure that we get a last message telling us we are done\n    791             elapsed_time = time.time() - self._start_time\n    792             self._print('Done %3i out of %3i | elapsed: %s finished',\n    793                         (len(self._output), len(self._output),\n\n---------------------------------------------------------------------------\nSub-process traceback:\n---------------------------------------------------------------------------\nValueError                                         Tue Apr  9 20:35:40 2019\nPID: 2848         Python 3.6.3: d:\\progrom\\python\\python\\python3\\python.exe\n...........................................................................\nd:\\progrom\\python\\python\\python3\\lib\\site-packages\\sklearn\\externals\\joblib\\parallel.py in __call__(self=<sklearn.externals.joblib.parallel.BatchedCalls object>)\n    126     def __init__(self, iterator_slice):\n    127         self.items = list(iterator_slice)\n    128         self._size = len(self.items)\n    129 \n    130     def __call__(self):\n--> 131         return [func(*args, **kwargs) for func, args, kwargs in self.items]\n        self.items = [(<function _fit_and_score>, (XGBClassifier(base_score=0.5, booster='gbtree', ...eight=1, seed=1000, silent=0,\n       subsample=1), array([[4.6, 3.1, 1.5, 0.2],\n       [5.1, 3.4, 1....8, 2.7, 4.1, 1. ],\n       [5. , 3. , 1.6, 0.2]]), array([0, 0, 2, 0, 2, 1, 1, 1, 0, 0, 0, 1, 2, 1,...2, 2,\n       1, 2, 0, 2, 1, 1, 0, 2, 1, 2, 1, 0]), {'score': make_scorer(roc_auc_score, needs_threshold=True)}, array([18, 21, 23, 25, 26, 27, 28, 29, 30, 31, 3...,\n       90, 91, 92, 93, 94, 95, 96, 97, 98, 99]), array([ 0,  1,  2,  3,  4,  5,  6,  7,  8,  9, 1..., 12, 13, 14, 15, 16,\n       17, 19, 20, 22, 24]), 0, {'n_estimators': 100}), {'error_score': 'raise', 'fit_params': {}, 'return_n_test_samples': True, 'return_parameters': False, 'return_times': True, 'return_train_score': 'warn'})]\n    132 \n    133     def __len__(self):\n    134         return self._size\n    135 \n\n...........................................................................\nd:\\progrom\\python\\python\\python3\\lib\\site-packages\\sklearn\\externals\\joblib\\parallel.py in <listcomp>(.0=<list_iterator object>)\n    126     def __init__(self, iterator_slice):\n    127         self.items = list(iterator_slice)\n    128         self._size = len(self.items)\n    129 \n    130     def __call__(self):\n--> 131         return [func(*args, **kwargs) for func, args, kwargs in self.items]\n        func = <function _fit_and_score>\n        args = (XGBClassifier(base_score=0.5, booster='gbtree', ...eight=1, seed=1000, silent=0,\n       subsample=1), array([[4.6, 3.1, 1.5, 0.2],\n       [5.1, 3.4, 1....8, 2.7, 4.1, 1. ],\n       [5. , 3. , 1.6, 0.2]]), array([0, 0, 2, 0, 2, 1, 1, 1, 0, 0, 0, 1, 2, 1,...2, 2,\n       1, 2, 0, 2, 1, 1, 0, 2, 1, 2, 1, 0]), {'score': make_scorer(roc_auc_score, needs_threshold=True)}, array([18, 21, 23, 25, 26, 27, 28, 29, 30, 31, 3...,\n       90, 91, 92, 93, 94, 95, 96, 97, 98, 99]), array([ 0,  1,  2,  3,  4,  5,  6,  7,  8,  9, 1..., 12, 13, 14, 15, 16,\n       17, 19, 20, 22, 24]), 0, {'n_estimators': 100})\n        kwargs = {'error_score': 'raise', 'fit_params': {}, 'return_n_test_samples': True, 'return_parameters': False, 'return_times': True, 'return_train_score': 'warn'}\n    132 \n    133     def __len__(self):\n    134         return self._size\n    135 \n\n...........................................................................\nd:\\progrom\\python\\python\\python3\\lib\\site-packages\\sklearn\\model_selection\\_validation.py in _fit_and_score(estimator=XGBClassifier(base_score=0.5, booster='gbtree', ...eight=1, seed=1000, silent=0,\n       subsample=1), X=array([[4.6, 3.1, 1.5, 0.2],\n       [5.1, 3.4, 1....8, 2.7, 4.1, 1. ],\n       [5. , 3. , 1.6, 0.2]]), y=array([0, 0, 2, 0, 2, 1, 1, 1, 0, 0, 0, 1, 2, 1,...2, 2,\n       1, 2, 0, 2, 1, 1, 0, 2, 1, 2, 1, 0]), scorer={'score': make_scorer(roc_auc_score, needs_threshold=True)}, train=array([18, 21, 23, 25, 26, 27, 28, 29, 30, 31, 3...,\n       90, 91, 92, 93, 94, 95, 96, 97, 98, 99]), test=array([ 0,  1,  2,  3,  4,  5,  6,  7,  8,  9, 1..., 12, 13, 14, 15, 16,\n       17, 19, 20, 22, 24]), verbose=0, parameters={'n_estimators': 100}, fit_params={}, return_train_score='warn', return_parameters=False, return_n_test_samples=True, return_times=True, error_score='raise')\n    483                              \" make sure that it has been spelled correctly.)\")\n    484 \n    485     else:\n    486         fit_time = time.time() - start_time\n    487         # _score will return dict if is_multimetric is True\n--> 488         test_scores = _score(estimator, X_test, y_test, scorer, is_multimetric)\n        test_scores = {}\n        estimator = XGBClassifier(base_score=0.5, booster='gbtree', ...eight=1, seed=1000, silent=0,\n       subsample=1)\n        X_test = array([[4.6, 3.1, 1.5, 0.2],\n       [5.1, 3.4, 1....5, 3. , 5.8, 2.2],\n       [6.6, 2.9, 4.6, 1.3]])\n        y_test = array([0, 0, 2, 0, 2, 1, 1, 1, 0, 0, 0, 1, 2, 1, 1, 0, 2, 0, 2, 2, 2, 1])\n        scorer = {'score': make_scorer(roc_auc_score, needs_threshold=True)}\n        is_multimetric = True\n    489         score_time = time.time() - start_time - fit_time\n    490         if return_train_score:\n    491             train_scores = _score(estimator, X_train, y_train, scorer,\n    492                                   is_multimetric)\n\n...........................................................................\nd:\\progrom\\python\\python\\python3\\lib\\site-packages\\sklearn\\model_selection\\_validation.py in _score(estimator=XGBClassifier(base_score=0.5, booster='gbtree', ...eight=1, seed=1000, silent=0,\n       subsample=1), X_test=array([[4.6, 3.1, 1.5, 0.2],\n       [5.1, 3.4, 1....5, 3. , 5.8, 2.2],\n       [6.6, 2.9, 4.6, 1.3]]), y_test=array([0, 0, 2, 0, 2, 1, 1, 1, 0, 0, 0, 1, 2, 1, 1, 0, 2, 0, 2, 2, 2, 1]), scorer={'score': make_scorer(roc_auc_score, needs_threshold=True)}, is_multimetric=True)\n    518 \n    519     Will return a single float if is_multimetric is False and a dict of floats,\n    520     if is_multimetric is True\n    521     \"\"\"\n    522     if is_multimetric:\n--> 523         return _multimetric_score(estimator, X_test, y_test, scorer)\n        estimator = XGBClassifier(base_score=0.5, booster='gbtree', ...eight=1, seed=1000, silent=0,\n       subsample=1)\n        X_test = array([[4.6, 3.1, 1.5, 0.2],\n       [5.1, 3.4, 1....5, 3. , 5.8, 2.2],\n       [6.6, 2.9, 4.6, 1.3]])\n        y_test = array([0, 0, 2, 0, 2, 1, 1, 1, 0, 0, 0, 1, 2, 1, 1, 0, 2, 0, 2, 2, 2, 1])\n        scorer = {'score': make_scorer(roc_auc_score, needs_threshold=True)}\n    524     else:\n    525         if y_test is None:\n    526             score = scorer(estimator, X_test)\n    527         else:\n\n...........................................................................\nd:\\progrom\\python\\python\\python3\\lib\\site-packages\\sklearn\\model_selection\\_validation.py in _multimetric_score(estimator=XGBClassifier(base_score=0.5, booster='gbtree', ...eight=1, seed=1000, silent=0,\n       subsample=1), X_test=array([[4.6, 3.1, 1.5, 0.2],\n       [5.1, 3.4, 1....5, 3. , 5.8, 2.2],\n       [6.6, 2.9, 4.6, 1.3]]), y_test=array([0, 0, 2, 0, 2, 1, 1, 1, 0, 0, 0, 1, 2, 1, 1, 0, 2, 0, 2, 2, 2, 1]), scorers={'score': make_scorer(roc_auc_score, needs_threshold=True)})\n    548 \n    549     for name, scorer in scorers.items():\n    550         if y_test is None:\n    551             score = scorer(estimator, X_test)\n    552         else:\n--> 553             score = scorer(estimator, X_test, y_test)\n        score = undefined\n        scorer = make_scorer(roc_auc_score, needs_threshold=True)\n        estimator = XGBClassifier(base_score=0.5, booster='gbtree', ...eight=1, seed=1000, silent=0,\n       subsample=1)\n        X_test = array([[4.6, 3.1, 1.5, 0.2],\n       [5.1, 3.4, 1....5, 3. , 5.8, 2.2],\n       [6.6, 2.9, 4.6, 1.3]])\n        y_test = array([0, 0, 2, 0, 2, 1, 1, 1, 0, 0, 0, 1, 2, 1, 1, 0, 2, 0, 2, 2, 2, 1])\n    554 \n    555         if hasattr(score, 'item'):\n    556             try:\n    557                 # e.g. unwrap memmapped scalars\n\n...........................................................................\nd:\\progrom\\python\\python\\python3\\lib\\site-packages\\sklearn\\metrics\\scorer.py in __call__(self=make_scorer(roc_auc_score, needs_threshold=True), clf=XGBClassifier(base_score=0.5, booster='gbtree', ...eight=1, seed=1000, silent=0,\n       subsample=1), X=array([[4.6, 3.1, 1.5, 0.2],\n       [5.1, 3.4, 1....5, 3. , 5.8, 2.2],\n       [6.6, 2.9, 4.6, 1.3]]), y=array([0, 0, 2, 0, 2, 1, 1, 1, 0, 0, 0, 1, 2, 1, 1, 0, 2, 0, 2, 2, 2, 1]), sample_weight=None)\n    176         \"\"\"\n    177         super(_ThresholdScorer, self).__call__(clf, X, y,\n    178                                                sample_weight=sample_weight)\n    179         y_type = type_of_target(y)\n    180         if y_type not in (\"binary\", \"multilabel-indicator\"):\n--> 181             raise ValueError(\"{0} format is not supported\".format(y_type))\n        y_type = 'multiclass'\n    182 \n    183         if is_regressor(clf):\n    184             y_pred = clf.predict(X)\n    185         else:\n\nValueError: multiclass format is not supported\n___________________________________________________________________________"
     ]
    }
   ],
   "source": [
    "# 代码1：\n",
    "\n",
    "from sklearn.model_selection import GridSearchCV\n",
    "tuned_parameters= [{'n_estimators':[100,200,500],\n",
    "                  'max_depth':[3,5,7], ##range(3,10,2)\n",
    "                  'learning_rate':[0.5, 1.0],\n",
    "                  'subsample':[0.75,0.8,0.85,0.9]\n",
    "                  }]\n",
    "tuned_parameters= [{'n_estimators':[100,200,500,1000]\n",
    "                  }]\n",
    "clf = GridSearchCV(XGBClassifier(silent=0,nthread=4,learning_rate= 0.5,min_child_weight=1, max_depth=3,gamma=0,subsample=1,colsample_bytree=1,reg_lambda=1,seed=1000), param_grid=tuned_parameters,scoring='roc_auc',n_jobs=4,iid=False,cv=5) \n",
    "clf.fit(X_train, y_train)\n",
    "##clf.grid_scores_, clf.best_params_, clf.best_score_\n",
    "print(clf.best_params_)\n",
    "y_true, y_pred = y_test, clf.predict(X_test)\n",
    "print(\"Accuracy : %.4g\" % metrics.accuracy_score(y_true, y_pred))\n",
    "y_proba=clf.predict_proba(X_test)[:,1]\n",
    "print(\"AUC Score (Train): %f\" % metrics.roc_auc_score(y_true, y_proba))"
   ]
  },
  {
   "cell_type": "code",
   "execution_count": 28,
   "metadata": {},
   "outputs": [
    {
     "ename": "ValueError",
     "evalue": "multiclass format is not supported",
     "output_type": "error",
     "traceback": [
      "\u001b[1;31m---------------------------------------------------------------------------\u001b[0m",
      "\u001b[1;31mValueError\u001b[0m                                Traceback (most recent call last)",
      "\u001b[1;32m<ipython-input-28-8a0162ad6b31>\u001b[0m in \u001b[0;36m<module>\u001b[1;34m\u001b[0m\n\u001b[0;32m     15\u001b[0m             ),\n\u001b[0;32m     16\u001b[0m             param_grid=parameters,scoring='roc_auc') \n\u001b[1;32m---> 17\u001b[1;33m \u001b[0mclf\u001b[0m\u001b[1;33m.\u001b[0m\u001b[0mfit\u001b[0m\u001b[1;33m(\u001b[0m\u001b[0mX_train\u001b[0m\u001b[1;33m,\u001b[0m \u001b[0my_train\u001b[0m\u001b[1;33m)\u001b[0m\u001b[1;33m\u001b[0m\u001b[0m\n\u001b[0m\u001b[0;32m     18\u001b[0m \u001b[0mprint\u001b[0m\u001b[1;33m(\u001b[0m\u001b[0mclf\u001b[0m\u001b[1;33m.\u001b[0m\u001b[0mbest_params_\u001b[0m\u001b[1;33m)\u001b[0m\u001b[1;33m\u001b[0m\u001b[0m\n\u001b[0;32m     19\u001b[0m \u001b[0my_pre\u001b[0m\u001b[1;33m=\u001b[0m \u001b[0mclf\u001b[0m\u001b[1;33m.\u001b[0m\u001b[0mpredict\u001b[0m\u001b[1;33m(\u001b[0m\u001b[0mX_test\u001b[0m\u001b[1;33m)\u001b[0m\u001b[1;33m\u001b[0m\u001b[0m\n",
      "\u001b[1;32md:\\progrom\\python\\python\\python3\\lib\\site-packages\\sklearn\\model_selection\\_search.py\u001b[0m in \u001b[0;36mfit\u001b[1;34m(self, X, y, groups, **fit_params)\u001b[0m\n\u001b[0;32m    637\u001b[0m                                   error_score=self.error_score)\n\u001b[0;32m    638\u001b[0m           for parameters, (train, test) in product(candidate_params,\n\u001b[1;32m--> 639\u001b[1;33m                                                    cv.split(X, y, groups)))\n\u001b[0m\u001b[0;32m    640\u001b[0m \u001b[1;33m\u001b[0m\u001b[0m\n\u001b[0;32m    641\u001b[0m         \u001b[1;31m# if one choose to see train score, \"out\" will contain train score info\u001b[0m\u001b[1;33m\u001b[0m\u001b[1;33m\u001b[0m\u001b[0m\n",
      "\u001b[1;32md:\\progrom\\python\\python\\python3\\lib\\site-packages\\sklearn\\externals\\joblib\\parallel.py\u001b[0m in \u001b[0;36m__call__\u001b[1;34m(self, iterable)\u001b[0m\n\u001b[0;32m    777\u001b[0m             \u001b[1;31m# was dispatched. In particular this covers the edge\u001b[0m\u001b[1;33m\u001b[0m\u001b[1;33m\u001b[0m\u001b[0m\n\u001b[0;32m    778\u001b[0m             \u001b[1;31m# case of Parallel used with an exhausted iterator.\u001b[0m\u001b[1;33m\u001b[0m\u001b[1;33m\u001b[0m\u001b[0m\n\u001b[1;32m--> 779\u001b[1;33m             \u001b[1;32mwhile\u001b[0m \u001b[0mself\u001b[0m\u001b[1;33m.\u001b[0m\u001b[0mdispatch_one_batch\u001b[0m\u001b[1;33m(\u001b[0m\u001b[0miterator\u001b[0m\u001b[1;33m)\u001b[0m\u001b[1;33m:\u001b[0m\u001b[1;33m\u001b[0m\u001b[0m\n\u001b[0m\u001b[0;32m    780\u001b[0m                 \u001b[0mself\u001b[0m\u001b[1;33m.\u001b[0m\u001b[0m_iterating\u001b[0m \u001b[1;33m=\u001b[0m \u001b[1;32mTrue\u001b[0m\u001b[1;33m\u001b[0m\u001b[0m\n\u001b[0;32m    781\u001b[0m             \u001b[1;32melse\u001b[0m\u001b[1;33m:\u001b[0m\u001b[1;33m\u001b[0m\u001b[0m\n",
      "\u001b[1;32md:\\progrom\\python\\python\\python3\\lib\\site-packages\\sklearn\\externals\\joblib\\parallel.py\u001b[0m in \u001b[0;36mdispatch_one_batch\u001b[1;34m(self, iterator)\u001b[0m\n\u001b[0;32m    623\u001b[0m                 \u001b[1;32mreturn\u001b[0m \u001b[1;32mFalse\u001b[0m\u001b[1;33m\u001b[0m\u001b[0m\n\u001b[0;32m    624\u001b[0m             \u001b[1;32melse\u001b[0m\u001b[1;33m:\u001b[0m\u001b[1;33m\u001b[0m\u001b[0m\n\u001b[1;32m--> 625\u001b[1;33m                 \u001b[0mself\u001b[0m\u001b[1;33m.\u001b[0m\u001b[0m_dispatch\u001b[0m\u001b[1;33m(\u001b[0m\u001b[0mtasks\u001b[0m\u001b[1;33m)\u001b[0m\u001b[1;33m\u001b[0m\u001b[0m\n\u001b[0m\u001b[0;32m    626\u001b[0m                 \u001b[1;32mreturn\u001b[0m \u001b[1;32mTrue\u001b[0m\u001b[1;33m\u001b[0m\u001b[0m\n\u001b[0;32m    627\u001b[0m \u001b[1;33m\u001b[0m\u001b[0m\n",
      "\u001b[1;32md:\\progrom\\python\\python\\python3\\lib\\site-packages\\sklearn\\externals\\joblib\\parallel.py\u001b[0m in \u001b[0;36m_dispatch\u001b[1;34m(self, batch)\u001b[0m\n\u001b[0;32m    586\u001b[0m         \u001b[0mdispatch_timestamp\u001b[0m \u001b[1;33m=\u001b[0m \u001b[0mtime\u001b[0m\u001b[1;33m.\u001b[0m\u001b[0mtime\u001b[0m\u001b[1;33m(\u001b[0m\u001b[1;33m)\u001b[0m\u001b[1;33m\u001b[0m\u001b[0m\n\u001b[0;32m    587\u001b[0m         \u001b[0mcb\u001b[0m \u001b[1;33m=\u001b[0m \u001b[0mBatchCompletionCallBack\u001b[0m\u001b[1;33m(\u001b[0m\u001b[0mdispatch_timestamp\u001b[0m\u001b[1;33m,\u001b[0m \u001b[0mlen\u001b[0m\u001b[1;33m(\u001b[0m\u001b[0mbatch\u001b[0m\u001b[1;33m)\u001b[0m\u001b[1;33m,\u001b[0m \u001b[0mself\u001b[0m\u001b[1;33m)\u001b[0m\u001b[1;33m\u001b[0m\u001b[0m\n\u001b[1;32m--> 588\u001b[1;33m         \u001b[0mjob\u001b[0m \u001b[1;33m=\u001b[0m \u001b[0mself\u001b[0m\u001b[1;33m.\u001b[0m\u001b[0m_backend\u001b[0m\u001b[1;33m.\u001b[0m\u001b[0mapply_async\u001b[0m\u001b[1;33m(\u001b[0m\u001b[0mbatch\u001b[0m\u001b[1;33m,\u001b[0m \u001b[0mcallback\u001b[0m\u001b[1;33m=\u001b[0m\u001b[0mcb\u001b[0m\u001b[1;33m)\u001b[0m\u001b[1;33m\u001b[0m\u001b[0m\n\u001b[0m\u001b[0;32m    589\u001b[0m         \u001b[0mself\u001b[0m\u001b[1;33m.\u001b[0m\u001b[0m_jobs\u001b[0m\u001b[1;33m.\u001b[0m\u001b[0mappend\u001b[0m\u001b[1;33m(\u001b[0m\u001b[0mjob\u001b[0m\u001b[1;33m)\u001b[0m\u001b[1;33m\u001b[0m\u001b[0m\n\u001b[0;32m    590\u001b[0m \u001b[1;33m\u001b[0m\u001b[0m\n",
      "\u001b[1;32md:\\progrom\\python\\python\\python3\\lib\\site-packages\\sklearn\\externals\\joblib\\_parallel_backends.py\u001b[0m in \u001b[0;36mapply_async\u001b[1;34m(self, func, callback)\u001b[0m\n\u001b[0;32m    109\u001b[0m     \u001b[1;32mdef\u001b[0m \u001b[0mapply_async\u001b[0m\u001b[1;33m(\u001b[0m\u001b[0mself\u001b[0m\u001b[1;33m,\u001b[0m \u001b[0mfunc\u001b[0m\u001b[1;33m,\u001b[0m \u001b[0mcallback\u001b[0m\u001b[1;33m=\u001b[0m\u001b[1;32mNone\u001b[0m\u001b[1;33m)\u001b[0m\u001b[1;33m:\u001b[0m\u001b[1;33m\u001b[0m\u001b[0m\n\u001b[0;32m    110\u001b[0m         \u001b[1;34m\"\"\"Schedule a func to be run\"\"\"\u001b[0m\u001b[1;33m\u001b[0m\u001b[0m\n\u001b[1;32m--> 111\u001b[1;33m         \u001b[0mresult\u001b[0m \u001b[1;33m=\u001b[0m \u001b[0mImmediateResult\u001b[0m\u001b[1;33m(\u001b[0m\u001b[0mfunc\u001b[0m\u001b[1;33m)\u001b[0m\u001b[1;33m\u001b[0m\u001b[0m\n\u001b[0m\u001b[0;32m    112\u001b[0m         \u001b[1;32mif\u001b[0m \u001b[0mcallback\u001b[0m\u001b[1;33m:\u001b[0m\u001b[1;33m\u001b[0m\u001b[0m\n\u001b[0;32m    113\u001b[0m             \u001b[0mcallback\u001b[0m\u001b[1;33m(\u001b[0m\u001b[0mresult\u001b[0m\u001b[1;33m)\u001b[0m\u001b[1;33m\u001b[0m\u001b[0m\n",
      "\u001b[1;32md:\\progrom\\python\\python\\python3\\lib\\site-packages\\sklearn\\externals\\joblib\\_parallel_backends.py\u001b[0m in \u001b[0;36m__init__\u001b[1;34m(self, batch)\u001b[0m\n\u001b[0;32m    330\u001b[0m         \u001b[1;31m# Don't delay the application, to avoid keeping the input\u001b[0m\u001b[1;33m\u001b[0m\u001b[1;33m\u001b[0m\u001b[0m\n\u001b[0;32m    331\u001b[0m         \u001b[1;31m# arguments in memory\u001b[0m\u001b[1;33m\u001b[0m\u001b[1;33m\u001b[0m\u001b[0m\n\u001b[1;32m--> 332\u001b[1;33m         \u001b[0mself\u001b[0m\u001b[1;33m.\u001b[0m\u001b[0mresults\u001b[0m \u001b[1;33m=\u001b[0m \u001b[0mbatch\u001b[0m\u001b[1;33m(\u001b[0m\u001b[1;33m)\u001b[0m\u001b[1;33m\u001b[0m\u001b[0m\n\u001b[0m\u001b[0;32m    333\u001b[0m \u001b[1;33m\u001b[0m\u001b[0m\n\u001b[0;32m    334\u001b[0m     \u001b[1;32mdef\u001b[0m \u001b[0mget\u001b[0m\u001b[1;33m(\u001b[0m\u001b[0mself\u001b[0m\u001b[1;33m)\u001b[0m\u001b[1;33m:\u001b[0m\u001b[1;33m\u001b[0m\u001b[0m\n",
      "\u001b[1;32md:\\progrom\\python\\python\\python3\\lib\\site-packages\\sklearn\\externals\\joblib\\parallel.py\u001b[0m in \u001b[0;36m__call__\u001b[1;34m(self)\u001b[0m\n\u001b[0;32m    129\u001b[0m \u001b[1;33m\u001b[0m\u001b[0m\n\u001b[0;32m    130\u001b[0m     \u001b[1;32mdef\u001b[0m \u001b[0m__call__\u001b[0m\u001b[1;33m(\u001b[0m\u001b[0mself\u001b[0m\u001b[1;33m)\u001b[0m\u001b[1;33m:\u001b[0m\u001b[1;33m\u001b[0m\u001b[0m\n\u001b[1;32m--> 131\u001b[1;33m         \u001b[1;32mreturn\u001b[0m \u001b[1;33m[\u001b[0m\u001b[0mfunc\u001b[0m\u001b[1;33m(\u001b[0m\u001b[1;33m*\u001b[0m\u001b[0margs\u001b[0m\u001b[1;33m,\u001b[0m \u001b[1;33m**\u001b[0m\u001b[0mkwargs\u001b[0m\u001b[1;33m)\u001b[0m \u001b[1;32mfor\u001b[0m \u001b[0mfunc\u001b[0m\u001b[1;33m,\u001b[0m \u001b[0margs\u001b[0m\u001b[1;33m,\u001b[0m \u001b[0mkwargs\u001b[0m \u001b[1;32min\u001b[0m \u001b[0mself\u001b[0m\u001b[1;33m.\u001b[0m\u001b[0mitems\u001b[0m\u001b[1;33m]\u001b[0m\u001b[1;33m\u001b[0m\u001b[0m\n\u001b[0m\u001b[0;32m    132\u001b[0m \u001b[1;33m\u001b[0m\u001b[0m\n\u001b[0;32m    133\u001b[0m     \u001b[1;32mdef\u001b[0m \u001b[0m__len__\u001b[0m\u001b[1;33m(\u001b[0m\u001b[0mself\u001b[0m\u001b[1;33m)\u001b[0m\u001b[1;33m:\u001b[0m\u001b[1;33m\u001b[0m\u001b[0m\n",
      "\u001b[1;32md:\\progrom\\python\\python\\python3\\lib\\site-packages\\sklearn\\externals\\joblib\\parallel.py\u001b[0m in \u001b[0;36m<listcomp>\u001b[1;34m(.0)\u001b[0m\n\u001b[0;32m    129\u001b[0m \u001b[1;33m\u001b[0m\u001b[0m\n\u001b[0;32m    130\u001b[0m     \u001b[1;32mdef\u001b[0m \u001b[0m__call__\u001b[0m\u001b[1;33m(\u001b[0m\u001b[0mself\u001b[0m\u001b[1;33m)\u001b[0m\u001b[1;33m:\u001b[0m\u001b[1;33m\u001b[0m\u001b[0m\n\u001b[1;32m--> 131\u001b[1;33m         \u001b[1;32mreturn\u001b[0m \u001b[1;33m[\u001b[0m\u001b[0mfunc\u001b[0m\u001b[1;33m(\u001b[0m\u001b[1;33m*\u001b[0m\u001b[0margs\u001b[0m\u001b[1;33m,\u001b[0m \u001b[1;33m**\u001b[0m\u001b[0mkwargs\u001b[0m\u001b[1;33m)\u001b[0m \u001b[1;32mfor\u001b[0m \u001b[0mfunc\u001b[0m\u001b[1;33m,\u001b[0m \u001b[0margs\u001b[0m\u001b[1;33m,\u001b[0m \u001b[0mkwargs\u001b[0m \u001b[1;32min\u001b[0m \u001b[0mself\u001b[0m\u001b[1;33m.\u001b[0m\u001b[0mitems\u001b[0m\u001b[1;33m]\u001b[0m\u001b[1;33m\u001b[0m\u001b[0m\n\u001b[0m\u001b[0;32m    132\u001b[0m \u001b[1;33m\u001b[0m\u001b[0m\n\u001b[0;32m    133\u001b[0m     \u001b[1;32mdef\u001b[0m \u001b[0m__len__\u001b[0m\u001b[1;33m(\u001b[0m\u001b[0mself\u001b[0m\u001b[1;33m)\u001b[0m\u001b[1;33m:\u001b[0m\u001b[1;33m\u001b[0m\u001b[0m\n",
      "\u001b[1;32md:\\progrom\\python\\python\\python3\\lib\\site-packages\\sklearn\\model_selection\\_validation.py\u001b[0m in \u001b[0;36m_fit_and_score\u001b[1;34m(estimator, X, y, scorer, train, test, verbose, parameters, fit_params, return_train_score, return_parameters, return_n_test_samples, return_times, error_score)\u001b[0m\n\u001b[0;32m    486\u001b[0m         \u001b[0mfit_time\u001b[0m \u001b[1;33m=\u001b[0m \u001b[0mtime\u001b[0m\u001b[1;33m.\u001b[0m\u001b[0mtime\u001b[0m\u001b[1;33m(\u001b[0m\u001b[1;33m)\u001b[0m \u001b[1;33m-\u001b[0m \u001b[0mstart_time\u001b[0m\u001b[1;33m\u001b[0m\u001b[0m\n\u001b[0;32m    487\u001b[0m         \u001b[1;31m# _score will return dict if is_multimetric is True\u001b[0m\u001b[1;33m\u001b[0m\u001b[1;33m\u001b[0m\u001b[0m\n\u001b[1;32m--> 488\u001b[1;33m         \u001b[0mtest_scores\u001b[0m \u001b[1;33m=\u001b[0m \u001b[0m_score\u001b[0m\u001b[1;33m(\u001b[0m\u001b[0mestimator\u001b[0m\u001b[1;33m,\u001b[0m \u001b[0mX_test\u001b[0m\u001b[1;33m,\u001b[0m \u001b[0my_test\u001b[0m\u001b[1;33m,\u001b[0m \u001b[0mscorer\u001b[0m\u001b[1;33m,\u001b[0m \u001b[0mis_multimetric\u001b[0m\u001b[1;33m)\u001b[0m\u001b[1;33m\u001b[0m\u001b[0m\n\u001b[0m\u001b[0;32m    489\u001b[0m         \u001b[0mscore_time\u001b[0m \u001b[1;33m=\u001b[0m \u001b[0mtime\u001b[0m\u001b[1;33m.\u001b[0m\u001b[0mtime\u001b[0m\u001b[1;33m(\u001b[0m\u001b[1;33m)\u001b[0m \u001b[1;33m-\u001b[0m \u001b[0mstart_time\u001b[0m \u001b[1;33m-\u001b[0m \u001b[0mfit_time\u001b[0m\u001b[1;33m\u001b[0m\u001b[0m\n\u001b[0;32m    490\u001b[0m         \u001b[1;32mif\u001b[0m \u001b[0mreturn_train_score\u001b[0m\u001b[1;33m:\u001b[0m\u001b[1;33m\u001b[0m\u001b[0m\n",
      "\u001b[1;32md:\\progrom\\python\\python\\python3\\lib\\site-packages\\sklearn\\model_selection\\_validation.py\u001b[0m in \u001b[0;36m_score\u001b[1;34m(estimator, X_test, y_test, scorer, is_multimetric)\u001b[0m\n\u001b[0;32m    521\u001b[0m     \"\"\"\n\u001b[0;32m    522\u001b[0m     \u001b[1;32mif\u001b[0m \u001b[0mis_multimetric\u001b[0m\u001b[1;33m:\u001b[0m\u001b[1;33m\u001b[0m\u001b[0m\n\u001b[1;32m--> 523\u001b[1;33m         \u001b[1;32mreturn\u001b[0m \u001b[0m_multimetric_score\u001b[0m\u001b[1;33m(\u001b[0m\u001b[0mestimator\u001b[0m\u001b[1;33m,\u001b[0m \u001b[0mX_test\u001b[0m\u001b[1;33m,\u001b[0m \u001b[0my_test\u001b[0m\u001b[1;33m,\u001b[0m \u001b[0mscorer\u001b[0m\u001b[1;33m)\u001b[0m\u001b[1;33m\u001b[0m\u001b[0m\n\u001b[0m\u001b[0;32m    524\u001b[0m     \u001b[1;32melse\u001b[0m\u001b[1;33m:\u001b[0m\u001b[1;33m\u001b[0m\u001b[0m\n\u001b[0;32m    525\u001b[0m         \u001b[1;32mif\u001b[0m \u001b[0my_test\u001b[0m \u001b[1;32mis\u001b[0m \u001b[1;32mNone\u001b[0m\u001b[1;33m:\u001b[0m\u001b[1;33m\u001b[0m\u001b[0m\n",
      "\u001b[1;32md:\\progrom\\python\\python\\python3\\lib\\site-packages\\sklearn\\model_selection\\_validation.py\u001b[0m in \u001b[0;36m_multimetric_score\u001b[1;34m(estimator, X_test, y_test, scorers)\u001b[0m\n\u001b[0;32m    551\u001b[0m             \u001b[0mscore\u001b[0m \u001b[1;33m=\u001b[0m \u001b[0mscorer\u001b[0m\u001b[1;33m(\u001b[0m\u001b[0mestimator\u001b[0m\u001b[1;33m,\u001b[0m \u001b[0mX_test\u001b[0m\u001b[1;33m)\u001b[0m\u001b[1;33m\u001b[0m\u001b[0m\n\u001b[0;32m    552\u001b[0m         \u001b[1;32melse\u001b[0m\u001b[1;33m:\u001b[0m\u001b[1;33m\u001b[0m\u001b[0m\n\u001b[1;32m--> 553\u001b[1;33m             \u001b[0mscore\u001b[0m \u001b[1;33m=\u001b[0m \u001b[0mscorer\u001b[0m\u001b[1;33m(\u001b[0m\u001b[0mestimator\u001b[0m\u001b[1;33m,\u001b[0m \u001b[0mX_test\u001b[0m\u001b[1;33m,\u001b[0m \u001b[0my_test\u001b[0m\u001b[1;33m)\u001b[0m\u001b[1;33m\u001b[0m\u001b[0m\n\u001b[0m\u001b[0;32m    554\u001b[0m \u001b[1;33m\u001b[0m\u001b[0m\n\u001b[0;32m    555\u001b[0m         \u001b[1;32mif\u001b[0m \u001b[0mhasattr\u001b[0m\u001b[1;33m(\u001b[0m\u001b[0mscore\u001b[0m\u001b[1;33m,\u001b[0m \u001b[1;34m'item'\u001b[0m\u001b[1;33m)\u001b[0m\u001b[1;33m:\u001b[0m\u001b[1;33m\u001b[0m\u001b[0m\n",
      "\u001b[1;32md:\\progrom\\python\\python\\python3\\lib\\site-packages\\sklearn\\metrics\\scorer.py\u001b[0m in \u001b[0;36m__call__\u001b[1;34m(self, clf, X, y, sample_weight)\u001b[0m\n\u001b[0;32m    179\u001b[0m         \u001b[0my_type\u001b[0m \u001b[1;33m=\u001b[0m \u001b[0mtype_of_target\u001b[0m\u001b[1;33m(\u001b[0m\u001b[0my\u001b[0m\u001b[1;33m)\u001b[0m\u001b[1;33m\u001b[0m\u001b[0m\n\u001b[0;32m    180\u001b[0m         \u001b[1;32mif\u001b[0m \u001b[0my_type\u001b[0m \u001b[1;32mnot\u001b[0m \u001b[1;32min\u001b[0m \u001b[1;33m(\u001b[0m\u001b[1;34m\"binary\"\u001b[0m\u001b[1;33m,\u001b[0m \u001b[1;34m\"multilabel-indicator\"\u001b[0m\u001b[1;33m)\u001b[0m\u001b[1;33m:\u001b[0m\u001b[1;33m\u001b[0m\u001b[0m\n\u001b[1;32m--> 181\u001b[1;33m             \u001b[1;32mraise\u001b[0m \u001b[0mValueError\u001b[0m\u001b[1;33m(\u001b[0m\u001b[1;34m\"{0} format is not supported\"\u001b[0m\u001b[1;33m.\u001b[0m\u001b[0mformat\u001b[0m\u001b[1;33m(\u001b[0m\u001b[0my_type\u001b[0m\u001b[1;33m)\u001b[0m\u001b[1;33m)\u001b[0m\u001b[1;33m\u001b[0m\u001b[0m\n\u001b[0m\u001b[0;32m    182\u001b[0m \u001b[1;33m\u001b[0m\u001b[0m\n\u001b[0;32m    183\u001b[0m         \u001b[1;32mif\u001b[0m \u001b[0mis_regressor\u001b[0m\u001b[1;33m(\u001b[0m\u001b[0mclf\u001b[0m\u001b[1;33m)\u001b[0m\u001b[1;33m:\u001b[0m\u001b[1;33m\u001b[0m\u001b[0m\n",
      "\u001b[1;31mValueError\u001b[0m: multiclass format is not supported"
     ]
    }
   ],
   "source": [
    "# 代码2：\n",
    "from sklearn.model_selection import GridSearchCV\n",
    "parameters= [{'learning_rate':[0.01,0.1,0.3],'n_estimators':[1000,1200,1500,2000,2500]}]\n",
    "clf = GridSearchCV(XGBClassifier(\n",
    "             max_depth=3,\n",
    "             min_child_weight=1,\n",
    "             gamma=0.5,\n",
    "             subsample=0.6,\n",
    "             colsample_bytree=0.6,\n",
    "             objective= 'binary:logistic', #逻辑回归损失函数\n",
    "             scale_pos_weight=1,\n",
    "             reg_alpha=0,\n",
    "             reg_lambda=1,\n",
    "             seed=27\n",
    "            ),\n",
    "            param_grid=parameters,scoring='roc_auc') \n",
    "clf.fit(X_train, y_train)\n",
    "print(clf.best_params_) \n",
    "y_pre= clf.predict(X_test)\n",
    "y_pro= clf.predict_proba(X_test)[:,1]\n",
    "print(\"AUC Score : %f\" % metrics.roc_auc_score(y_test, y_pro))\n",
    "print(\"Accuracy : %.4g\" % metrics.accuracy_score(y_test, y_pre))"
   ]
  },
  {
   "cell_type": "markdown",
   "metadata": {},
   "source": [
    "### 补充：关于随机种子——random_state\n",
    "\n",
    "random_state是一个随机种子，是在任意带有随机性的类或者函数里作为参数来控制随机模式。random_state取某一个值的时候，也就确定了一种规则。\n",
    "\n",
    "random_state可以用于很多函数，比如训练集测试集的划分；构建决策树；构建随机森林\n",
    "\n",
    "1. 划分训练集和测试集的类train_test_split\n",
    "　　\n",
    "随机数种子控制每次划分训练集和测试集的模式，其取值不变时划分得到的结果一模一样，其值改变时，划分得到的结果不同。若不设置此参数，则函数会自动选择一种随机模式，得到的结果也就不同。\n",
    "\n",
    "2. 构建决策树的函数\n",
    "\n",
    ">clf = tree.DecisionTreeClassifier(criterion=\"entropy\",random_state=30,splitter=\"random\")\n",
    "\n",
    "    其取值不变时，用相同的训练集建树得到的结果一模一样，对测试集的预测结果也是一样的\n",
    "\n",
    "    其取值改变时，得到的结果不同；\n",
    "\n",
    "    若不设置此参数，则函数会自动选择一种随机模式，每次得到的结果也就不同。\n",
    "    \n",
    "3. 构建随机森林\n",
    "\n",
    ">clf = RandomForestClassifier(random_state=0)\n",
    "\n",
    "    其取值不变时，用相同的训练集建树得到的结果一模一样，对测试集的预测结果也是一样的\n",
    "\n",
    "    其取值改变时，得到的结果不同；\n",
    "\n",
    "    若不设置此参数，则函数会自动选择一种随机模式，每次得到的结果也就不同。\n",
    "    \n",
    "4. 总结\n",
    "\n",
    "在需要设置random_state的地方给其赋值，当多次运行此段代码得到完全一样的结果，别人运行代码也可以复现你的过程。若不设置此参数则会随机选择一个种子，执行结果也会因此不同。虽然可以对random_state进行调参，但是调参后再训练集上表现好的模型未必在陌生训练集上表现好，所以一般会随便选择一个random_state的值作为参数。\n",
    "\n",
    "对于那些本质上是随机的过程，我们有必要控制随机的状态，这样才能重复的展现相同的结果。如果对随机状态不加控制，那么实验的结果就无法固定，而是随机的显示。"
   ]
  },
  {
   "cell_type": "code",
   "execution_count": null,
   "metadata": {},
   "outputs": [],
   "source": []
  }
 ],
 "metadata": {
  "kernelspec": {
   "display_name": "Python 3",
   "language": "python",
   "name": "python3"
  },
  "language_info": {
   "codemirror_mode": {
    "name": "ipython",
    "version": 3
   },
   "file_extension": ".py",
   "mimetype": "text/x-python",
   "name": "python",
   "nbconvert_exporter": "python",
   "pygments_lexer": "ipython3",
   "version": "3.6.3"
  }
 },
 "nbformat": 4,
 "nbformat_minor": 2
}
